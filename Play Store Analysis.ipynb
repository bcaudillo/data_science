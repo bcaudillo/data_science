{
 "cells": [
  {
   "cell_type": "markdown",
   "metadata": {},
   "source": [
    "![display relevant image here](path/url/to/image)\n",
    "- Banner/header image\n",
    "\n",
    "# Title\n",
    "- Relevant to Data and Business Context\n",
    "\n",
    "## Overview\n",
    "- BLUF (Bottom Line Up Front)\n",
    "- One paragraph summary of findings and analysis\n",
    "- Frame your 'story'"
   ]
  },
  {
   "cell_type": "markdown",
   "metadata": {},
   "source": [
    "## Business Understanding\n",
    "- Set the stage for analysis\n",
    "- Why are these findings relevant/important?\n",
    "- Introduce stakeholders\n",
    "- Postulate about questions you want to ask/answer"
   ]
  },
  {
   "cell_type": "markdown",
   "metadata": {},
   "source": [
    "## Data Understanding\n",
    "- Present the source of data\n",
    "- Describe the data available\n",
    "- What is relevant to keep what is not\n",
    "- Present any data cleaning that needs to happen\n",
    "- Null values? Type mismatches? Duplicates?"
   ]
  },
  {
   "cell_type": "code",
   "execution_count": 9,
   "metadata": {
    "vscode": {
     "languageId": "plaintext"
    }
   },
   "outputs": [],
   "source": [
    "# Imports\n",
    "import os\n",
    "os.environ['JAVA_HOME'] = '/Library/Java/JavaVirtualMachines/jdk-20.jdk/Contents/Home' \n",
    "import findspark\n",
    "from pyspark.sql import SparkSession\n",
    "from pyspark import SparkConf, SparkContext\n",
    "from pyspark.sql.functions import col, isnan, when, count, desc,trim, regexp_replace, to_date\n",
    "\n",
    "\n",
    "findspark.init()\n",
    "conf = SparkConf().setAppName(\"Google PlayStore App Analysis\").setMaster(\"local[*]\")\n",
    "\n",
    "sc = SparkContext(conf=conf)\n",
    "spark = SparkSession.builder.config(conf=conf).getOrCreate()\n",
    "file_path = \"google play store apps dataset.csv\"\n",
    "\n",
    "df = spark.read.csv(file_path, header=True, inferSchema=True)\n",
    "df.createOrReplaceTempView(\"sales_data\")\n"
   ]
  },
  {
   "cell_type": "code",
   "execution_count": 10,
   "metadata": {
    "vscode": {
     "languageId": "plaintext"
    }
   },
   "outputs": [
    {
     "name": "stderr",
     "output_type": "stream",
     "text": [
      "                                                                                \r"
     ]
    },
    {
     "name": "stdout",
     "output_type": "stream",
     "text": [
      "+-------+--------------------+-------------+-----------+-----------------+------------------+------------------+-----+------------------+--------------+------+-----------------+-------------+------------------+\n",
      "|summary|                 App|     Category|     Rating|          Reviews|              Size|          Installs| Type|             Price|Content Rating|Genres|     Last Updated|  Current Ver|       Android Ver|\n",
      "+-------+--------------------+-------------+-----------+-----------------+------------------+------------------+-----+------------------+--------------+------+-----------------+-------------+------------------+\n",
      "|  count|               10841|        10841|      10841|            10841|             10841|             10841|10841|             10841|         10840| 10841|            10841|        10840|             10840|\n",
      "|   mean|                NULL|          1.9|        NaN|444225.1924709356|              NULL| 2.866666666666667|  NaN|               0.0|          NULL|  NULL|              0.0|          NaN|               NaN|\n",
      "| stddev|                NULL|         NULL|        NaN|2928025.838407947|              NULL|2.4846193538112304|  NaN|               0.0|          NULL|  NULL|              0.0|          NaN|               NaN|\n",
      "|    min|\"\"\"i DT\"\" Fútbol....| traffic jams| navigation|          camera\"|            1,000+|                 0|    0|             $0.99|    1,000,000+|Action|                0|      0.0.0.2|        1.0 and up|\n",
      "|    max|🔥 Football Wallp...|      WEATHER|        NaN|    weight lose)\"|Varies with device|              Free| Paid|Varies with device|       Unrated|  Word|September 9, 2017|version 0.994|Varies with device|\n",
      "+-------+--------------------+-------------+-----------+-----------------+------------------+------------------+-----+------------------+--------------+------+-----------------+-------------+------------------+\n",
      "\n",
      "+-----------+--------+\n",
      "|     Rating|num_apps|\n",
      "+-----------+--------+\n",
      "| navigation|       1|\n",
      "|        1.0|      16|\n",
      "|        1.2|       1|\n",
      "|        1.4|       3|\n",
      "|        1.5|       3|\n",
      "|        1.6|       4|\n",
      "|        1.7|       8|\n",
      "|        1.8|       8|\n",
      "|        1.9|      13|\n",
      "|         19|       1|\n",
      "|        2.0|      12|\n",
      "|        2.1|       8|\n",
      "|        2.2|      14|\n",
      "|        2.3|      20|\n",
      "|        2.4|      19|\n",
      "|        2.5|      21|\n",
      "|        2.6|      25|\n",
      "|        2.7|      25|\n",
      "|        2.8|      42|\n",
      "|        2.9|      45|\n",
      "+-----------+--------+\n",
      "only showing top 20 rows\n",
      "\n",
      "+------+-----+\n",
      "|  Type|count|\n",
      "+------+-----+\n",
      "|     0|    1|\n",
      "|102248|    1|\n",
      "|   NaN|    1|\n",
      "|  Free|10037|\n",
      "|  Paid|  800|\n",
      "|  2509|    1|\n",
      "+------+-----+\n",
      "\n",
      "+--------------------+------+-------+\n",
      "|                 App|Rating|Reviews|\n",
      "+--------------------+------+-------+\n",
      "|Voice Tables - no...|   NaN|    970|\n",
      "|  lesparticuliers.fr|   NaN|     96|\n",
      "|Gold Quote - Gold.fr|   NaN|     96|\n",
      "|Easy and Fast Rec...|   NaN|     95|\n",
      "|Recettes Faciles ...|   NaN|     95|\n",
      "|        Coomotaxi BH|   NaN|     94|\n",
      "|I will return his...|   NaN|     91|\n",
      "|       BS Where Am I|   NaN|      9|\n",
      "|         Aj Di Awaaz|   NaN|      9|\n",
      "|             BV MAAp|   NaN|      9|\n",
      "+--------------------+------+-------+\n",
      "\n",
      "+------------------+\n",
      "|         avg_price|\n",
      "+------------------+\n",
      "|13.920837499999855|\n",
      "+------------------+\n",
      "\n",
      "+-------------------+--------+\n",
      "|           Category|num_apps|\n",
      "+-------------------+--------+\n",
      "|             FAMILY|    1972|\n",
      "|               GAME|    1144|\n",
      "|              TOOLS|     843|\n",
      "|            MEDICAL|     463|\n",
      "|           BUSINESS|     460|\n",
      "|       PRODUCTIVITY|     424|\n",
      "|    PERSONALIZATION|     392|\n",
      "|      COMMUNICATION|     387|\n",
      "|             SPORTS|     384|\n",
      "|          LIFESTYLE|     382|\n",
      "|            FINANCE|     366|\n",
      "| HEALTH_AND_FITNESS|     340|\n",
      "|        PHOTOGRAPHY|     335|\n",
      "|             SOCIAL|     295|\n",
      "| NEWS_AND_MAGAZINES|     283|\n",
      "|           SHOPPING|     260|\n",
      "|   TRAVEL_AND_LOCAL|     258|\n",
      "|             DATING|     234|\n",
      "|BOOKS_AND_REFERENCE|     231|\n",
      "|      VIDEO_PLAYERS|     175|\n",
      "+-------------------+--------+\n",
      "only showing top 20 rows\n",
      "\n",
      "+---------------+-----+\n",
      "| Content Rating|count|\n",
      "+---------------+-----+\n",
      "|       Everyone| 8713|\n",
      "|           Teen| 1208|\n",
      "|     Mature 17+|  498|\n",
      "|   Everyone 10+|  414|\n",
      "|Adults only 18+|    3|\n",
      "|        Unrated|    2|\n",
      "|     5,000,000+|    1|\n",
      "|           NULL|    1|\n",
      "|     1,000,000+|    1|\n",
      "+---------------+-----+\n",
      "\n"
     ]
    },
    {
     "name": "stderr",
     "output_type": "stream",
     "text": [
      "                                                                                \r"
     ]
    },
    {
     "name": "stdout",
     "output_type": "stream",
     "text": [
      "+---+--------+------+-------+----+--------+----+-----+--------------+------+------------+-----------+-----------+\n",
      "|App|Category|Rating|Reviews|Size|Installs|Type|Price|Content Rating|Genres|Last Updated|Current Ver|Android Ver|\n",
      "+---+--------+------+-------+----+--------+----+-----+--------------+------+------------+-----------+-----------+\n",
      "|  0|       0|  1474|      0|   0|       0|   1|    0|             1|     0|           0|          8|          3|\n",
      "+---+--------+------+-------+----+--------+----+-----+--------------+------+------------+-----------+-----------+\n",
      "\n"
     ]
    },
    {
     "name": "stderr",
     "output_type": "stream",
     "text": [
      "                                                                                \r"
     ]
    },
    {
     "name": "stdout",
     "output_type": "stream",
     "text": [
      "Duplicate rows: 483\n",
      "root\n",
      " |-- App: string (nullable = true)\n",
      " |-- Category: string (nullable = true)\n",
      " |-- Rating: string (nullable = true)\n",
      " |-- Reviews: string (nullable = true)\n",
      " |-- Size: string (nullable = true)\n",
      " |-- Installs: string (nullable = true)\n",
      " |-- Type: string (nullable = true)\n",
      " |-- Price: string (nullable = true)\n",
      " |-- Content Rating: string (nullable = true)\n",
      " |-- Genres: string (nullable = true)\n",
      " |-- Last Updated: string (nullable = true)\n",
      " |-- Current Ver: string (nullable = true)\n",
      " |-- Android Ver: string (nullable = true)\n",
      "\n",
      "+-------------------+-----+\n",
      "|           Category|count|\n",
      "+-------------------+-----+\n",
      "|             FAMILY| 1972|\n",
      "|               GAME| 1144|\n",
      "|              TOOLS|  843|\n",
      "|            MEDICAL|  463|\n",
      "|           BUSINESS|  460|\n",
      "|       PRODUCTIVITY|  424|\n",
      "|    PERSONALIZATION|  392|\n",
      "|      COMMUNICATION|  387|\n",
      "|             SPORTS|  384|\n",
      "|          LIFESTYLE|  382|\n",
      "|            FINANCE|  366|\n",
      "| HEALTH_AND_FITNESS|  340|\n",
      "|        PHOTOGRAPHY|  335|\n",
      "|             SOCIAL|  295|\n",
      "| NEWS_AND_MAGAZINES|  283|\n",
      "|           SHOPPING|  260|\n",
      "|   TRAVEL_AND_LOCAL|  258|\n",
      "|             DATING|  234|\n",
      "|BOOKS_AND_REFERENCE|  231|\n",
      "|      VIDEO_PLAYERS|  175|\n",
      "+-------------------+-----+\n",
      "only showing top 20 rows\n",
      "\n",
      "+------+-----+\n",
      "|  Type|count|\n",
      "+------+-----+\n",
      "|  Free|10037|\n",
      "|  Paid|  800|\n",
      "|     0|    1|\n",
      "|102248|    1|\n",
      "|   NaN|    1|\n",
      "|  2509|    1|\n",
      "+------+-----+\n",
      "\n",
      "+---------------+-----+\n",
      "| Content Rating|count|\n",
      "+---------------+-----+\n",
      "|       Everyone| 8713|\n",
      "|           Teen| 1208|\n",
      "|     Mature 17+|  498|\n",
      "|   Everyone 10+|  414|\n",
      "|Adults only 18+|    3|\n",
      "|        Unrated|    2|\n",
      "|     5,000,000+|    1|\n",
      "|           NULL|    1|\n",
      "|     1,000,000+|    1|\n",
      "+---------------+-----+\n",
      "\n",
      "+-----------------+-----+\n",
      "|           Genres|count|\n",
      "+-----------------+-----+\n",
      "|            Tools|  842|\n",
      "|    Entertainment|  623|\n",
      "|        Education|  549|\n",
      "|          Medical|  463|\n",
      "|         Business|  460|\n",
      "|     Productivity|  424|\n",
      "|           Sports|  398|\n",
      "|  Personalization|  392|\n",
      "|    Communication|  387|\n",
      "|        Lifestyle|  381|\n",
      "|          Finance|  366|\n",
      "|           Action|  365|\n",
      "| Health & Fitness|  340|\n",
      "|      Photography|  335|\n",
      "|           Social|  295|\n",
      "| News & Magazines|  283|\n",
      "|         Shopping|  260|\n",
      "|   Travel & Local|  257|\n",
      "|           Dating|  234|\n",
      "|Books & Reference|  231|\n",
      "+-----------------+-----+\n",
      "only showing top 20 rows\n",
      "\n",
      "+--------------------+------+\n",
      "|                 App|Rating|\n",
      "+--------------------+------+\n",
      "|Life Made WI-Fi T...|    19|\n",
      "+--------------------+------+\n",
      "\n"
     ]
    },
    {
     "data": {
      "text/plain": [
       "['App',\n",
       " 'Category',\n",
       " 'Rating',\n",
       " 'Reviews',\n",
       " 'Size',\n",
       " 'Installs',\n",
       " 'Type',\n",
       " 'Price',\n",
       " 'Content Rating',\n",
       " 'Genres',\n",
       " 'Last Updated',\n",
       " 'Current Ver',\n",
       " 'Android Ver']"
      ]
     },
     "execution_count": 10,
     "metadata": {},
     "output_type": "execute_result"
    }
   ],
   "source": [
    "# --- Statistical Analysis ---\n",
    "\n",
    "# Descriptive statistics for numeric columns\n",
    "df.describe().show()\n",
    "\n",
    "# Value distribution for Ratings\n",
    "spark.sql(\"\"\"\n",
    "SELECT Rating, COUNT(*) as num_apps\n",
    "FROM sales_data\n",
    "WHERE Rating IS NOT NULL\n",
    "GROUP BY Rating\n",
    "ORDER BY Rating\n",
    "\"\"\").show()\n",
    "\n",
    "# Distribution of app types (Free vs Paid)\n",
    "spark.sql(\"\"\"\n",
    "SELECT Type, COUNT(*) as count\n",
    "FROM sales_data\n",
    "GROUP BY Type\n",
    "\"\"\").show()\n",
    "\n",
    "# Top-rated apps\n",
    "spark.sql(\"\"\"\n",
    "SELECT App, Rating, Reviews\n",
    "FROM sales_data\n",
    "WHERE Rating IS NOT NULL\n",
    "ORDER BY Rating DESC, Reviews DESC\n",
    "LIMIT 10\n",
    "\"\"\").show()\n",
    "\n",
    "# Average price of paid apps\n",
    "spark.sql(\"\"\"\n",
    "SELECT AVG(CAST(REPLACE(Price, '$', '') AS DOUBLE)) as avg_price\n",
    "FROM sales_data\n",
    "WHERE Type = 'Paid'\n",
    "\"\"\").show()\n",
    "\n",
    "# App count by category\n",
    "spark.sql(\"\"\"\n",
    "SELECT Category, COUNT(*) as num_apps\n",
    "FROM sales_data\n",
    "GROUP BY Category\n",
    "ORDER BY num_apps DESC\n",
    "\"\"\").show()\n",
    "\n",
    "# App count by content rating\n",
    "spark.sql(\"\"\"\n",
    "SELECT `Content Rating`, COUNT(*) as count\n",
    "FROM sales_data\n",
    "GROUP BY `Content Rating`\n",
    "ORDER BY count DESC\n",
    "\"\"\").show()\n",
    "\n",
    "\n",
    "# --- Data Quality Assessment ---\n",
    "\n",
    "from pyspark.sql.functions import col, isnan, when, count\n",
    "\n",
    "# Null values per column\n",
    "df.select([count(when(col(c).isNull() | isnan(c), c)).alias(c) for c in df.columns]).show()\n",
    "\n",
    "# Check for duplicate records\n",
    "print(\"Duplicate rows:\", df.count() - df.dropDuplicates().count())\n",
    "\n",
    "# Show inferred schema (data type consistency)\n",
    "df.printSchema()\n",
    "\n",
    "# Count of unique values per column (example: Category, Type, Content Rating)\n",
    "for column in [\"Category\", \"Type\", \"Content Rating\", \"Genres\"]:\n",
    "    spark.sql(f\"\"\"\n",
    "    SELECT `{column}`, COUNT(*) as count\n",
    "    FROM sales_data\n",
    "    GROUP BY `{column}`\n",
    "    ORDER BY count DESC\n",
    "    \"\"\").show()\n",
    "\n",
    "\n",
    "spark.sql(\"\"\"\n",
    "SELECT App, Rating\n",
    "FROM sales_data\n",
    "WHERE Rating > 5\n",
    "\"\"\").show()\n",
    "\n",
    "df.columns"
   ]
  },
  {
   "cell_type": "markdown",
   "metadata": {},
   "source": [
    "## Data Preparation\n",
    "\n"
   ]
  },
  {
   "cell_type": "code",
   "execution_count": 3,
   "metadata": {
    "vscode": {
     "languageId": "plaintext"
    }
   },
   "outputs": [
    {
     "name": "stdout",
     "output_type": "stream",
     "text": [
      "+---+--------+------+-------+----+--------+----+-----+--------------+------+------------+-----------+-----------+\n",
      "|App|Category|Rating|Reviews|Size|Installs|Type|Price|Content Rating|Genres|Last Updated|Current Ver|Android Ver|\n",
      "+---+--------+------+-------+----+--------+----+-----+--------------+------+------------+-----------+-----------+\n",
      "+---+--------+------+-------+----+--------+----+-----+--------------+------+------------+-----------+-----------+\n",
      "\n",
      "+---+--------+------+-------+----+--------+----+-----+--------------+------+------------+-----------+-----------+\n",
      "|App|Category|Rating|Reviews|Size|Installs|Type|Price|Content Rating|Genres|Last Updated|Current Ver|Android Ver|\n",
      "+---+--------+------+-------+----+--------+----+-----+--------------+------+------------+-----------+-----------+\n",
      "+---+--------+------+-------+----+--------+----+-----+--------------+------+------------+-----------+-----------+\n",
      "\n"
     ]
    }
   ],
   "source": [
    "\n",
    "# Data Prep Code Here\n",
    "df_cleaned = df \\\n",
    "    .withColumn(\"App\", trim(col(\"App\"))) \\\n",
    "    .withColumn(\"Category\", trim(col(\"Category\"))) \\\n",
    "    .withColumn(\"Genres\", trim(col(\"Genres\"))) \\\n",
    "    .withColumn(\"Reviews\", col(\"Reviews\").cast(\"int\")) \\\n",
    "    .withColumn(\"Rating\", col(\"Rating\").cast(\"float\")) \\\n",
    "    .withColumn(\"Price\", regexp_replace(\"Price\", \"[$]\", \"\").cast(\"float\")) \\\n",
    "    .withColumn(\"Installs\", regexp_replace(\"Installs\", \"[+,]\", \"\").cast(\"int\")) \\\n",
    "    .withColumn(\"Last Updated\", to_date(col(\"Last Updated\"), \"MMMM d, yyyy\"))\n",
    "\n",
    "\n",
    "df_cleaned = df_cleaned.dropDuplicates().dropna()\n",
    "df_cleaned.filter(col(\"Price\") < 0).show()\n",
    "df_cleaned.filter(col(\"Reviews\") < 0).show()\n"
   ]
  },
  {
   "cell_type": "code",
   "execution_count": 4,
   "metadata": {
    "vscode": {
     "languageId": "plaintext"
    }
   },
   "outputs": [
    {
     "name": "stderr",
     "output_type": "stream",
     "text": [
      "                                                                                \r"
     ]
    }
   ],
   "source": [
    "# Save cleaned data file for Tableau usage\n",
    "df_pd = df_cleaned.toPandas()\n",
    "df_pd.to_csv(\"cleaned_product_inventory.csv\", index=False)"
   ]
  },
  {
   "cell_type": "markdown",
   "metadata": {},
   "source": [
    "## Data Analysis"
   ]
  },
  {
   "cell_type": "markdown",
   "metadata": {},
   "source": [
    "### Link to Published Dashboard:\n",
    "https://public.tableau.com/app/profile/brandon.caudillo/viz/Book1_17469302263580/GooglePlayStoreInsights?publish=yes"
   ]
  },
  {
   "cell_type": "markdown",
   "metadata": {},
   "source": [
    "## Conclusion\n",
    "\n",
    "Markdown here"
   ]
  },
  {
   "cell_type": "code",
   "execution_count": 6,
   "metadata": {},
   "outputs": [],
   "source": [
    "sc.stop()\n"
   ]
  },
  {
   "cell_type": "code",
   "execution_count": null,
   "metadata": {},
   "outputs": [],
   "source": []
  },
  {
   "cell_type": "code",
   "execution_count": null,
   "metadata": {},
   "outputs": [],
   "source": []
  },
  {
   "cell_type": "code",
   "execution_count": null,
   "metadata": {},
   "outputs": [],
   "source": []
  },
  {
   "cell_type": "code",
   "execution_count": null,
   "metadata": {},
   "outputs": [],
   "source": []
  }
 ],
 "metadata": {
  "kernelspec": {
   "display_name": "Python 3 (ipykernel)",
   "language": "python",
   "name": "python3"
  },
  "language_info": {
   "codemirror_mode": {
    "name": "ipython",
    "version": 3
   },
   "file_extension": ".py",
   "mimetype": "text/x-python",
   "name": "python",
   "nbconvert_exporter": "python",
   "pygments_lexer": "ipython3",
   "version": "3.12.7"
  }
 },
 "nbformat": 4,
 "nbformat_minor": 4
}
