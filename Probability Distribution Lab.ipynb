{
 "cells": [
  {
   "cell_type": "markdown",
   "metadata": {},
   "source": [
    "# Probability and Distributions Lab:\n",
    "## Beverage Filling Process\n",
    "You're working as a junior quality analyst at a beverage company that produces 12-ounce soft drinks. The filling process naturally has some variation, and underfilled bottles lead to customer complaints while overfilled bottles waste product. Your supervisor has asked you to analyze the filling data. You will first address initial probability word problem questions using hypothetical data and the varying laws of probability. These scenarios represent potential uses of conditional probability and bayes theorem. \n",
    "\n",
    "Next you will move into conducting an analysis of fill data using properties of the normal distribution. Recent studies suggest that customers notice when bottles are underfilled by more than 0.3 ounces, while overfilling by more than 0.2 ounces impacts company profits. This information has been used to set quality control rejection limits of 11.7 and 12.2 oz. You'll need to analyze the fill amounts, determine if they follow a normal distribution, and establish if the company’s current fill process is within acceptable control limits. They would like to achieve a maximum rejection percentage of 5%.\n",
    "\n",
    "Your analysis needs to answer three key questions:\n",
    "- Does the filling process follow a normal distribution?\n",
    "- What are the probabilities of under-filling (less than 11.7 oz) or over-filling (more than 12.2 oz)?\n",
    "- Is the current fill process below the maximum rejection percentage of 5%?\n",
    "\n",
    "\n"
   ]
  },
  {
   "cell_type": "code",
   "execution_count": 22,
   "metadata": {},
   "outputs": [],
   "source": [
    "# CodeGrade step0\n",
    "# Run this cell without changes\n",
    "# Import required libraries\n",
    "import numpy as np\n",
    "import pandas as pd\n",
    "import matplotlib.pyplot as plt\n",
    "import scipy.stats as stats"
   ]
  },
  {
   "cell_type": "markdown",
   "metadata": {},
   "source": [
    "## Probability Word Problems\n",
    "\n",
    "\n",
    "### Scenario 1\n",
    "In your initial analysis of the filling process, you examine two production lines (A and B). When analyzing a day's data:\n",
    "\n",
    "- 40% of bottles come from Line A\n",
    "- 60% of bottles come from Line B\n",
    "- 3% of Line A bottles are outside specification limits\n",
    "- 2% of Line B bottles are outside specification limits\n",
    "\n",
    "If a bottle is randomly selected and found to be outside specification limits, what is the probability it came from Line A?"
   ]
  },
  {
   "cell_type": "code",
   "execution_count": 23,
   "metadata": {},
   "outputs": [
    {
     "data": {
      "text/plain": [
       "0.5"
      ]
     },
     "execution_count": 23,
     "metadata": {},
     "output_type": "execute_result"
    }
   ],
   "source": [
    "# CodeGrade step1\n",
    "pa = .4\n",
    "pb = .6\n",
    "poa = .3\n",
    "pob = .2\n",
    "\n",
    "total_prob_out_of_lim= oa * pa + pob * pb\n",
    "prob_one = oa*pa/total_prob_out_of_lim\n",
    "prob_one"
   ]
  },
  {
   "cell_type": "markdown",
   "metadata": {},
   "source": [
    "### Scenario 2\n",
    "Your team needs to assess a possible mechanical issue with Line A. From maintenance records and historical data, you know:\n",
    "\n",
    "- The baseline probability of Line A having a mechanical issue on any given day is 5% (prior probability)\n",
    "- When Line A has a mechanical issue, 80% of daily samples show high volume variability\n",
    "- When Line A is operating normally, only 10% of daily samples show high volume variability\n",
    "\n",
    "Today's quality report shows high volume variability in the samples. What is the probability that Line A has a mechanical issue?"
   ]
  },
  {
   "cell_type": "code",
   "execution_count": 24,
   "metadata": {},
   "outputs": [
    {
     "data": {
      "text/plain": [
       "0.29629629629629634"
      ]
     },
     "execution_count": 24,
     "metadata": {},
     "output_type": "execute_result"
    }
   ],
   "source": [
    "# CodeGrade step2\n",
    "p_issue = 0.05         \n",
    "p_normal = 0.95          \n",
    "\n",
    "p_var_given_issue = 0.80 \n",
    "p_var_given_normal = 0.10\n",
    "\n",
    "p_var_total = p_var_given_issue * p_issue + p_var_given_normal * p_normal\n",
    "\n",
    "prob_two = p_var_given_issue * p_issue / p_var_total\n",
    "prob_two"
   ]
  },
  {
   "cell_type": "markdown",
   "metadata": {},
   "source": [
    "### Scenario 3\n",
    "The quality team has implemented a new inspection system that takes two measurements of each bottle. From analyzing recent data:\n",
    "\n",
    "- 95% of truly underfilled bottles (<11.7 oz) are correctly identified as underfilled on the first measurement\n",
    "- 98% of properly filled bottles are correctly identified as proper on the first measurement\n",
    "- If a bottle fails the first measurement, it is measured again\n",
    "- 90% of truly underfilled bottles are identified correctly on the second measurement\n",
    "- 95% of properly filled bottles are identified correctly on the second measurement\n",
    "- 3% of all bottles are underfilled based on prior information\n",
    "\n",
    "If a bottle fails both measurements, what is the probability that it is actually underfilled? Treat each test as independent. \n",
    "\n",
    "This problem involves multiple conditional probabilities. \n",
    "\n",
    "Use Bayes' Theorem:\n",
    "\n",
    "P(Underfilled | Both Fail) = P(Both Fail | Underfilled) × P(Underfilled) / P(Both Fail)"
   ]
  },
  {
   "cell_type": "code",
   "execution_count": 25,
   "metadata": {},
   "outputs": [
    {
     "data": {
      "text/plain": [
       "0.9635612321562735"
      ]
     },
     "execution_count": 25,
     "metadata": {},
     "output_type": "execute_result"
    }
   ],
   "source": [
    "# CodeGrade step3\n",
    "# CodeGrade step3\n",
    "\n",
    "# Prior probabilities\n",
    "p_underfilled = 0.03\n",
    "p_proper = 0.97\n",
    "\n",
    "# Test failure probabilities\n",
    "p_fail1_given_under = 0.95\n",
    "p_fail1_given_proper = 0.02\n",
    "p_fail2_given_under = 0.90\n",
    "p_fail2_given_proper = 0.05\n",
    "\n",
    "# Joint probabilities of failing both tests\n",
    "p_both_fail_given_under = p_fail1_given_under * p_fail2_given_under\n",
    "p_both_fail_given_proper = p_fail1_given_proper * p_fail2_given_proper\n",
    "\n",
    "# Total probability of both failures\n",
    "p_both_fail = p_both_fail_given_under * p_underfilled + p_both_fail_given_proper * p_proper\n",
    "\n",
    "# Posterior using Bayes' Theorem\n",
    "prob_three = (p_both_fail_given_under * p_underfilled) / p_both_fail\n",
    "prob_three\n"
   ]
  },
  {
   "cell_type": "markdown",
   "metadata": {},
   "source": [
    "## Data Analysis Setup"
   ]
  },
  {
   "cell_type": "markdown",
   "metadata": {},
   "source": [
    "### Load in the Data\n",
    "\n",
    "Load the bottle_fills.csv file using pandas."
   ]
  },
  {
   "cell_type": "code",
   "execution_count": 26,
   "metadata": {},
   "outputs": [],
   "source": [
    "# CodeGrade step4\n",
    "# Your code to load the data\n",
    "data_df = pd.read_csv(\"Bottle Fills.csv\")"
   ]
  },
  {
   "cell_type": "markdown",
   "metadata": {},
   "source": [
    "### Examine the data (basic statistics)\n",
    "\n",
    "Examine the dataset and create visualizations to understand the distribution."
   ]
  },
  {
   "cell_type": "code",
   "execution_count": 27,
   "metadata": {},
   "outputs": [
    {
     "data": {
      "text/html": [
       "<div>\n",
       "<style scoped>\n",
       "    .dataframe tbody tr th:only-of-type {\n",
       "        vertical-align: middle;\n",
       "    }\n",
       "\n",
       "    .dataframe tbody tr th {\n",
       "        vertical-align: top;\n",
       "    }\n",
       "\n",
       "    .dataframe thead th {\n",
       "        text-align: right;\n",
       "    }\n",
       "</style>\n",
       "<table border=\"1\" class=\"dataframe\">\n",
       "  <thead>\n",
       "    <tr style=\"text-align: right;\">\n",
       "      <th></th>\n",
       "      <th>fill_amount</th>\n",
       "    </tr>\n",
       "  </thead>\n",
       "  <tbody>\n",
       "    <tr>\n",
       "      <th>count</th>\n",
       "      <td>1000.000000</td>\n",
       "    </tr>\n",
       "    <tr>\n",
       "      <th>mean</th>\n",
       "      <td>12.027233</td>\n",
       "    </tr>\n",
       "    <tr>\n",
       "      <th>std</th>\n",
       "      <td>0.108352</td>\n",
       "    </tr>\n",
       "    <tr>\n",
       "      <th>min</th>\n",
       "      <td>11.611045</td>\n",
       "    </tr>\n",
       "    <tr>\n",
       "      <th>25%</th>\n",
       "      <td>11.958052</td>\n",
       "    </tr>\n",
       "    <tr>\n",
       "      <th>50%</th>\n",
       "      <td>12.028160</td>\n",
       "    </tr>\n",
       "    <tr>\n",
       "      <th>75%</th>\n",
       "      <td>12.091863</td>\n",
       "    </tr>\n",
       "    <tr>\n",
       "      <th>max</th>\n",
       "      <td>12.888700</td>\n",
       "    </tr>\n",
       "  </tbody>\n",
       "</table>\n",
       "</div>"
      ],
      "text/plain": [
       "       fill_amount\n",
       "count  1000.000000\n",
       "mean     12.027233\n",
       "std       0.108352\n",
       "min      11.611045\n",
       "25%      11.958052\n",
       "50%      12.028160\n",
       "75%      12.091863\n",
       "max      12.888700"
      ]
     },
     "execution_count": 27,
     "metadata": {},
     "output_type": "execute_result"
    }
   ],
   "source": [
    "# CodeGrade step5\n",
    "# Quick and dirty look using pandas to get summary statistics\n",
    "basic_stats_describe = data_df.describe()\n",
    "basic_stats_describe"
   ]
  },
  {
   "cell_type": "code",
   "execution_count": 28,
   "metadata": {},
   "outputs": [
    {
     "data": {
      "image/png": "[encoded data removed]",
      "text/plain": [
       "<Figure size 1000x600 with 1 Axes>"
      ]
     },
     "metadata": {},
     "output_type": "display_data"
    }
   ],
   "source": [
    "# CodeGrade step6\n",
    "# Create a histogram with normal curve overlay\n",
    "bins = 'auto'\n",
    "data = data_df['fill_amount']\n",
    "\n",
    "# Create histogram using plt.hist()\n",
    "plt.figure(figsize=(10, 6))\n",
    "histogram_answer = plt.hist(data)\n",
    "\n",
    "# Calculate parameters for normal distribution overlay (use data variable or basic_stats_describe object)\n",
    "mean = data.mean()\n",
    "std = data.std()\n",
    "\n",
    "# Add normal curve overlay using plt.plot()\n",
    "x = np.sort(data)\n",
    "normal_overlay_answer = stats.norm.pdf(x, mean, std)\n",
    "\n",
    "# Display visual\n",
    "plt.title('Distribution of Bottle Fill Amounts')\n",
    "plt.xlabel('Fill Amount (oz)')\n",
    "plt.ylabel('Frequency')\n",
    "plt.grid(True, alpha=0.3)\n",
    "plt.show()"
   ]
  },
  {
   "cell_type": "markdown",
   "metadata": {},
   "source": [
    "### Verify Empirical Rule Application\n",
    "Now let's verify if our data follows a normal distribution using the Empirical Rule."
   ]
  },
  {
   "cell_type": "code",
   "execution_count": 29,
   "metadata": {},
   "outputs": [],
   "source": [
    "# CodeGrade step7\n",
    "data = data_df['fill_amount']\n",
    "mean = np.mean(data)\n",
    "std = np.std(data)\n",
    "\n",
    "# Calculate percentage of data within 1, 2, and 3 standard deviations\n",
    "one_sd = None  \n",
    "two_sd = None  \n",
    "three_sd = None  "
   ]
  },
  {
   "cell_type": "code",
   "execution_count": 30,
   "metadata": {},
   "outputs": [
    {
     "name": "stdout",
     "output_type": "stream",
     "text": [
      "None None None\n"
     ]
    }
   ],
   "source": [
    "# Run this cell without changes to verify\n",
    "print(one_sd, two_sd, three_sd)"
   ]
  },
  {
   "cell_type": "markdown",
   "metadata": {},
   "source": [
    "While this isn't perfectly normal according to the empirical rule (no real world data is), based on our histogram above and these calculations our data is 'normal enough' to continue."
   ]
  },
  {
   "cell_type": "markdown",
   "metadata": {},
   "source": [
    "## Quality Control Analysis\n",
    "\n",
    "Calculate probabilities of underfilling and overfilling based on specifications.\n",
    "\n",
    "Key considerations:\n",
    "- Customers notice when bottles are underfilled by more than 0.3 ounces\n",
    "- Overfilling by more than 0.2 ounces impacts company profits\n",
    "- You need to analyze fill amounts, verify normal distribution, and compare fills to expected rejections\n",
    "\n",
    "### Probability of Underfilling"
   ]
  },
  {
   "cell_type": "code",
   "execution_count": 33,
   "metadata": {},
   "outputs": [],
   "source": [
    "# CodeGrade step8\n",
    "# Target fill amount is 12 oz\n",
    "data = data_df['fill_amount']\n",
    "mean = np.mean(data)\n",
    "std = np.std(data)\n",
    "\n",
    "# Calculate probability of underfilling (< 11.7 oz)\n",
    "z_score_under = (11.7 - mean) / std\n",
    "\n",
    "# Use normal distribution to calculate probability (times by 100 for percentage numbers)\n",
    "underfill_prob = stats.norm.cdf(z_score_under) * 100"
   ]
  },
  {
   "cell_type": "markdown",
   "metadata": {},
   "source": [
    "### Probability of Overfilling"
   ]
  },
  {
   "cell_type": "code",
   "execution_count": 34,
   "metadata": {},
   "outputs": [],
   "source": [
    "# CodeGrade step9\n",
    "# Target fill amount is 12 oz\n",
    "data = data_df['fill_amount']\n",
    "mean = np.mean(data)\n",
    "std = np.std(data)\n",
    "\n",
    "# Calculate probability of overfilling (> 12.2 oz)\n",
    "z_score_over = (12.2 - mean) / std\n",
    "\n",
    "# Use normal distribution to calculate probability (times by 100 for percentage numbers)\n",
    "overfill_prob = (1 - stats.norm.cdf(z_score_over)) * 100"
   ]
  },
  {
   "cell_type": "markdown",
   "metadata": {},
   "source": [
    "### Acceptable Limits"
   ]
  },
  {
   "cell_type": "code",
   "execution_count": 37,
   "metadata": {},
   "outputs": [],
   "source": [
    "# CodeGrade step10\n",
    "data = data_df['fill_amount']\n",
    "mean = np.mean(data)\n",
    "std = np.std(data)\n",
    "\n",
    "lower_limit = 11.7\n",
    "upper_limit = 12.2\n",
    "\n",
    "# Calculate cumulative probabilities\n",
    "p_lower = stats.norm.cdf((lower_limit - mean) / std)\n",
    "p_upper = stats.norm.cdf((upper_limit - mean) / std)\n",
    "\n",
    "# Calculate percentage of bottles within acceptable limits\n",
    "acceptable_percentage = acceptable_percentage = (p_upper - p_lower) * 100\n"
   ]
  },
  {
   "cell_type": "markdown",
   "metadata": {},
   "source": [
    "## Recommendations\n",
    "\n",
    "### Total Rejection Rate\n",
    "Does the current process meets the 5% rejection expectation?\n",
    "\n"
   ]
  },
  {
   "cell_type": "code",
   "execution_count": 38,
   "metadata": {},
   "outputs": [
    {
     "data": {
      "text/plain": [
       "False"
      ]
     },
     "execution_count": 38,
     "metadata": {},
     "output_type": "execute_result"
    }
   ],
   "source": [
    "# CodeGrade step11\n",
    "excepted_rate = 5\n",
    "\n",
    "# Rate of not accectable fills (can use answers above to calculate)\n",
    "total_rejection_rate = (p_lower + (1 - p_upper)) * 100\n",
    "\n",
    "met_expectations = excepted_rate > total_rejection_rate\n",
    "met_expectations"
   ]
  },
  {
   "cell_type": "markdown",
   "metadata": {},
   "source": [
    "## Submission Instructions\n",
    "\n",
    "1. Make sure all variable initially assigned as 'None' have been filled in with appropriate code or values\n",
    "2. Run all cells to verify your code works without errors\n",
    "3. Save and submit your completed notebook to CG via the canvas assignment page"
   ]
  }
 ],
 "metadata": {
  "kernelspec": {
   "display_name": "Python 3 (ipykernel)",
   "language": "python",
   "name": "python3"
  },
  "language_info": {
   "codemirror_mode": {
    "name": "ipython",
    "version": 3
   },
   "file_extension": ".py",
   "mimetype": "text/x-python",
   "name": "python",
   "nbconvert_exporter": "python",
   "pygments_lexer": "ipython3",
   "version": "3.12.7"
  }
 },
 "nbformat": 4,
 "nbformat_minor": 4
}
