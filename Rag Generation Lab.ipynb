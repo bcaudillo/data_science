{
 "cells": [
  {
   "cell_type": "markdown",
   "metadata": {},
   "source": [
    "# Healthcare RAG System Lab\n",
    "## Overview\n",
    "\n",
    "In this lab, you'll take on the role of a junior data scientist at a healthcare technology company that specializes in creating educational resources for patients. Your team has been tasked with developing a system that can automatically generate informative responses to common patient questions about medical conditions, treatments, and wellness practices.\n",
    "\n",
    "The challenge is to ensure these responses are both accurate and grounded in authoritative medical information. Your specific assignment is to implement a Retrieval-Augmented Generation (RAG) system that can:\n",
    "1. Understand patient questions about various health topics\n",
    "2. Retrieve relevant information from a trusted knowledge base\n",
    "3. Generate helpful, accurate responses based on that information\n",
    "4. Avoid \"hallucinated\" content that could potentially misinform patients\n",
    "\n",
    "This lab follows the generative AI implementation process we've studied, with particular focus on:\n",
    "- Data Strategy and Knowledge Foundation\n",
    "- Model Selection and Generation Control\n",
    "- Evaluation Framework Development\n",
    "\n",
    "## Setup\n",
    "\n",
    "First, let's import the necessary libraries:"
   ]
  },
  {
   "cell_type": "code",
   "execution_count": 13,
   "metadata": {},
   "outputs": [
    {
     "name": "stdout",
     "output_type": "stream",
     "text": [
      "Using device: cpu\n"
     ]
    }
   ],
   "source": [
    "import torch\n",
    "import pandas as pd\n",
    "import numpy as np\n",
    "import re\n",
    "from transformers import AutoModelForCausalLM, AutoTokenizer\n",
    "from sentence_transformers import SentenceTransformer\n",
    "from sklearn.metrics.pairwise import cosine_similarity\n",
    "\n",
    "# Check if CUDA is available\n",
    "device = \"cuda\" if torch.cuda.is_available() else \"cpu\"\n",
    "print(f\"Using device: {device}\")"
   ]
  },
  {
   "cell_type": "markdown",
   "metadata": {},
   "source": [
    "## Part 1: Knowledge Base Setup\n",
    "\n",
    "Let's create a sample medical knowledge base with information about common health conditions, treatments, and wellness practices:"
   ]
  },
  {
   "cell_type": "code",
   "execution_count": 14,
   "metadata": {},
   "outputs": [
    {
     "name": "stdout",
     "output_type": "stream",
     "text": [
      "Knowledge base loaded with 10 entries\n"
     ]
    },
    {
     "data": {
      "text/html": [
       "<div>\n",
       "<style scoped>\n",
       "    .dataframe tbody tr th:only-of-type {\n",
       "        vertical-align: middle;\n",
       "    }\n",
       "\n",
       "    .dataframe tbody tr th {\n",
       "        vertical-align: top;\n",
       "    }\n",
       "\n",
       "    .dataframe thead th {\n",
       "        text-align: right;\n",
       "    }\n",
       "</style>\n",
       "<table border=\"1\" class=\"dataframe\">\n",
       "  <thead>\n",
       "    <tr style=\"text-align: right;\">\n",
       "      <th></th>\n",
       "      <th>content</th>\n",
       "      <th>metadata</th>\n",
       "    </tr>\n",
       "  </thead>\n",
       "  <tbody>\n",
       "    <tr>\n",
       "      <th>0</th>\n",
       "      <td>Diabetes is a chronic condition that affects h...</td>\n",
       "      <td>{'topic': 'diabetes', 'subtopic': 'overview', ...</td>\n",
       "    </tr>\n",
       "    <tr>\n",
       "      <th>1</th>\n",
       "      <td>Type 1 diabetes is an autoimmune reaction that...</td>\n",
       "      <td>{'topic': 'diabetes', 'subtopic': 'type1', 'so...</td>\n",
       "    </tr>\n",
       "  </tbody>\n",
       "</table>\n",
       "</div>"
      ],
      "text/plain": [
       "                                             content  \\\n",
       "0  Diabetes is a chronic condition that affects h...   \n",
       "1  Type 1 diabetes is an autoimmune reaction that...   \n",
       "\n",
       "                                            metadata  \n",
       "0  {'topic': 'diabetes', 'subtopic': 'overview', ...  \n",
       "1  {'topic': 'diabetes', 'subtopic': 'type1', 'so...  "
      ]
     },
     "execution_count": 14,
     "metadata": {},
     "output_type": "execute_result"
    }
   ],
   "source": [
    "# Create a sample medical knowledge base\n",
    "knowledge_base = pd.DataFrame({\n",
    "    'content': [\n",
    "        \"Diabetes is a chronic condition that affects how your body turns food into energy. There are three main types: Type 1, Type 2, and gestational diabetes. Type 2 diabetes is the most common form, accounting for about 90-95% of diabetes cases.\",\n",
    "        \"Type 1 diabetes is an autoimmune reaction that stops your body from making insulin. Symptoms include increased thirst, frequent urination, hunger, fatigue, and blurred vision. It's usually diagnosed in children, teens, and young adults.\",\n",
    "        \"Type 2 diabetes occurs when your body becomes resistant to insulin or doesn't make enough insulin. Risk factors include being overweight, being 45 years or older, having a parent or sibling with type 2 diabetes, and being physically active less than 3 times a week.\",\n",
    "        \"Managing diabetes involves monitoring blood sugar levels, taking medications as prescribed, eating a healthy diet, maintaining a healthy weight, and getting regular physical activity. It's important to work with healthcare providers to develop a management plan.\",\n",
    "        \"Hypertension, or high blood pressure, is when the force of blood pushing against the walls of your arteries is consistently too high. It's often called the 'silent killer' because it typically has no symptoms but significantly increases the risk of heart disease and stroke.\",\n",
    "        \"Blood pressure is measured using two numbers: systolic (top number) and diastolic (bottom number). Normal blood pressure is less than 120/80 mm Hg. Hypertension is diagnosed when readings are consistently 130/80 mm Hg or higher.\",\n",
    "        \"Lifestyle changes to manage hypertension include reducing sodium in your diet, getting regular physical activity, maintaining a healthy weight, limiting alcohol, quitting smoking, and managing stress. Medications may also be prescribed if lifestyle changes aren't enough.\",\n",
    "        \"Regular physical activity offers numerous health benefits, including weight management, reduced risk of heart disease, strengthened bones and muscles, improved mental health, and enhanced ability to perform daily activities. Adults should aim for at least 150 minutes of moderate-intensity activity per week.\",\n",
    "        \"A balanced diet should include a variety of fruits, vegetables, whole grains, lean proteins, and healthy fats. It's recommended to limit intake of added sugars, sodium, saturated fats, and processed foods. Proper nutrition helps prevent chronic diseases and supports overall health.\",\n",
    "        \"Vaccination is one of the most effective ways to prevent infectious diseases. Vaccines work by helping the body recognize and fight specific pathogens. Common adult vaccines include influenza (flu), Tdap (tetanus, diphtheria, pertussis), shingles, and pneumococcal vaccines.\"\n",
    "    ],\n",
    "    'metadata': [\n",
    "        {'topic': 'diabetes', 'subtopic': 'overview', 'source': 'medical_guidelines', 'last_updated': '2023-06-10'},\n",
    "        {'topic': 'diabetes', 'subtopic': 'type1', 'source': 'medical_guidelines', 'last_updated': '2023-06-10'},\n",
    "        {'topic': 'diabetes', 'subtopic': 'type2', 'source': 'medical_guidelines', 'last_updated': '2023-06-10'},\n",
    "        {'topic': 'diabetes', 'subtopic': 'management', 'source': 'medical_guidelines', 'last_updated': '2023-06-10'},\n",
    "        {'topic': 'hypertension', 'subtopic': 'overview', 'source': 'medical_guidelines', 'last_updated': '2023-07-22'},\n",
    "        {'topic': 'hypertension', 'subtopic': 'diagnosis', 'source': 'medical_guidelines', 'last_updated': '2023-07-22'},\n",
    "        {'topic': 'hypertension', 'subtopic': 'management', 'source': 'medical_guidelines', 'last_updated': '2023-07-22'},\n",
    "        {'topic': 'wellness', 'subtopic': 'physical_activity', 'source': 'health_promotion', 'last_updated': '2023-05-15'},\n",
    "        {'topic': 'wellness', 'subtopic': 'nutrition', 'source': 'health_promotion', 'last_updated': '2023-05-15'},\n",
    "        {'topic': 'prevention', 'subtopic': 'vaccination', 'source': 'medical_guidelines', 'last_updated': '2023-08-05'}\n",
    "    ]\n",
    "})\n",
    "\n",
    "print(f\"Knowledge base loaded with {len(knowledge_base)} entries\")\n",
    "knowledge_base.head(2)"
   ]
  },
  {
   "cell_type": "markdown",
   "metadata": {},
   "source": [
    "### Task 1: Create Document Embeddings\n",
    "\n",
    "Complete the function below to create embeddings for each document in the knowledge base. These embeddings will be used to find relevant documents based on patient queries."
   ]
  },
  {
   "cell_type": "code",
   "execution_count": 15,
   "metadata": {},
   "outputs": [
    {
     "data": {
      "application/vnd.jupyter.widget-view+json": {
       "model_id": "bc6591b2c1664ce2875195af612cddda",
       "version_major": 2,
       "version_minor": 0
      },
      "text/plain": [
       "Batches:   0%|          | 0/1 [00:00<?, ?it/s]"
      ]
     },
     "metadata": {},
     "output_type": "display_data"
    },
    {
     "name": "stdout",
     "output_type": "stream",
     "text": [
      "Generated embeddings with shape: (10, 768)\n"
     ]
    }
   ],
   "source": [
    "\n",
    "def create_document_embeddings(documents):\n",
    "    \"\"\"\n",
    "    Create embeddings for a list of documents.\n",
    "    \n",
    "    Args:\n",
    "        documents: List of text documents to embed\n",
    "        \n",
    "    Returns:\n",
    "        Numpy array of document embeddings\n",
    "    \"\"\"\n",
    "    # Initialize a sentence transformer model\n",
    "    embedding_model = SentenceTransformer('all-mpnet-base-v2')\n",
    "    \n",
    "    # Generate embeddings for all documents\n",
    "    # convert_to_numpy=True returns a NumPy array; show_progress_bar gives feedback\n",
    "    document_embeddings = embedding_model.encode(\n",
    "        documents,\n",
    "        convert_to_numpy=True,\n",
    "        show_progress_bar=True\n",
    "    )\n",
    "    \n",
    "    return document_embeddings\n",
    "\n",
    "# Extract document content\n",
    "documents = knowledge_base['content'].tolist()\n",
    "\n",
    "# Create document embeddings\n",
    "document_embeddings = create_document_embeddings(documents)\n",
    "\n",
    "# Verify the shape of embeddings\n",
    "if document_embeddings is not None:\n",
    "    print(f\"Generated embeddings with shape: {document_embeddings.shape}\")\n",
    "else:\n",
    "    print(\"Embeddings not created yet.\")\n"
   ]
  },
  {
   "cell_type": "markdown",
   "metadata": {},
   "source": [
    "## Part 2: Implementing the Retrieval Component\n",
    "\n",
    "Now, let's implement the function to retrieve relevant documents based on a patient query."
   ]
  },
  {
   "cell_type": "code",
   "execution_count": 16,
   "metadata": {},
   "outputs": [
    {
     "name": "stdout",
     "output_type": "stream",
     "text": [
      "Query: What are the symptoms of Type 1 diabetes?\n",
      "\n",
      "Retrieved Documents:\n",
      "1. [0.7585] Type 1 diabetes is an autoimmune reaction that stops your body from making insulin. Symptoms include...\n",
      "   Topic: diabetes, Subtopic: type1\n",
      "2. [0.4625] Diabetes is a chronic condition that affects how your body turns food into energy. There are three m...\n",
      "   Topic: diabetes, Subtopic: overview\n"
     ]
    }
   ],
   "source": [
    "def retrieve_documents(query, embeddings, contents, metadata, top_k=3, threshold=0.3):\n",
    "    \"\"\"\n",
    "    Retrieve the most relevant documents for a given query.\n",
    "    \n",
    "    Args:\n",
    "        query: The patient's question\n",
    "        embeddings: The precomputed document embeddings\n",
    "        contents: The text content of the documents\n",
    "        metadata: The metadata for each document\n",
    "        top_k: Maximum number of documents to retrieve\n",
    "        threshold: Minimum similarity score to include a document\n",
    "        \n",
    "    Returns:\n",
    "        List of (content, metadata, similarity_score) tuples\n",
    "    \"\"\"\n",
    "    # Get or initialize the embedding model (same as in create_document_embeddings)\n",
    "    embedding_model = SentenceTransformer('all-mpnet-base-v2')\n",
    "    \n",
    "    # Embed the query\n",
    "    query_embedding = embedding_model.encode(\n",
    "        [query],            # single‐item list\n",
    "        convert_to_numpy=True\n",
    "    )\n",
    "        \n",
    "    # Calculate similarity scores between query and all documents\n",
    "    # Hint: Use cosine_similarity\n",
    "    similarities = cosine_similarity(query_embedding, embeddings)[0]\n",
    "    \n",
    "    # Filter by threshold and get top k results\n",
    "    # Hint: Use list comprehension, sorting, and slicing\n",
    "    valid_idxs = np.where(similarities >= threshold)[0]\n",
    "    top_idxs = valid_idxs[np.argsort(similarities[valid_idxs])[::-1]][:top_k]\n",
    "\n",
    "    # Return the top documents with their metadata and scores\n",
    "    results = [\n",
    "        (contents[i], metadata[i], float(similarities[i]))\n",
    "        for i in top_idxs\n",
    "    ]\n",
    "    return results\n",
    "\n",
    "\n",
    "\n",
    "# Test the retrieval function with a sample query\n",
    "if document_embeddings is not None:\n",
    "    sample_query = \"What are the symptoms of Type 1 diabetes?\"\n",
    "    retrieved_docs = retrieve_documents(\n",
    "        query=sample_query,\n",
    "        embeddings=document_embeddings,\n",
    "        contents=documents,\n",
    "        metadata=knowledge_base['metadata'].tolist(),\n",
    "        top_k=2\n",
    "    )\n",
    "    \n",
    "    print(f\"Query: {sample_query}\")\n",
    "    print(\"\\nRetrieved Documents:\")\n",
    "    for i, (content, meta, score) in enumerate(retrieved_docs):\n",
    "        print(f\"{i+1}. [{score:.4f}] {content[:100]}...\")\n",
    "        print(f\"   Topic: {meta['topic']}, Subtopic: {meta['subtopic']}\")\n",
    "else:\n",
    "    print(\"Cannot test retrieval without document embeddings.\")"
   ]
  },
  {
   "cell_type": "markdown",
   "metadata": {},
   "source": [
    "## Part 3: Building the Generation Component\n",
    "\n",
    "Now, let's implement the generation component that will use the retrieved documents to create informative responses."
   ]
  },
  {
   "cell_type": "code",
   "execution_count": 17,
   "metadata": {},
   "outputs": [
    {
     "name": "stdout",
     "output_type": "stream",
     "text": [
      "Initialized gpt2 with 124439808 parameters\n"
     ]
    }
   ],
   "source": [
    "# Initialize the generative model\n",
    "def initialize_generator(model_name=\"gpt2\"):\n",
    "    \"\"\"\n",
    "    Initialize the generative model and tokenizer.\n",
    "    \n",
    "    Args:\n",
    "        model_name: Name of the pretrained model to use\n",
    "        \n",
    "    Returns:\n",
    "        Tokenizer and model objects\n",
    "    \"\"\"\n",
    "    # Load the tokenizer and model\n",
    "    tokenizer = AutoTokenizer.from_pretrained(model_name)\n",
    "    model     = AutoModelForCausalLM.from_pretrained(model_name)\n",
    "    \n",
    "    \n",
    "    # Set padding token if needed\n",
    "    # Check if pad_token exists, if not set it to eos_token\n",
    "    if tokenizer.pad_token is None:\n",
    "        tokenizer.pad_token = tokenizer.eos_token\n",
    "        model.config.pad_token_id = tokenizer.eos_token_id\n",
    "    \n",
    "    return tokenizer, model\n",
    "\n",
    "# Initialize the generator\n",
    "tokenizer, model = initialize_generator()\n",
    "if tokenizer and model:\n",
    "    print(f\"Initialized {model.config._name_or_path} with {model.num_parameters()} parameters\")"
   ]
  },
  {
   "cell_type": "code",
   "execution_count": 18,
   "metadata": {},
   "outputs": [
    {
     "name": "stdout",
     "output_type": "stream",
     "text": [
      "\n",
      "Query: What are the different types of diabetes?\n",
      "\n",
      "Retrieved Documents:\n",
      "1. [0.7130] Topic: diabetes, Subtopic: overview\n",
      "2. [0.6430] Topic: diabetes, Subtopic: type1\n",
      "3. [0.6042] Topic: diabetes, Subtopic: type2\n",
      "\n",
      "Generated Response:\n",
      "Diabetes can affect your ability to get insulin. If you have diabetes, your doctor can't help you get insulin. If you have a medical condition that can cause diabetes\n",
      "--------------------------------------------------------------------------------\n",
      "\n",
      "Query: How can I manage my high blood pressure through lifestyle changes?\n",
      "\n",
      "Retrieved Documents:\n",
      "1. [0.7775] Topic: hypertension, Subtopic: management\n",
      "2. [0.4690] Topic: hypertension, Subtopic: overview\n",
      "3. [0.4077] Topic: hypertension, Subtopic: diagnosis\n",
      "\n",
      "Generated Response:\n",
      "There are three ways to manage hypertension:\n",
      "\n",
      "You can take steps to reduce blood pressure through diet or exercise.\n",
      "\n",
      "You can take steps to reduce blood pressure through lifestyle changes.\n",
      "\n",
      "You can take steps to manage blood pressure through physical activity.\n",
      "\n",
      "You can take steps to manage blood pressure through physical activity.\n",
      "\n",
      "You can take steps to manage blood pressure through your medication.\n",
      "\n",
      "You can take steps to manage blood pressure through your exercise program.\n",
      "\n",
      "How do I manage\n",
      "--------------------------------------------------------------------------------\n",
      "\n",
      "Query: Why is regular physical activity important for health?\n",
      "\n",
      "Retrieved Documents:\n",
      "1. [0.7906] Topic: wellness, Subtopic: physical_activity\n",
      "2. [0.3873] Topic: wellness, Subtopic: nutrition\n",
      "\n",
      "Generated Response:\n",
      "Regular physical activity is helpful in reducing your risk for developing major health problems such as hypertension, diabetes, heart disease, cancer, and multiple sclerosis.\n",
      "\n",
      "Physical activity also increases your risk for certain types of cancer, including lung, heart, stomach, kidneys, and thyroid cancers. It's also important for your body to convert energy to glucose to build up the body's own glucose reserves.\n",
      "\n",
      "Q: How do I help my diet?\n",
      "\n",
      "Regular physical activity is a powerful tool to help\n",
      "--------------------------------------------------------------------------------\n",
      "\n",
      "Query: What vaccines should adults consider getting?\n",
      "\n",
      "Retrieved Documents:\n",
      "1. [0.6329] Topic: prevention, Subtopic: vaccination\n",
      "\n",
      "Generated Response:\n",
      "Flu shots are used by a wide array of people to prevent the effects of the flu. They include children, older people, doctors, nurses, and nurses's offices\n",
      "--------------------------------------------------------------------------------\n"
     ]
    }
   ],
   "source": [
    "import torch\n",
    "\n",
    "def generate_rag_response(query, contents, metadata, document_embeddings, tokenizer, model, max_length=100):\n",
    "    \"\"\"\n",
    "    Generate a response using Retrieval-Augmented Generation.\n",
    "    \n",
    "    Args:\n",
    "        query: The patient's question\n",
    "        contents: List of document contents\n",
    "        metadata: List of document metadata\n",
    "        document_embeddings: Precomputed embeddings for the documents\n",
    "        tokenizer: The tokenizer for the language model\n",
    "        model: The language model for generation\n",
    "        max_length: Maximum response length\n",
    "        \n",
    "    Returns:\n",
    "        Dictionary with the generated response and the retrieved documents\n",
    "    \"\"\"\n",
    "    # Retrieve relevant documents for the query\n",
    "    retrieved_docs = retrieve_documents(\n",
    "        query=query,\n",
    "        embeddings=document_embeddings,\n",
    "        contents=contents,\n",
    "        metadata=metadata,\n",
    "        top_k=3,\n",
    "        threshold=0.3\n",
    "    )\n",
    "    \n",
    "    # Format prompt with retrieved context\n",
    "    if retrieved_docs:\n",
    "        context = \"\\n\\n\".join([doc for doc, _, _ in retrieved_docs])\n",
    "        prompt = f\"Context:\\n{context}\\n\\nQ: {query}\\nA:\"\n",
    "    else:\n",
    "        prompt = f\"Q: {query}\\nA:\"\n",
    "    \n",
    "    # Tokenize the prompt\n",
    "    inputs = tokenizer(prompt, return_tensors=\"pt\", padding=True, truncation=True)\n",
    "    \n",
    "    # Generate the response\n",
    "    output_sequences = model.generate(\n",
    "        **inputs,\n",
    "        max_new_tokens=max_length,\n",
    "        temperature=0.7,\n",
    "        top_k=50,\n",
    "        do_sample=True,\n",
    "        pad_token_id=tokenizer.eos_token_id\n",
    "    )\n",
    "    \n",
    "    # Decode the response and extract the generated text\n",
    "    full_text = tokenizer.decode(output_sequences[0], skip_special_tokens=True)\n",
    "    # Remove the prompt from the generated text, keeping only the answer\n",
    "    response = full_text.split(\"A:\")[-1].strip()\n",
    "    \n",
    "    # Return the results\n",
    "    return {\n",
    "        \"query\": query,\n",
    "        \"response\": response,\n",
    "        \"retrieved_documents\": retrieved_docs\n",
    "    }\n",
    "\n",
    "# Test the RAG system with several queries\n",
    "if document_embeddings is not None and tokenizer and model:\n",
    "    test_queries = [\n",
    "        \"What are the different types of diabetes?\",\n",
    "        \"How can I manage my high blood pressure through lifestyle changes?\",\n",
    "        \"Why is regular physical activity important for health?\",\n",
    "        \"What vaccines should adults consider getting?\"\n",
    "    ]\n",
    "    \n",
    "    for query in test_queries:\n",
    "        print(f\"\\nQuery: {query}\")\n",
    "        result = generate_rag_response(\n",
    "            query=query,\n",
    "            contents=documents,\n",
    "            metadata=knowledge_base['metadata'].tolist(),\n",
    "            document_embeddings=document_embeddings,\n",
    "            tokenizer=tokenizer,\n",
    "            model=model\n",
    "        )\n",
    "        \n",
    "        print(\"\\nRetrieved Documents:\")\n",
    "        for i, (doc, meta, score) in enumerate(result[\"retrieved_documents\"], 1):\n",
    "            print(f\"{i}. [{score:.4f}] Topic: {meta['topic']}, Subtopic: {meta['subtopic']}\")\n",
    "        \n",
    "        print(f\"\\nGenerated Response:\\n{result['response']}\")\n",
    "        print(\"-\" * 80)\n",
    "else:\n",
    "    print(\"Cannot test generation without embeddings or model.\")\n"
   ]
  },
  {
   "cell_type": "markdown",
   "metadata": {},
   "source": [
    "## Part 4: Evaluation and Analysis\n",
    "\n",
    "Let's implement a basic evaluation function to assess the quality of our generated responses."
   ]
  },
  {
   "cell_type": "code",
   "execution_count": 19,
   "metadata": {},
   "outputs": [
    {
     "name": "stdout",
     "output_type": "stream",
     "text": [
      "Evaluation for query: What are the symptoms of Type 1 diabetes?\n",
      "  relevance_score: 0.191\n",
      "  length_score: 3.417\n",
      "  medical_usage_score: 0.2\n",
      "  response_length: 82\n",
      "  used_terms: ['diabetes', 'insulin', 'glucose']\n"
     ]
    }
   ],
   "source": [
    "def evaluate_response(response_data):\n",
    "    \"\"\"\n",
    "    Evaluate the quality of a generated response based on various criteria.\n",
    "    \n",
    "    Args:\n",
    "        response_data: Dictionary containing the query, response, and retrieved docs\n",
    "        \n",
    "    Returns:\n",
    "        Evaluation metrics\n",
    "    \"\"\"\n",
    "    query    = response_data['query']\n",
    "    response = response_data['response']\n",
    "    docs     = response_data['retrieved_documents']\n",
    "    \n",
    "    # 1) Content relevance: fraction of unique words from retrieved docs that appear in the response\n",
    "    doc_text   = \" \".join([doc for doc, _, _ in docs])\n",
    "    doc_words  = set(re.findall(r'\\w+', doc_text.lower()))\n",
    "    resp_words = set(re.findall(r'\\w+', response.lower()))\n",
    "    common     = doc_words & resp_words\n",
    "    relevance_score = len(common) / max(len(doc_words), 1)\n",
    "    \n",
    "    # 2) Response length appropriateness: ideal between 1× and 3× query length\n",
    "    resp_len  = len(response.split())\n",
    "    query_len = len(query.split())\n",
    "    if query_len == 0:\n",
    "        length_score = 0.0\n",
    "    elif query_len <= resp_len <= 3 * query_len:\n",
    "        length_score = 1.0\n",
    "    else:\n",
    "        length_score = min(resp_len / (3 * query_len), resp_len / query_len)\n",
    "    \n",
    "    # 3) Medical terminology usage: fraction of key terms included\n",
    "    medical_terms = [\n",
    "        \"diabetes\", \"insulin\", \"glucose\", \"hypertension\", \"blood pressure\",\n",
    "        \"systolic\", \"diastolic\", \"cardiovascular\", \"cholesterol\", \"nutrition\",\n",
    "        \"obesity\", \"physical activity\", \"vaccination\", \"immune\", \"prevention\"\n",
    "    ]\n",
    "    used_terms = [t for t in medical_terms if t in response.lower()]\n",
    "    usage_score = len(used_terms) / len(medical_terms)\n",
    "    \n",
    "    metrics = {\n",
    "        \"relevance_score\":     round(relevance_score,  3),\n",
    "        \"length_score\":        round(length_score,     3),\n",
    "        \"medical_usage_score\": round(usage_score,      3),\n",
    "        \"response_length\":     resp_len,\n",
    "        \"used_terms\":          used_terms\n",
    "    }\n",
    "    \n",
    "    return metrics\n",
    "\n",
    "\n",
    "result = generate_rag_response(\n",
    "    query=sample_query,\n",
    "    contents=documents,\n",
    "    metadata=knowledge_base['metadata'].tolist(),\n",
    "    document_embeddings=document_embeddings,\n",
    "    tokenizer=tokenizer,\n",
    "    model=model\n",
    ")\n",
    "metrics = evaluate_response(result)\n",
    "print(\"Evaluation for query:\", result['query'])\n",
    "for name, score in metrics.items():\n",
    "    print(f\"  {name}: {score}\")\n"
   ]
  },
  {
   "cell_type": "markdown",
   "metadata": {},
   "source": [
    "## Reflection Questions\n",
    "\n",
    "Answer the following questions about your RAG implementation and its potential applications in healthcare:\n",
    "\n",
    "### How does the RAG approach improve factual accuracy compared to regular generation?"
   ]
  },
  {
   "cell_type": "markdown",
   "metadata": {},
   "source": [
    "RAG forces the model to base its answer on real, pre-indexed medical texts instead of pulling facts out of thin air. By retrieving the top-k relevant passages and using those as context, you dramatically cut down on hallucinations. It’s not just “what the LLM thinks is plausible,” it’s “what’s literally in our trusted knowledge base.”"
   ]
  },
  {
   "cell_type": "markdown",
   "metadata": {},
   "source": [
    "### What are potential challenges or limitations of your current implementation?"
   ]
  },
  {
   "cell_type": "markdown",
   "metadata": {},
   "source": [
    "Coverage gaps: If the KB misses a topic, the model can’t retrieve the right info and will default back to guesswork.\n",
    "\n",
    "Retrieval errors: Poor embeddings or an off-threshold can pull in irrelevant docs, which drags the response off course.\n",
    "\n",
    "Hallucination fallback: Even with RAG, the generator can still manufacture details when context isn’t clear.\n",
    "\n"
   ]
  },
  {
   "cell_type": "markdown",
   "metadata": {},
   "source": [
    "### How might you enhance this system for a production healthcare environment?"
   ]
  },
  {
   "cell_type": "markdown",
   "metadata": {},
   "source": [
    "Curated, versioned KB: Hook into audited medical guidelines (e.g. FDA labels, peer-reviewed summaries), keep it up to date.\n",
    "\n",
    "Monitoring & feedback: Log user interactions, flag low-confidence outputs for human review, continuously retrain."
   ]
  },
  {
   "cell_type": "markdown",
   "metadata": {},
   "source": [
    "### What ethical considerations are particularly important for healthcare content generation?"
   ]
  },
  {
   "cell_type": "markdown",
   "metadata": {},
   "source": [
    "So many: \n",
    "\n",
    "Transparency & disclaimers: Clearly label “AI-generated” and include “This is educational only—consult your provider.”\n",
    "\n",
    "Privacy & HIPAA: Don’t leak or store sensitive patient info in logs, and ensure data handling meets compliance standards.\n",
    "\n",
    "Bias & fairness: Watch out for under-represented conditions or demographics.\n",
    "\n",
    "Accountability: Maintain audit trails of which documents were retrieved, so you can trace back any mistakes."
   ]
  },
  {
   "cell_type": "code",
   "execution_count": null,
   "metadata": {},
   "outputs": [],
   "source": []
  }
 ],
 "metadata": {
  "kernelspec": {
   "display_name": "Python 3 (ipykernel)",
   "language": "python",
   "name": "python3"
  },
  "language_info": {
   "codemirror_mode": {
    "name": "ipython",
    "version": 3
   },
   "file_extension": ".py",
   "mimetype": "text/x-python",
   "name": "python",
   "nbconvert_exporter": "python",
   "pygments_lexer": "ipython3",
   "version": "3.12.7"
  }
 },
 "nbformat": 4,
 "nbformat_minor": 4
}
