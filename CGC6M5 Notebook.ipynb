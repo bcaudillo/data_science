{
 "cells": [
  {
   "cell_type": "markdown",
   "metadata": {
    "id": "-iHUT5vDAZgK"
   },
   "source": [
    "## Module 5: General Linear Regression and Statistical Inference"
   ]
  },
  {
   "cell_type": "markdown",
   "metadata": {
    "id": "vHnXvUURAeto"
   },
   "source": [
    "### Step 0\n",
    "\n",
    "Load the appropriate libraries and bring in the data. Note that we have to run a script to get the [California Housing dataset](https://scikit-learn.org/stable/modules/generated/sklearn.datasets.fetch_california_housing.html) to match as it is in scikit-learn. We cannot pull it directly from scikit-learn since CodeGrade cannot access the internet."
   ]
  },
  {
   "cell_type": "code",
   "execution_count": 1,
   "metadata": {
    "id": "99AfKmqPyD4V"
   },
   "outputs": [],
   "source": [
    "# CodeGrade step0\n",
    "\n",
    "from sklearn.datasets import fetch_california_housing\n",
    "import pandas as pd\n",
    "import numpy as np\n",
    "import matplotlib.pyplot as plt\n",
    "from sklearn.linear_model import LinearRegression\n",
    "from scipy.stats import pearsonr\n",
    "import os\n",
    "import tarfile\n",
    "import joblib # Import joblib directly\n",
    "from sklearn.datasets._base import _pkl_filepath, get_data_home\n",
    "import statsmodels.api as sm\n",
    "import statsmodels.formula.api as smf\n",
    "import seaborn as sns\n",
    "\n",
    "archive_path = \"California Housing.tgz\" # change the path if it's not in the current directory\n",
    "data_home = get_data_home(data_home=None) # change data_home if you are not using ~/scikit_learn_data\n",
    "if not os.path.exists(data_home):\n",
    "    os.makedirs(data_home)\n",
    "filepath = _pkl_filepath(data_home, 'cal_housing.pkz')\n",
    "\n",
    "with tarfile.open(mode=\"r:gz\", name=archive_path) as f:\n",
    "    cal_housing = np.loadtxt(\n",
    "        f.extractfile('CaliforniaHousing/cal_housing.data'),\n",
    "        delimiter=',')\n",
    "    # Columns are not in the same order compared to the previous\n",
    "    # URL resource on lib.stat.cmu.edu\n",
    "    columns_index = [8, 7, 2, 3, 4, 5, 6, 1, 0]\n",
    "    cal_housing = cal_housing[:, columns_index]\n",
    "\n",
    "    joblib.dump(cal_housing, filepath, compress=6) # Now using the directly imported joblib\n",
    "\n",
    "\n",
    "# Load the dataset\n",
    "california = fetch_california_housing(as_frame=True)\n",
    "data = california.data\n",
    "data['MedianHouseValue'] = california.target"
   ]
  },
  {
   "cell_type": "markdown",
   "metadata": {
    "id": "giqgu5WUAgjw"
   },
   "source": [
    "Print the basic information of the data using `.info()` and `.describe`."
   ]
  },
  {
   "cell_type": "code",
   "execution_count": 2,
   "metadata": {
    "id": "jt8ei2mGydmu"
   },
   "outputs": [
    {
     "name": "stdout",
     "output_type": "stream",
     "text": [
      "<class 'pandas.core.frame.DataFrame'>\n",
      "RangeIndex: 20640 entries, 0 to 20639\n",
      "Data columns (total 9 columns):\n",
      " #   Column            Non-Null Count  Dtype  \n",
      "---  ------            --------------  -----  \n",
      " 0   MedInc            20640 non-null  float64\n",
      " 1   HouseAge          20640 non-null  float64\n",
      " 2   AveRooms          20640 non-null  float64\n",
      " 3   AveBedrms         20640 non-null  float64\n",
      " 4   Population        20640 non-null  float64\n",
      " 5   AveOccup          20640 non-null  float64\n",
      " 6   Latitude          20640 non-null  float64\n",
      " 7   Longitude         20640 non-null  float64\n",
      " 8   MedianHouseValue  20640 non-null  float64\n",
      "dtypes: float64(9)\n",
      "memory usage: 1.4 MB\n",
      "None\n",
      "             MedInc      HouseAge      AveRooms     AveBedrms    Population  \\\n",
      "count  20640.000000  20640.000000  20640.000000  20640.000000  20640.000000   \n",
      "mean       3.870671     28.639486      5.429000      1.096675   1425.476744   \n",
      "std        1.899822     12.585558      2.474173      0.473911   1132.462122   \n",
      "min        0.499900      1.000000      0.846154      0.333333      3.000000   \n",
      "25%        2.563400     18.000000      4.440716      1.006079    787.000000   \n",
      "50%        3.534800     29.000000      5.229129      1.048780   1166.000000   \n",
      "75%        4.743250     37.000000      6.052381      1.099526   1725.000000   \n",
      "max       15.000100     52.000000    141.909091     34.066667  35682.000000   \n",
      "\n",
      "           AveOccup      Latitude     Longitude  MedianHouseValue  \n",
      "count  20640.000000  20640.000000  20640.000000      20640.000000  \n",
      "mean       3.070655     35.631861   -119.569704          2.068558  \n",
      "std       10.386050      2.135952      2.003532          1.153956  \n",
      "min        0.692308     32.540000   -124.350000          0.149990  \n",
      "25%        2.429741     33.930000   -121.800000          1.196000  \n",
      "50%        2.818116     34.260000   -118.490000          1.797000  \n",
      "75%        3.282261     37.710000   -118.010000          2.647250  \n",
      "max     1243.333333     41.950000   -114.310000          5.000010  \n"
     ]
    }
   ],
   "source": [
    "# Display basic information\n",
    "df = data.copy()\n",
    "print(df.info())\n",
    "print(df.describe())"
   ]
  },
  {
   "cell_type": "markdown",
   "metadata": {
    "id": "LPgA030kAoI2"
   },
   "source": [
    "### Step 1\n",
    "\n",
    "Let `X` be the variables `MedInc`, `AveRooms`, and `AveOccup` and add the constant for the intercept. Let `y` be the `MedianHouseValue`.\n",
    "\n",
    "Now fit the regreson model calling it `mlr_model`.\n",
    "\n",
    "Finally, return the $r^2$ value of the model rounding to four decimal places."
   ]
  },
  {
   "cell_type": "code",
   "execution_count": 5,
   "metadata": {
    "id": "UiWsfxWsyfG4"
   },
   "outputs": [
    {
     "data": {
      "text/plain": [
       "0.4808"
      ]
     },
     "execution_count": 5,
     "metadata": {},
     "output_type": "execute_result"
    }
   ],
   "source": [
    "# CodeGrade step1\n",
    "X = df[['MedInc', 'AveRooms', 'AveOccup']]\n",
    "y = df['MedianHouseValue']\n",
    "X_const = sm.add_constant(X)\n",
    "mlr_model = sm.OLS(y, X_const).fit()\n",
    "round(mlr_model.rsquared, 4)\n"
   ]
  },
  {
   "cell_type": "markdown",
   "metadata": {
    "id": "EwHukQYxBChE"
   },
   "source": [
    "Print the model summary."
   ]
  },
  {
   "cell_type": "code",
   "execution_count": 6,
   "metadata": {
    "id": "BVMO2EcHzCt6"
   },
   "outputs": [
    {
     "name": "stdout",
     "output_type": "stream",
     "text": [
      "                            OLS Regression Results                            \n",
      "==============================================================================\n",
      "Dep. Variable:       MedianHouseValue   R-squared:                       0.481\n",
      "Model:                            OLS   Adj. R-squared:                  0.481\n",
      "Method:                 Least Squares   F-statistic:                     6370.\n",
      "Date:                Thu, 22 May 2025   Prob (F-statistic):               0.00\n",
      "Time:                        12:27:43   Log-Likelihood:                -25477.\n",
      "No. Observations:               20640   AIC:                         5.096e+04\n",
      "Df Residuals:                   20636   BIC:                         5.099e+04\n",
      "Df Model:                           3                                         \n",
      "Covariance Type:            nonrobust                                         \n",
      "==============================================================================\n",
      "                 coef    std err          t      P>|t|      [0.025      0.975]\n",
      "------------------------------------------------------------------------------\n",
      "const          0.6069      0.016     37.444      0.000       0.575       0.639\n",
      "MedInc         0.4347      0.003    134.806      0.000       0.428       0.441\n",
      "AveRooms      -0.0383      0.002    -15.482      0.000      -0.043      -0.033\n",
      "AveOccup      -0.0042      0.001     -7.488      0.000      -0.005      -0.003\n",
      "==============================================================================\n",
      "Omnibus:                     4836.746   Durbin-Watson:                   0.693\n",
      "Prob(Omnibus):                  0.000   Jarque-Bera (JB):            12992.753\n",
      "Skew:                           1.256   Prob(JB):                         0.00\n",
      "Kurtosis:                       5.965   Cond. No.                         31.4\n",
      "==============================================================================\n",
      "\n",
      "Notes:\n",
      "[1] Standard Errors assume that the covariance matrix of the errors is correctly specified.\n"
     ]
    }
   ],
   "source": [
    "# Print the model summary\n",
    "\n",
    "print(mlr_model.summary())"
   ]
  },
  {
   "cell_type": "markdown",
   "metadata": {
    "id": "P5akEN0BBEhH"
   },
   "source": [
    "### Step 2\n",
    "\n",
    "Let `p_values` be the models' p-values.\n",
    "\n",
    "Return the four p-values using `.iloc[]` from the first value to the fourth, in order and separated by commas. Make sure to round each to 5 decimal places."
   ]
  },
  {
   "cell_type": "code",
   "execution_count": 10,
   "metadata": {
    "id": "wIngVeY4zSZT"
   },
   "outputs": [
    {
     "name": "stdout",
     "output_type": "stream",
     "text": [
      "[0.0, 0.0, 0.0, 0.0]\n"
     ]
    }
   ],
   "source": [
    "# CodeGrade step2\n",
    "p_values = mlr_model.pvalues\n",
    "rounded_p_values = [round(p, 5) for p in p_values.iloc[0:4]]\n",
    "print(rounded_p_values, sep=', ')\n"
   ]
  },
  {
   "cell_type": "markdown",
   "metadata": {
    "id": "NCrUTHoIBm6W"
   },
   "source": [
    "### Step 3\n",
    "\n",
    "Identify the significant predictors (strictly less than $\\alpha=0.05$) calling this `significant_predictors`.\n",
    "\n",
    "Reutn the shape of `significant_predictors`."
   ]
  },
  {
   "cell_type": "code",
   "execution_count": 11,
   "metadata": {
    "id": "4kJT99avzwD_"
   },
   "outputs": [
    {
     "data": {
      "text/plain": [
       "(4,)"
      ]
     },
     "execution_count": 11,
     "metadata": {},
     "output_type": "execute_result"
    }
   ],
   "source": [
    "# CodeGrade step3\n",
    "significant_predictors = p_values[p_values < 0.05]\n",
    "significant_predictors.shape\n"
   ]
  },
  {
   "cell_type": "markdown",
   "metadata": {
    "id": "aAmhEckbB9AH"
   },
   "source": [
    "### Step 4\n",
    "\n",
    "Find the confidence intervals of the model (at a 95% level of confidence) and calling this `conf_intervals`.\n",
    "\n",
    "Using `.iloc[,]` and rounding to 2 decimal places return the four confidence intervals in order of (separated by commas)\n",
    "\n",
    "> first row and first column, first row and second column, second row and first column, second row and second column\n",
    "\n",
    "\n",
    "\n"
   ]
  },
  {
   "cell_type": "code",
   "execution_count": 12,
   "metadata": {
    "id": "vXIdrhhnz2VA"
   },
   "outputs": [
    {
     "name": "stdout",
     "output_type": "stream",
     "text": [
      "0.58, 0.64, 0.43, 0.44\n"
     ]
    }
   ],
   "source": [
    "# CodeGrade step4\n",
    "conf_intervals = mlr_model.conf_int()\n",
    "value_1 = round(conf_intervals.iloc[0, 0], 2)  # first row, first column\n",
    "value_2 = round(conf_intervals.iloc[0, 1], 2)  # first row, second column\n",
    "value_3 = round(conf_intervals.iloc[1, 0], 2)  # second row, first column\n",
    "value_4 = round(conf_intervals.iloc[1, 1], 2)  # second row, second column\n",
    "\n",
    "print(value_1, value_2, value_3, value_4, sep=', ')\n"
   ]
  },
  {
   "cell_type": "markdown",
   "metadata": {
    "id": "OgK1kFgACm95"
   },
   "source": [
    "Now to see how the intervals looks \"nicely\" return `conf_intervals`."
   ]
  },
  {
   "cell_type": "code",
   "execution_count": 13,
   "metadata": {
    "id": "TYIhEIxY0Cf1"
   },
   "outputs": [
    {
     "data": {
      "text/html": [
       "<div>\n",
       "<style scoped>\n",
       "    .dataframe tbody tr th:only-of-type {\n",
       "        vertical-align: middle;\n",
       "    }\n",
       "\n",
       "    .dataframe tbody tr th {\n",
       "        vertical-align: top;\n",
       "    }\n",
       "\n",
       "    .dataframe thead th {\n",
       "        text-align: right;\n",
       "    }\n",
       "</style>\n",
       "<table border=\"1\" class=\"dataframe\">\n",
       "  <thead>\n",
       "    <tr style=\"text-align: right;\">\n",
       "      <th></th>\n",
       "      <th>0</th>\n",
       "      <th>1</th>\n",
       "    </tr>\n",
       "  </thead>\n",
       "  <tbody>\n",
       "    <tr>\n",
       "      <th>const</th>\n",
       "      <td>0.575162</td>\n",
       "      <td>0.638703</td>\n",
       "    </tr>\n",
       "    <tr>\n",
       "      <th>MedInc</th>\n",
       "      <td>0.428363</td>\n",
       "      <td>0.441003</td>\n",
       "    </tr>\n",
       "    <tr>\n",
       "      <th>AveRooms</th>\n",
       "      <td>-0.043178</td>\n",
       "      <td>-0.033474</td>\n",
       "    </tr>\n",
       "    <tr>\n",
       "      <th>AveOccup</th>\n",
       "      <td>-0.005266</td>\n",
       "      <td>-0.003081</td>\n",
       "    </tr>\n",
       "  </tbody>\n",
       "</table>\n",
       "</div>"
      ],
      "text/plain": [
       "                 0         1\n",
       "const     0.575162  0.638703\n",
       "MedInc    0.428363  0.441003\n",
       "AveRooms -0.043178 -0.033474\n",
       "AveOccup -0.005266 -0.003081"
      ]
     },
     "execution_count": 13,
     "metadata": {},
     "output_type": "execute_result"
    }
   ],
   "source": [
    "#Pretty CIs\n",
    "conf_intervals\n"
   ]
  },
  {
   "cell_type": "markdown",
   "metadata": {
    "id": "H3si3dfxCt0K"
   },
   "source": [
    "### Step 5\n",
    "\n",
    "Add a quadratic term to the model, calling the new model `quad_model` where a new term is added to the data, viz. `MedInc_squared`, which is the square of `MedInc`.\n",
    "\n",
    "Return $r^2$ of the quadratic model rounded to four decumal places."
   ]
  },
  {
   "cell_type": "code",
   "execution_count": 14,
   "metadata": {
    "id": "9NAxhMdb1LQL"
   },
   "outputs": [
    {
     "data": {
      "text/plain": [
       "0.4858"
      ]
     },
     "execution_count": 14,
     "metadata": {},
     "output_type": "execute_result"
    }
   ],
   "source": [
    "# CodeGrade step5\n",
    "df['MedInc_squared'] = df['MedInc'] ** 2\n",
    "X_quad = df[['MedInc', 'MedInc_squared', 'AveRooms', 'AveOccup']]\n",
    "y_quad = df['MedianHouseValue']\n",
    "X_quad_const = sm.add_constant(X_quad)\n",
    "quad_model = sm.OLS(y_quad, X_quad_const).fit()\n",
    "round(quad_model.rsquared, 4)\n"
   ]
  },
  {
   "cell_type": "markdown",
   "metadata": {
    "id": "1yGQ9JyKDLYt"
   },
   "source": [
    "Now print the model summary."
   ]
  },
  {
   "cell_type": "code",
   "execution_count": 15,
   "metadata": {
    "id": "aB8zNExq1P1a"
   },
   "outputs": [
    {
     "name": "stdout",
     "output_type": "stream",
     "text": [
      "                            OLS Regression Results                            \n",
      "==============================================================================\n",
      "Dep. Variable:       MedianHouseValue   R-squared:                       0.486\n",
      "Model:                            OLS   Adj. R-squared:                  0.486\n",
      "Method:                 Least Squares   F-statistic:                     4874.\n",
      "Date:                Thu, 22 May 2025   Prob (F-statistic):               0.00\n",
      "Time:                        12:31:55   Log-Likelihood:                -25378.\n",
      "No. Observations:               20640   AIC:                         5.077e+04\n",
      "Df Residuals:                   20635   BIC:                         5.081e+04\n",
      "Df Model:                           4                                         \n",
      "Covariance Type:            nonrobust                                         \n",
      "==================================================================================\n",
      "                     coef    std err          t      P>|t|      [0.025      0.975]\n",
      "----------------------------------------------------------------------------------\n",
      "const              0.3551      0.024     14.760      0.000       0.308       0.402\n",
      "MedInc             0.5543      0.009     61.156      0.000       0.537       0.572\n",
      "MedInc_squared    -0.0110      0.001    -14.115      0.000      -0.012      -0.009\n",
      "AveRooms          -0.0398      0.002    -16.139      0.000      -0.045      -0.035\n",
      "AveOccup          -0.0041      0.001     -7.318      0.000      -0.005      -0.003\n",
      "==============================================================================\n",
      "Omnibus:                     4911.885   Durbin-Watson:                   0.696\n",
      "Prob(Omnibus):                  0.000   Jarque-Bera (JB):            13423.460\n",
      "Skew:                           1.269   Prob(JB):                         0.00\n",
      "Kurtosis:                       6.028   Cond. No.                         129.\n",
      "==============================================================================\n",
      "\n",
      "Notes:\n",
      "[1] Standard Errors assume that the covariance matrix of the errors is correctly specified.\n"
     ]
    }
   ],
   "source": [
    "# Print the model summary\n",
    "print(quad_model.summary())"
   ]
  },
  {
   "cell_type": "markdown",
   "metadata": {
    "id": "Js07jw5fDNVq"
   },
   "source": [
    "### Step 6\n",
    "\n",
    "Find the adjusted $r^2$ for both of the models and call them `adjusted_r2_base` and `adjusted_r2_quad`, respectively.\n",
    "\n",
    "Return these two adjusted $r^2$'s rounded to four decimal places, separated by a comma."
   ]
  },
  {
   "cell_type": "code",
   "execution_count": 16,
   "metadata": {
    "id": "osyj44PQ1XFm"
   },
   "outputs": [
    {
     "name": "stdout",
     "output_type": "stream",
     "text": [
      "0.4807, 0.4857\n"
     ]
    }
   ],
   "source": [
    "# CodeGrade step6\n",
    "adjusted_r2_base = round(mlr_model.rsquared_adj, 4)\n",
    "adjusted_r2_quad = round(quad_model.rsquared_adj, 4)\n",
    "print(adjusted_r2_base, adjusted_r2_quad, sep=', ')\n"
   ]
  },
  {
   "cell_type": "markdown",
   "metadata": {
    "id": "DBOHz2ijDlUN"
   },
   "source": [
    "Print both these adjusted $r^2$'s."
   ]
  },
  {
   "cell_type": "code",
   "execution_count": null,
   "metadata": {
    "id": "RbEYbPxx1gbo"
   },
   "outputs": [],
   "source": [
    "print(\"Adjusted R² (Baseline Model):\", adjusted_r2_base)\n",
    "print(\"Adjusted R² (Quadratic Model):\", adjusted_r2_quad)"
   ]
  }
 ],
 "metadata": {
  "colab": {
   "provenance": []
  },
  "kernelspec": {
   "display_name": "Python 3 (ipykernel)",
   "language": "python",
   "name": "python3"
  },
  "language_info": {
   "codemirror_mode": {
    "name": "ipython",
    "version": 3
   },
   "file_extension": ".py",
   "mimetype": "text/x-python",
   "name": "python",
   "nbconvert_exporter": "python",
   "pygments_lexer": "ipython3",
   "version": "3.12.7"
  }
 },
 "nbformat": 4,
 "nbformat_minor": 4
}
