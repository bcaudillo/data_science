{
  "nbformat": 4,
  "nbformat_minor": 0,
  "metadata": {
    "colab": {
      "provenance": []
    },
    "kernelspec": {
      "name": "python3",
      "display_name": "Python 3"
    },
    "language_info": {
      "name": "python"
    }
  },
  "cells": [
    {
      "cell_type": "markdown",
      "source": [
        "## Technical Lesson: Deep Learning with Normalization & Regularization\n"
      ],
      "metadata": {
        "id": "O00YLCUWLuV5"
      }
    },
    {
      "cell_type": "markdown",
      "source": [
        "### Step 0: Set Up Your Environment\n"
      ],
      "metadata": {
        "id": "h9RAu2hELzpv"
      }
    },
    {
      "cell_type": "markdown",
      "source": [
        "If needed."
      ],
      "metadata": {
        "id": "poCcskpPL8n9"
      }
    },
    {
      "cell_type": "code",
      "source": [
        "# ! pip install --upgrade tensorflow scikit-learn numpy matplotlib"
      ],
      "metadata": {
        "id": "2h1sb53OL4H9"
      },
      "execution_count": null,
      "outputs": []
    },
    {
      "cell_type": "markdown",
      "source": [
        "### Step 1: Import Libraries and Load Data"
      ],
      "metadata": {
        "id": "hllJjrVyL_qv"
      }
    },
    {
      "cell_type": "code",
      "source": [
        "import numpy as np\n",
        "import matplotlib.pyplot as plt\n",
        "import tensorflow as tf\n",
        "from tensorflow import keras\n",
        "from tensorflow.keras import layers, regularizers\n",
        "from sklearn.model_selection import train_test_split\n",
        "from sklearn.preprocessing import StandardScaler\n",
        "from sklearn.datasets import fetch_california_housing\n",
        "\n",
        "# Load the California Housing dataset\n",
        "cal_data = fetch_california_housing()\n",
        "X = cal_data.data\n",
        "y = cal_data.target\n",
        "\n",
        "print(\"Data shape:\", X.shape)        # Should be (20640, 8)\n",
        "print(\"Target shape:\", y.shape)      # Should be (20640,)\n"
      ],
      "metadata": {
        "colab": {
          "base_uri": "https://localhost:8080/"
        },
        "id": "isaeMcEpK4AD",
        "outputId": "50c1c8d7-4189-4f0b-90b9-c35303b152a3"
      },
      "execution_count": 4,
      "outputs": [
        {
          "output_type": "stream",
          "name": "stdout",
          "text": [
            "Data shape: (20640, 8)\n",
            "Target shape: (20640,)\n"
          ]
        }
      ]
    },
    {
      "cell_type": "markdown",
      "source": [
        "### Step 2: Create a Validation Split"
      ],
      "metadata": {
        "id": "NY_BltE0MCi4"
      }
    },
    {
      "cell_type": "code",
      "source": [
        "# Split into train and test first\n",
        "X_train, X_test, y_train, y_test = train_test_split(\n",
        "    X, y, test_size=0.2, random_state=42\n",
        ")\n",
        "# Further split train data into train and validation\n",
        "X_train_final, X_val, y_train_final, y_val = train_test_split(\n",
        "    X_train, y_train, test_size=0.2, random_state=42\n",
        ")\n",
        "\n",
        "print(\"Training data shape:\", X_train_final.shape)\n",
        "print(\"Validation data shape:\", X_val.shape)\n",
        "print(\"Test data shape:\", X_test.shape)\n"
      ],
      "metadata": {
        "colab": {
          "base_uri": "https://localhost:8080/"
        },
        "id": "0sUoBmFzLEE7",
        "outputId": "c55a1e98-bbef-4249-ddad-1e26520464f7"
      },
      "execution_count": 5,
      "outputs": [
        {
          "output_type": "stream",
          "name": "stdout",
          "text": [
            "Training data shape: (13209, 8)\n",
            "Validation data shape: (3303, 8)\n",
            "Test data shape: (4128, 8)\n"
          ]
        }
      ]
    },
    {
      "cell_type": "markdown",
      "source": [
        "### Step 3: Normalize the Data"
      ],
      "metadata": {
        "id": "63ajnW7XMGNP"
      }
    },
    {
      "cell_type": "code",
      "source": [
        "scaler = StandardScaler()\n",
        "scaler.fit(X_train_final)\n",
        "\n",
        "X_train_scaled = scaler.transform(X_train_final)\n",
        "X_val_scaled = scaler.transform(X_val)\n",
        "X_test_scaled = scaler.transform(X_test)\n",
        "\n",
        "print(\"Feature means:\", scaler.mean_)\n",
        "print(\"Feature variances:\", scaler.var_)\n"
      ],
      "metadata": {
        "colab": {
          "base_uri": "https://localhost:8080/"
        },
        "id": "n1eCL1ZpLO2P",
        "outputId": "a2c51b65-39b8-43c2-c2c6-fc4726c13eaf"
      },
      "execution_count": 6,
      "outputs": [
        {
          "output_type": "stream",
          "name": "stdout",
          "text": [
            "Feature means: [ 3.86893364e+00  2.85672647e+01  5.42040408e+00  1.09433536e+00\n",
            "  1.42691650e+03  3.02944025e+00  3.56468476e+01 -1.19583303e+02]\n",
            "Feature variances: [3.57143560e+00 1.58482738e+02 4.48993988e+00 1.45205080e-01\n",
            " 1.29315681e+06 4.70353691e+01 4.55294423e+00 4.02078197e+00]\n"
          ]
        }
      ]
    },
    {
      "cell_type": "markdown",
      "source": [
        "### Step 4: Build a Baseline Model (No Regularization)"
      ],
      "metadata": {
        "id": "LJg_VYknMJsa"
      }
    },
    {
      "cell_type": "code",
      "source": [
        "baseline_model = keras.Sequential([\n",
        "    layers.Dense(64, activation='relu', input_shape=(X_train.shape[1],)),\n",
        "    layers.Dense(64, activation='relu'),\n",
        "    layers.Dense(1)  # Single output for regression\n",
        "])\n",
        "\n",
        "baseline_model.compile(\n",
        "    optimizer='adam',\n",
        "    loss='mse',\n",
        "    metrics=['mae','mse']\n",
        ")\n",
        "\n",
        "history_baseline = baseline_model.fit(\n",
        "    X_train_scaled, y_train_final,\n",
        "    validation_data=(X_val_scaled, y_val),\n",
        "    epochs=100,\n",
        "    batch_size=32,\n",
        "    verbose=1\n",
        ")\n"
      ],
      "metadata": {
        "colab": {
          "base_uri": "https://localhost:8080/"
        },
        "id": "41vsoyTGLkkr",
        "outputId": "778b13e9-a326-4412-a5ea-972689384cdf"
      },
      "execution_count": 7,
      "outputs": [
        {
          "output_type": "stream",
          "name": "stderr",
          "text": [
            "/usr/local/lib/python3.11/dist-packages/keras/src/layers/core/dense.py:87: UserWarning: Do not pass an `input_shape`/`input_dim` argument to a layer. When using Sequential models, prefer using an `Input(shape)` object as the first layer in the model instead.\n",
            "  super().__init__(activity_regularizer=activity_regularizer, **kwargs)\n"
          ]
        },
        {
          "output_type": "stream",
          "name": "stdout",
          "text": [
            "Epoch 1/100\n",
            "\u001b[1m413/413\u001b[0m \u001b[32m━━━━━━━━━━━━━━━━━━━━\u001b[0m\u001b[37m\u001b[0m \u001b[1m4s\u001b[0m 4ms/step - loss: 1.0608 - mae: 0.7229 - mse: 1.0608 - val_loss: 0.5821 - val_mae: 0.4793 - val_mse: 0.5821\n",
            "Epoch 2/100\n",
            "\u001b[1m413/413\u001b[0m \u001b[32m━━━━━━━━━━━━━━━━━━━━\u001b[0m\u001b[37m\u001b[0m \u001b[1m2s\u001b[0m 3ms/step - loss: 0.3871 - mae: 0.4454 - mse: 0.3871 - val_loss: 0.4822 - val_mae: 0.4404 - val_mse: 0.4822\n",
            "Epoch 3/100\n",
            "\u001b[1m413/413\u001b[0m \u001b[32m━━━━━━━━━━━━━━━━━━━━\u001b[0m\u001b[37m\u001b[0m \u001b[1m3s\u001b[0m 4ms/step - loss: 0.3577 - mae: 0.4208 - mse: 0.3577 - val_loss: 0.3636 - val_mae: 0.4335 - val_mse: 0.3636\n",
            "Epoch 4/100\n",
            "\u001b[1m413/413\u001b[0m \u001b[32m━━━━━━━━━━━━━━━━━━━━\u001b[0m\u001b[37m\u001b[0m \u001b[1m3s\u001b[0m 5ms/step - loss: 0.3418 - mae: 0.4127 - mse: 0.3418 - val_loss: 0.7470 - val_mae: 0.4626 - val_mse: 0.7470\n",
            "Epoch 5/100\n",
            "\u001b[1m413/413\u001b[0m \u001b[32m━━━━━━━━━━━━━━━━━━━━\u001b[0m\u001b[37m\u001b[0m \u001b[1m2s\u001b[0m 4ms/step - loss: 0.3706 - mae: 0.4184 - mse: 0.3706 - val_loss: 0.3531 - val_mae: 0.4176 - val_mse: 0.3531\n",
            "Epoch 6/100\n",
            "\u001b[1m413/413\u001b[0m \u001b[32m━━━━━━━━━━━━━━━━━━━━\u001b[0m\u001b[37m\u001b[0m \u001b[1m2s\u001b[0m 4ms/step - loss: 0.3223 - mae: 0.3972 - mse: 0.3223 - val_loss: 0.3605 - val_mae: 0.4104 - val_mse: 0.3605\n",
            "Epoch 7/100\n",
            "\u001b[1m413/413\u001b[0m \u001b[32m━━━━━━━━━━━━━━━━━━━━\u001b[0m\u001b[37m\u001b[0m \u001b[1m2s\u001b[0m 4ms/step - loss: 0.3175 - mae: 0.3939 - mse: 0.3175 - val_loss: 0.3650 - val_mae: 0.4087 - val_mse: 0.3650\n",
            "Epoch 8/100\n",
            "\u001b[1m413/413\u001b[0m \u001b[32m━━━━━━━━━━━━━━━━━━━━\u001b[0m\u001b[37m\u001b[0m \u001b[1m2s\u001b[0m 3ms/step - loss: 0.3087 - mae: 0.3881 - mse: 0.3087 - val_loss: 0.4185 - val_mae: 0.4040 - val_mse: 0.4185\n",
            "Epoch 9/100\n",
            "\u001b[1m413/413\u001b[0m \u001b[32m━━━━━━━━━━━━━━━━━━━━\u001b[0m\u001b[37m\u001b[0m \u001b[1m2s\u001b[0m 3ms/step - loss: 0.3271 - mae: 0.3919 - mse: 0.3271 - val_loss: 0.3838 - val_mae: 0.4021 - val_mse: 0.3838\n",
            "Epoch 10/100\n",
            "\u001b[1m413/413\u001b[0m \u001b[32m━━━━━━━━━━━━━━━━━━━━\u001b[0m\u001b[37m\u001b[0m \u001b[1m3s\u001b[0m 4ms/step - loss: 0.3060 - mae: 0.3809 - mse: 0.3060 - val_loss: 0.3324 - val_mae: 0.3941 - val_mse: 0.3324\n",
            "Epoch 11/100\n",
            "\u001b[1m413/413\u001b[0m \u001b[32m━━━━━━━━━━━━━━━━━━━━\u001b[0m\u001b[37m\u001b[0m \u001b[1m2s\u001b[0m 4ms/step - loss: 0.2875 - mae: 0.3701 - mse: 0.2875 - val_loss: 0.3458 - val_mae: 0.3933 - val_mse: 0.3458\n",
            "Epoch 12/100\n",
            "\u001b[1m413/413\u001b[0m \u001b[32m━━━━━━━━━━━━━━━━━━━━\u001b[0m\u001b[37m\u001b[0m \u001b[1m3s\u001b[0m 5ms/step - loss: 0.2784 - mae: 0.3636 - mse: 0.2784 - val_loss: 0.3255 - val_mae: 0.3849 - val_mse: 0.3255\n",
            "Epoch 13/100\n",
            "\u001b[1m413/413\u001b[0m \u001b[32m━━━━━━━━━━━━━━━━━━━━\u001b[0m\u001b[37m\u001b[0m \u001b[1m2s\u001b[0m 6ms/step - loss: 0.2822 - mae: 0.3668 - mse: 0.2822 - val_loss: 0.3571 - val_mae: 0.3927 - val_mse: 0.3571\n",
            "Epoch 14/100\n",
            "\u001b[1m413/413\u001b[0m \u001b[32m━━━━━━━━━━━━━━━━━━━━\u001b[0m\u001b[37m\u001b[0m \u001b[1m2s\u001b[0m 4ms/step - loss: 0.2828 - mae: 0.3639 - mse: 0.2828 - val_loss: 0.5163 - val_mae: 0.4340 - val_mse: 0.5163\n",
            "Epoch 15/100\n",
            "\u001b[1m413/413\u001b[0m \u001b[32m━━━━━━━━━━━━━━━━━━━━\u001b[0m\u001b[37m\u001b[0m \u001b[1m3s\u001b[0m 7ms/step - loss: 0.3062 - mae: 0.3719 - mse: 0.3062 - val_loss: 0.3601 - val_mae: 0.3973 - val_mse: 0.3601\n",
            "Epoch 16/100\n",
            "\u001b[1m413/413\u001b[0m \u001b[32m━━━━━━━━━━━━━━━━━━━━\u001b[0m\u001b[37m\u001b[0m \u001b[1m4s\u001b[0m 4ms/step - loss: 0.2876 - mae: 0.3635 - mse: 0.2876 - val_loss: 0.4753 - val_mae: 0.3928 - val_mse: 0.4753\n",
            "Epoch 17/100\n",
            "\u001b[1m413/413\u001b[0m \u001b[32m━━━━━━━━━━━━━━━━━━━━\u001b[0m\u001b[37m\u001b[0m \u001b[1m2s\u001b[0m 4ms/step - loss: 0.2899 - mae: 0.3624 - mse: 0.2899 - val_loss: 0.3027 - val_mae: 0.3737 - val_mse: 0.3027\n",
            "Epoch 18/100\n",
            "\u001b[1m413/413\u001b[0m \u001b[32m━━━━━━━━━━━━━━━━━━━━\u001b[0m\u001b[37m\u001b[0m \u001b[1m3s\u001b[0m 4ms/step - loss: 0.2676 - mae: 0.3536 - mse: 0.2676 - val_loss: 0.2983 - val_mae: 0.3773 - val_mse: 0.2983\n",
            "Epoch 19/100\n",
            "\u001b[1m413/413\u001b[0m \u001b[32m━━━━━━━━━━━━━━━━━━━━\u001b[0m\u001b[37m\u001b[0m \u001b[1m3s\u001b[0m 6ms/step - loss: 0.2830 - mae: 0.3644 - mse: 0.2830 - val_loss: 0.3304 - val_mae: 0.3788 - val_mse: 0.3304\n",
            "Epoch 20/100\n",
            "\u001b[1m413/413\u001b[0m \u001b[32m━━━━━━━━━━━━━━━━━━━━\u001b[0m\u001b[37m\u001b[0m \u001b[1m2s\u001b[0m 5ms/step - loss: 0.2732 - mae: 0.3604 - mse: 0.2732 - val_loss: 0.2996 - val_mae: 0.3718 - val_mse: 0.2996\n",
            "Epoch 21/100\n",
            "\u001b[1m413/413\u001b[0m \u001b[32m━━━━━━━━━━━━━━━━━━━━\u001b[0m\u001b[37m\u001b[0m \u001b[1m2s\u001b[0m 3ms/step - loss: 0.2590 - mae: 0.3509 - mse: 0.2590 - val_loss: 0.2932 - val_mae: 0.3717 - val_mse: 0.2932\n",
            "Epoch 22/100\n",
            "\u001b[1m413/413\u001b[0m \u001b[32m━━━━━━━━━━━━━━━━━━━━\u001b[0m\u001b[37m\u001b[0m \u001b[1m1s\u001b[0m 3ms/step - loss: 0.2743 - mae: 0.3571 - mse: 0.2743 - val_loss: 0.2915 - val_mae: 0.3700 - val_mse: 0.2915\n",
            "Epoch 23/100\n",
            "\u001b[1m413/413\u001b[0m \u001b[32m━━━━━━━━━━━━━━━━━━━━\u001b[0m\u001b[37m\u001b[0m \u001b[1m3s\u001b[0m 3ms/step - loss: 0.2585 - mae: 0.3496 - mse: 0.2585 - val_loss: 0.2991 - val_mae: 0.3619 - val_mse: 0.2991\n",
            "Epoch 24/100\n",
            "\u001b[1m413/413\u001b[0m \u001b[32m━━━━━━━━━━━━━━━━━━━━\u001b[0m\u001b[37m\u001b[0m \u001b[1m3s\u001b[0m 3ms/step - loss: 0.2643 - mae: 0.3518 - mse: 0.2643 - val_loss: 0.3125 - val_mae: 0.3760 - val_mse: 0.3125\n",
            "Epoch 25/100\n",
            "\u001b[1m413/413\u001b[0m \u001b[32m━━━━━━━━━━━━━━━━━━━━\u001b[0m\u001b[37m\u001b[0m \u001b[1m3s\u001b[0m 5ms/step - loss: 0.2593 - mae: 0.3478 - mse: 0.2593 - val_loss: 0.2938 - val_mae: 0.3690 - val_mse: 0.2938\n",
            "Epoch 26/100\n",
            "\u001b[1m413/413\u001b[0m \u001b[32m━━━━━━━━━━━━━━━━━━━━\u001b[0m\u001b[37m\u001b[0m \u001b[1m1s\u001b[0m 3ms/step - loss: 0.2595 - mae: 0.3483 - mse: 0.2595 - val_loss: 0.2904 - val_mae: 0.3714 - val_mse: 0.2904\n",
            "Epoch 27/100\n",
            "\u001b[1m413/413\u001b[0m \u001b[32m━━━━━━━━━━━━━━━━━━━━\u001b[0m\u001b[37m\u001b[0m \u001b[1m3s\u001b[0m 3ms/step - loss: 0.2683 - mae: 0.3523 - mse: 0.2683 - val_loss: 0.3141 - val_mae: 0.3673 - val_mse: 0.3141\n",
            "Epoch 28/100\n",
            "\u001b[1m413/413\u001b[0m \u001b[32m━━━━━━━━━━━━━━━━━━━━\u001b[0m\u001b[37m\u001b[0m \u001b[1m2s\u001b[0m 3ms/step - loss: 0.2677 - mae: 0.3529 - mse: 0.2677 - val_loss: 0.2999 - val_mae: 0.3649 - val_mse: 0.2999\n",
            "Epoch 29/100\n",
            "\u001b[1m413/413\u001b[0m \u001b[32m━━━━━━━━━━━━━━━━━━━━\u001b[0m\u001b[37m\u001b[0m \u001b[1m1s\u001b[0m 3ms/step - loss: 0.2594 - mae: 0.3473 - mse: 0.2594 - val_loss: 0.3185 - val_mae: 0.3865 - val_mse: 0.3185\n",
            "Epoch 30/100\n",
            "\u001b[1m413/413\u001b[0m \u001b[32m━━━━━━━━━━━━━━━━━━━━\u001b[0m\u001b[37m\u001b[0m \u001b[1m3s\u001b[0m 4ms/step - loss: 0.2659 - mae: 0.3523 - mse: 0.2659 - val_loss: 0.2963 - val_mae: 0.3635 - val_mse: 0.2963\n",
            "Epoch 31/100\n",
            "\u001b[1m413/413\u001b[0m \u001b[32m━━━━━━━━━━━━━━━━━━━━\u001b[0m\u001b[37m\u001b[0m \u001b[1m2s\u001b[0m 5ms/step - loss: 0.2557 - mae: 0.3443 - mse: 0.2557 - val_loss: 0.2832 - val_mae: 0.3650 - val_mse: 0.2832\n",
            "Epoch 32/100\n",
            "\u001b[1m413/413\u001b[0m \u001b[32m━━━━━━━━━━━━━━━━━━━━\u001b[0m\u001b[37m\u001b[0m \u001b[1m2s\u001b[0m 4ms/step - loss: 0.2499 - mae: 0.3428 - mse: 0.2499 - val_loss: 0.3077 - val_mae: 0.3773 - val_mse: 0.3077\n",
            "Epoch 33/100\n",
            "\u001b[1m413/413\u001b[0m \u001b[32m━━━━━━━━━━━━━━━━━━━━\u001b[0m\u001b[37m\u001b[0m \u001b[1m2s\u001b[0m 3ms/step - loss: 0.2470 - mae: 0.3406 - mse: 0.2470 - val_loss: 0.3238 - val_mae: 0.3962 - val_mse: 0.3238\n",
            "Epoch 34/100\n",
            "\u001b[1m413/413\u001b[0m \u001b[32m━━━━━━━━━━━━━━━━━━━━\u001b[0m\u001b[37m\u001b[0m \u001b[1m3s\u001b[0m 4ms/step - loss: 0.2661 - mae: 0.3526 - mse: 0.2661 - val_loss: 0.2910 - val_mae: 0.3613 - val_mse: 0.2910\n",
            "Epoch 35/100\n",
            "\u001b[1m413/413\u001b[0m \u001b[32m━━━━━━━━━━━━━━━━━━━━\u001b[0m\u001b[37m\u001b[0m \u001b[1m2s\u001b[0m 4ms/step - loss: 0.2530 - mae: 0.3443 - mse: 0.2530 - val_loss: 0.3390 - val_mae: 0.4137 - val_mse: 0.3390\n",
            "Epoch 36/100\n",
            "\u001b[1m413/413\u001b[0m \u001b[32m━━━━━━━━━━━━━━━━━━━━\u001b[0m\u001b[37m\u001b[0m \u001b[1m3s\u001b[0m 5ms/step - loss: 0.2408 - mae: 0.3396 - mse: 0.2408 - val_loss: 0.2897 - val_mae: 0.3639 - val_mse: 0.2897\n",
            "Epoch 37/100\n",
            "\u001b[1m413/413\u001b[0m \u001b[32m━━━━━━━━━━━━━━━━━━━━\u001b[0m\u001b[37m\u001b[0m \u001b[1m1s\u001b[0m 3ms/step - loss: 0.2487 - mae: 0.3402 - mse: 0.2487 - val_loss: 0.2864 - val_mae: 0.3597 - val_mse: 0.2864\n",
            "Epoch 38/100\n",
            "\u001b[1m413/413\u001b[0m \u001b[32m━━━━━━━━━━━━━━━━━━━━\u001b[0m\u001b[37m\u001b[0m \u001b[1m3s\u001b[0m 4ms/step - loss: 0.2471 - mae: 0.3378 - mse: 0.2471 - val_loss: 0.2817 - val_mae: 0.3646 - val_mse: 0.2817\n",
            "Epoch 39/100\n",
            "\u001b[1m413/413\u001b[0m \u001b[32m━━━━━━━━━━━━━━━━━━━━\u001b[0m\u001b[37m\u001b[0m \u001b[1m3s\u001b[0m 4ms/step - loss: 0.2473 - mae: 0.3420 - mse: 0.2473 - val_loss: 0.2919 - val_mae: 0.3614 - val_mse: 0.2919\n",
            "Epoch 40/100\n",
            "\u001b[1m413/413\u001b[0m \u001b[32m━━━━━━━━━━━━━━━━━━━━\u001b[0m\u001b[37m\u001b[0m \u001b[1m2s\u001b[0m 4ms/step - loss: 0.2471 - mae: 0.3379 - mse: 0.2471 - val_loss: 0.2885 - val_mae: 0.3624 - val_mse: 0.2885\n",
            "Epoch 41/100\n",
            "\u001b[1m413/413\u001b[0m \u001b[32m━━━━━━━━━━━━━━━━━━━━\u001b[0m\u001b[37m\u001b[0m \u001b[1m3s\u001b[0m 4ms/step - loss: 0.2481 - mae: 0.3393 - mse: 0.2481 - val_loss: 0.2835 - val_mae: 0.3709 - val_mse: 0.2835\n",
            "Epoch 42/100\n",
            "\u001b[1m413/413\u001b[0m \u001b[32m━━━━━━━━━━━━━━━━━━━━\u001b[0m\u001b[37m\u001b[0m \u001b[1m2s\u001b[0m 4ms/step - loss: 0.2417 - mae: 0.3349 - mse: 0.2417 - val_loss: 0.2941 - val_mae: 0.3698 - val_mse: 0.2941\n",
            "Epoch 43/100\n",
            "\u001b[1m413/413\u001b[0m \u001b[32m━━━━━━━━━━━━━━━━━━━━\u001b[0m\u001b[37m\u001b[0m \u001b[1m2s\u001b[0m 4ms/step - loss: 0.2539 - mae: 0.3458 - mse: 0.2539 - val_loss: 0.2999 - val_mae: 0.3736 - val_mse: 0.2999\n",
            "Epoch 44/100\n",
            "\u001b[1m413/413\u001b[0m \u001b[32m━━━━━━━━━━━━━━━━━━━━\u001b[0m\u001b[37m\u001b[0m \u001b[1m2s\u001b[0m 4ms/step - loss: 0.2444 - mae: 0.3419 - mse: 0.2444 - val_loss: 0.2818 - val_mae: 0.3628 - val_mse: 0.2818\n",
            "Epoch 45/100\n",
            "\u001b[1m413/413\u001b[0m \u001b[32m━━━━━━━━━━━━━━━━━━━━\u001b[0m\u001b[37m\u001b[0m \u001b[1m2s\u001b[0m 4ms/step - loss: 0.2357 - mae: 0.3331 - mse: 0.2357 - val_loss: 0.3036 - val_mae: 0.3712 - val_mse: 0.3036\n",
            "Epoch 46/100\n",
            "\u001b[1m413/413\u001b[0m \u001b[32m━━━━━━━━━━━━━━━━━━━━\u001b[0m\u001b[37m\u001b[0m \u001b[1m2s\u001b[0m 4ms/step - loss: 0.2373 - mae: 0.3310 - mse: 0.2373 - val_loss: 0.2858 - val_mae: 0.3657 - val_mse: 0.2858\n",
            "Epoch 47/100\n",
            "\u001b[1m413/413\u001b[0m \u001b[32m━━━━━━━━━━━━━━━━━━━━\u001b[0m\u001b[37m\u001b[0m \u001b[1m2s\u001b[0m 4ms/step - loss: 0.2352 - mae: 0.3327 - mse: 0.2352 - val_loss: 0.3048 - val_mae: 0.3759 - val_mse: 0.3048\n",
            "Epoch 48/100\n",
            "\u001b[1m413/413\u001b[0m \u001b[32m━━━━━━━━━━━━━━━━━━━━\u001b[0m\u001b[37m\u001b[0m \u001b[1m2s\u001b[0m 3ms/step - loss: 0.2383 - mae: 0.3331 - mse: 0.2383 - val_loss: 0.2810 - val_mae: 0.3632 - val_mse: 0.2810\n",
            "Epoch 49/100\n",
            "\u001b[1m413/413\u001b[0m \u001b[32m━━━━━━━━━━━━━━━━━━━━\u001b[0m\u001b[37m\u001b[0m \u001b[1m3s\u001b[0m 3ms/step - loss: 0.2373 - mae: 0.3363 - mse: 0.2373 - val_loss: 0.2960 - val_mae: 0.3666 - val_mse: 0.2960\n",
            "Epoch 50/100\n",
            "\u001b[1m413/413\u001b[0m \u001b[32m━━━━━━━━━━━━━━━━━━━━\u001b[0m\u001b[37m\u001b[0m \u001b[1m3s\u001b[0m 4ms/step - loss: 0.2374 - mae: 0.3369 - mse: 0.2374 - val_loss: 0.2876 - val_mae: 0.3591 - val_mse: 0.2876\n",
            "Epoch 51/100\n",
            "\u001b[1m413/413\u001b[0m \u001b[32m━━━━━━━━━━━━━━━━━━━━\u001b[0m\u001b[37m\u001b[0m \u001b[1m4s\u001b[0m 6ms/step - loss: 0.2408 - mae: 0.3347 - mse: 0.2408 - val_loss: 0.3494 - val_mae: 0.3788 - val_mse: 0.3494\n",
            "Epoch 52/100\n",
            "\u001b[1m413/413\u001b[0m \u001b[32m━━━━━━━━━━━━━━━━━━━━\u001b[0m\u001b[37m\u001b[0m \u001b[1m1s\u001b[0m 3ms/step - loss: 0.2453 - mae: 0.3350 - mse: 0.2453 - val_loss: 0.3014 - val_mae: 0.3803 - val_mse: 0.3014\n",
            "Epoch 53/100\n",
            "\u001b[1m413/413\u001b[0m \u001b[32m━━━━━━━━━━━━━━━━━━━━\u001b[0m\u001b[37m\u001b[0m \u001b[1m2s\u001b[0m 4ms/step - loss: 0.2427 - mae: 0.3371 - mse: 0.2427 - val_loss: 0.2802 - val_mae: 0.3572 - val_mse: 0.2802\n",
            "Epoch 54/100\n",
            "\u001b[1m413/413\u001b[0m \u001b[32m━━━━━━━━━━━━━━━━━━━━\u001b[0m\u001b[37m\u001b[0m \u001b[1m2s\u001b[0m 3ms/step - loss: 0.2375 - mae: 0.3312 - mse: 0.2375 - val_loss: 0.3207 - val_mae: 0.3684 - val_mse: 0.3207\n",
            "Epoch 55/100\n",
            "\u001b[1m413/413\u001b[0m \u001b[32m━━━━━━━━━━━━━━━━━━━━\u001b[0m\u001b[37m\u001b[0m \u001b[1m3s\u001b[0m 3ms/step - loss: 0.2338 - mae: 0.3322 - mse: 0.2338 - val_loss: 0.2826 - val_mae: 0.3588 - val_mse: 0.2826\n",
            "Epoch 56/100\n",
            "\u001b[1m413/413\u001b[0m \u001b[32m━━━━━━━━━━━━━━━━━━━━\u001b[0m\u001b[37m\u001b[0m \u001b[1m1s\u001b[0m 3ms/step - loss: 0.2341 - mae: 0.3290 - mse: 0.2341 - val_loss: 0.2870 - val_mae: 0.3632 - val_mse: 0.2870\n",
            "Epoch 57/100\n",
            "\u001b[1m413/413\u001b[0m \u001b[32m━━━━━━━━━━━━━━━━━━━━\u001b[0m\u001b[37m\u001b[0m \u001b[1m2s\u001b[0m 4ms/step - loss: 0.2310 - mae: 0.3308 - mse: 0.2310 - val_loss: 0.2839 - val_mae: 0.3570 - val_mse: 0.2839\n",
            "Epoch 58/100\n",
            "\u001b[1m413/413\u001b[0m \u001b[32m━━━━━━━━━━━━━━━━━━━━\u001b[0m\u001b[37m\u001b[0m \u001b[1m2s\u001b[0m 3ms/step - loss: 0.2355 - mae: 0.3322 - mse: 0.2355 - val_loss: 0.2815 - val_mae: 0.3559 - val_mse: 0.2815\n",
            "Epoch 59/100\n",
            "\u001b[1m413/413\u001b[0m \u001b[32m━━━━━━━━━━━━━━━━━━━━\u001b[0m\u001b[37m\u001b[0m \u001b[1m1s\u001b[0m 3ms/step - loss: 0.2304 - mae: 0.3287 - mse: 0.2304 - val_loss: 0.2901 - val_mae: 0.3700 - val_mse: 0.2901\n",
            "Epoch 60/100\n",
            "\u001b[1m413/413\u001b[0m \u001b[32m━━━━━━━━━━━━━━━━━━━━\u001b[0m\u001b[37m\u001b[0m \u001b[1m3s\u001b[0m 3ms/step - loss: 0.2345 - mae: 0.3297 - mse: 0.2345 - val_loss: 0.3290 - val_mae: 0.3632 - val_mse: 0.3290\n",
            "Epoch 61/100\n",
            "\u001b[1m413/413\u001b[0m \u001b[32m━━━━━━━━━━━━━━━━━━━━\u001b[0m\u001b[37m\u001b[0m \u001b[1m1s\u001b[0m 3ms/step - loss: 0.2189 - mae: 0.3233 - mse: 0.2189 - val_loss: 0.2868 - val_mae: 0.3649 - val_mse: 0.2868\n",
            "Epoch 62/100\n",
            "\u001b[1m413/413\u001b[0m \u001b[32m━━━━━━━━━━━━━━━━━━━━\u001b[0m\u001b[37m\u001b[0m \u001b[1m3s\u001b[0m 3ms/step - loss: 0.2392 - mae: 0.3299 - mse: 0.2392 - val_loss: 0.3062 - val_mae: 0.3788 - val_mse: 0.3062\n",
            "Epoch 63/100\n",
            "\u001b[1m413/413\u001b[0m \u001b[32m━━━━━━━━━━━━━━━━━━━━\u001b[0m\u001b[37m\u001b[0m \u001b[1m1s\u001b[0m 3ms/step - loss: 0.2308 - mae: 0.3285 - mse: 0.2308 - val_loss: 0.2866 - val_mae: 0.3589 - val_mse: 0.2866\n",
            "Epoch 64/100\n",
            "\u001b[1m413/413\u001b[0m \u001b[32m━━━━━━━━━━━━━━━━━━━━\u001b[0m\u001b[37m\u001b[0m \u001b[1m2s\u001b[0m 3ms/step - loss: 0.2237 - mae: 0.3234 - mse: 0.2237 - val_loss: 0.3045 - val_mae: 0.3830 - val_mse: 0.3045\n",
            "Epoch 65/100\n",
            "\u001b[1m413/413\u001b[0m \u001b[32m━━━━━━━━━━━━━━━━━━━━\u001b[0m\u001b[37m\u001b[0m \u001b[1m2s\u001b[0m 3ms/step - loss: 0.2230 - mae: 0.3257 - mse: 0.2230 - val_loss: 0.3007 - val_mae: 0.3635 - val_mse: 0.3007\n",
            "Epoch 66/100\n",
            "\u001b[1m413/413\u001b[0m \u001b[32m━━━━━━━━━━━━━━━━━━━━\u001b[0m\u001b[37m\u001b[0m \u001b[1m3s\u001b[0m 3ms/step - loss: 0.2251 - mae: 0.3234 - mse: 0.2251 - val_loss: 0.2867 - val_mae: 0.3728 - val_mse: 0.2867\n",
            "Epoch 67/100\n",
            "\u001b[1m413/413\u001b[0m \u001b[32m━━━━━━━━━━━━━━━━━━━━\u001b[0m\u001b[37m\u001b[0m \u001b[1m3s\u001b[0m 3ms/step - loss: 0.2346 - mae: 0.3333 - mse: 0.2346 - val_loss: 0.2815 - val_mae: 0.3593 - val_mse: 0.2815\n",
            "Epoch 68/100\n",
            "\u001b[1m413/413\u001b[0m \u001b[32m━━━━━━━━━━━━━━━━━━━━\u001b[0m\u001b[37m\u001b[0m \u001b[1m2s\u001b[0m 5ms/step - loss: 0.2210 - mae: 0.3216 - mse: 0.2210 - val_loss: 0.3232 - val_mae: 0.3685 - val_mse: 0.3232\n",
            "Epoch 69/100\n",
            "\u001b[1m413/413\u001b[0m \u001b[32m━━━━━━━━━━━━━━━━━━━━\u001b[0m\u001b[37m\u001b[0m \u001b[1m2s\u001b[0m 4ms/step - loss: 0.2163 - mae: 0.3209 - mse: 0.2163 - val_loss: 0.2814 - val_mae: 0.3670 - val_mse: 0.2814\n",
            "Epoch 70/100\n",
            "\u001b[1m413/413\u001b[0m \u001b[32m━━━━━━━━━━━━━━━━━━━━\u001b[0m\u001b[37m\u001b[0m \u001b[1m2s\u001b[0m 3ms/step - loss: 0.2285 - mae: 0.3269 - mse: 0.2285 - val_loss: 0.2942 - val_mae: 0.3700 - val_mse: 0.2942\n",
            "Epoch 71/100\n",
            "\u001b[1m413/413\u001b[0m \u001b[32m━━━━━━━━━━━━━━━━━━━━\u001b[0m\u001b[37m\u001b[0m \u001b[1m3s\u001b[0m 4ms/step - loss: 0.2261 - mae: 0.3289 - mse: 0.2261 - val_loss: 0.2788 - val_mae: 0.3579 - val_mse: 0.2788\n",
            "Epoch 72/100\n",
            "\u001b[1m413/413\u001b[0m \u001b[32m━━━━━━━━━━━━━━━━━━━━\u001b[0m\u001b[37m\u001b[0m \u001b[1m1s\u001b[0m 3ms/step - loss: 0.2215 - mae: 0.3248 - mse: 0.2215 - val_loss: 0.2988 - val_mae: 0.3620 - val_mse: 0.2988\n",
            "Epoch 73/100\n",
            "\u001b[1m413/413\u001b[0m \u001b[32m━━━━━━━━━━━━━━━━━━━━\u001b[0m\u001b[37m\u001b[0m \u001b[1m1s\u001b[0m 3ms/step - loss: 0.2196 - mae: 0.3219 - mse: 0.2196 - val_loss: 0.3050 - val_mae: 0.3891 - val_mse: 0.3050\n",
            "Epoch 74/100\n",
            "\u001b[1m413/413\u001b[0m \u001b[32m━━━━━━━━━━━━━━━━━━━━\u001b[0m\u001b[37m\u001b[0m \u001b[1m3s\u001b[0m 5ms/step - loss: 0.2248 - mae: 0.3256 - mse: 0.2248 - val_loss: 0.2729 - val_mae: 0.3533 - val_mse: 0.2729\n",
            "Epoch 75/100\n",
            "\u001b[1m413/413\u001b[0m \u001b[32m━━━━━━━━━━━━━━━━━━━━\u001b[0m\u001b[37m\u001b[0m \u001b[1m1s\u001b[0m 3ms/step - loss: 0.2189 - mae: 0.3187 - mse: 0.2189 - val_loss: 0.2882 - val_mae: 0.3666 - val_mse: 0.2882\n",
            "Epoch 76/100\n",
            "\u001b[1m413/413\u001b[0m \u001b[32m━━━━━━━━━━━━━━━━━━━━\u001b[0m\u001b[37m\u001b[0m \u001b[1m1s\u001b[0m 3ms/step - loss: 0.2163 - mae: 0.3197 - mse: 0.2163 - val_loss: 0.2757 - val_mae: 0.3563 - val_mse: 0.2757\n",
            "Epoch 77/100\n",
            "\u001b[1m413/413\u001b[0m \u001b[32m━━━━━━━━━━━━━━━━━━━━\u001b[0m\u001b[37m\u001b[0m \u001b[1m1s\u001b[0m 3ms/step - loss: 0.2238 - mae: 0.3247 - mse: 0.2238 - val_loss: 0.2851 - val_mae: 0.3673 - val_mse: 0.2851\n",
            "Epoch 78/100\n",
            "\u001b[1m413/413\u001b[0m \u001b[32m━━━━━━━━━━━━━━━━━━━━\u001b[0m\u001b[37m\u001b[0m \u001b[1m3s\u001b[0m 3ms/step - loss: 0.2135 - mae: 0.3179 - mse: 0.2135 - val_loss: 0.2839 - val_mae: 0.3555 - val_mse: 0.2839\n",
            "Epoch 79/100\n",
            "\u001b[1m413/413\u001b[0m \u001b[32m━━━━━━━━━━━━━━━━━━━━\u001b[0m\u001b[37m\u001b[0m \u001b[1m1s\u001b[0m 3ms/step - loss: 0.2225 - mae: 0.3234 - mse: 0.2225 - val_loss: 0.2894 - val_mae: 0.3647 - val_mse: 0.2894\n",
            "Epoch 80/100\n",
            "\u001b[1m413/413\u001b[0m \u001b[32m━━━━━━━━━━━━━━━━━━━━\u001b[0m\u001b[37m\u001b[0m \u001b[1m1s\u001b[0m 3ms/step - loss: 0.2113 - mae: 0.3167 - mse: 0.2113 - val_loss: 0.2807 - val_mae: 0.3632 - val_mse: 0.2807\n",
            "Epoch 81/100\n",
            "\u001b[1m413/413\u001b[0m \u001b[32m━━━━━━━━━━━━━━━━━━━━\u001b[0m\u001b[37m\u001b[0m \u001b[1m1s\u001b[0m 3ms/step - loss: 0.2189 - mae: 0.3230 - mse: 0.2189 - val_loss: 0.2860 - val_mae: 0.3614 - val_mse: 0.2860\n",
            "Epoch 82/100\n",
            "\u001b[1m413/413\u001b[0m \u001b[32m━━━━━━━━━━━━━━━━━━━━\u001b[0m\u001b[37m\u001b[0m \u001b[1m2s\u001b[0m 5ms/step - loss: 0.2197 - mae: 0.3219 - mse: 0.2197 - val_loss: 0.2869 - val_mae: 0.3685 - val_mse: 0.2869\n",
            "Epoch 83/100\n",
            "\u001b[1m413/413\u001b[0m \u001b[32m━━━━━━━━━━━━━━━━━━━━\u001b[0m\u001b[37m\u001b[0m \u001b[1m1s\u001b[0m 4ms/step - loss: 0.2152 - mae: 0.3202 - mse: 0.2152 - val_loss: 0.2855 - val_mae: 0.3616 - val_mse: 0.2855\n",
            "Epoch 84/100\n",
            "\u001b[1m413/413\u001b[0m \u001b[32m━━━━━━━━━━━━━━━━━━━━\u001b[0m\u001b[37m\u001b[0m \u001b[1m2s\u001b[0m 3ms/step - loss: 0.2186 - mae: 0.3201 - mse: 0.2186 - val_loss: 0.2933 - val_mae: 0.3629 - val_mse: 0.2933\n",
            "Epoch 85/100\n",
            "\u001b[1m413/413\u001b[0m \u001b[32m━━━━━━━━━━━━━━━━━━━━\u001b[0m\u001b[37m\u001b[0m \u001b[1m1s\u001b[0m 3ms/step - loss: 0.2185 - mae: 0.3205 - mse: 0.2185 - val_loss: 0.2816 - val_mae: 0.3613 - val_mse: 0.2816\n",
            "Epoch 86/100\n",
            "\u001b[1m413/413\u001b[0m \u001b[32m━━━━━━━━━━━━━━━━━━━━\u001b[0m\u001b[37m\u001b[0m \u001b[1m3s\u001b[0m 3ms/step - loss: 0.2139 - mae: 0.3191 - mse: 0.2139 - val_loss: 0.2909 - val_mae: 0.3644 - val_mse: 0.2909\n",
            "Epoch 87/100\n",
            "\u001b[1m413/413\u001b[0m \u001b[32m━━━━━━━━━━━━━━━━━━━━\u001b[0m\u001b[37m\u001b[0m \u001b[1m2s\u001b[0m 3ms/step - loss: 0.2135 - mae: 0.3157 - mse: 0.2135 - val_loss: 0.2981 - val_mae: 0.3647 - val_mse: 0.2981\n",
            "Epoch 88/100\n",
            "\u001b[1m413/413\u001b[0m \u001b[32m━━━━━━━━━━━━━━━━━━━━\u001b[0m\u001b[37m\u001b[0m \u001b[1m3s\u001b[0m 4ms/step - loss: 0.2066 - mae: 0.3136 - mse: 0.2066 - val_loss: 0.2844 - val_mae: 0.3696 - val_mse: 0.2844\n",
            "Epoch 89/100\n",
            "\u001b[1m413/413\u001b[0m \u001b[32m━━━━━━━━━━━━━━━━━━━━\u001b[0m\u001b[37m\u001b[0m \u001b[1m2s\u001b[0m 3ms/step - loss: 0.2225 - mae: 0.3253 - mse: 0.2225 - val_loss: 0.3048 - val_mae: 0.3689 - val_mse: 0.3048\n",
            "Epoch 90/100\n",
            "\u001b[1m413/413\u001b[0m \u001b[32m━━━━━━━━━━━━━━━━━━━━\u001b[0m\u001b[37m\u001b[0m \u001b[1m1s\u001b[0m 3ms/step - loss: 0.2262 - mae: 0.3249 - mse: 0.2262 - val_loss: 0.2817 - val_mae: 0.3599 - val_mse: 0.2817\n",
            "Epoch 91/100\n",
            "\u001b[1m413/413\u001b[0m \u001b[32m━━━━━━━━━━━━━━━━━━━━\u001b[0m\u001b[37m\u001b[0m \u001b[1m3s\u001b[0m 4ms/step - loss: 0.2173 - mae: 0.3198 - mse: 0.2173 - val_loss: 0.2980 - val_mae: 0.3709 - val_mse: 0.2980\n",
            "Epoch 92/100\n",
            "\u001b[1m413/413\u001b[0m \u001b[32m━━━━━━━━━━━━━━━━━━━━\u001b[0m\u001b[37m\u001b[0m \u001b[1m1s\u001b[0m 3ms/step - loss: 0.2157 - mae: 0.3183 - mse: 0.2157 - val_loss: 0.2852 - val_mae: 0.3632 - val_mse: 0.2852\n",
            "Epoch 93/100\n",
            "\u001b[1m413/413\u001b[0m \u001b[32m━━━━━━━━━━━━━━━━━━━━\u001b[0m\u001b[37m\u001b[0m \u001b[1m1s\u001b[0m 3ms/step - loss: 0.2133 - mae: 0.3164 - mse: 0.2133 - val_loss: 0.2924 - val_mae: 0.3607 - val_mse: 0.2924\n",
            "Epoch 94/100\n",
            "\u001b[1m413/413\u001b[0m \u001b[32m━━━━━━━━━━━━━━━━━━━━\u001b[0m\u001b[37m\u001b[0m \u001b[1m3s\u001b[0m 6ms/step - loss: 0.2049 - mae: 0.3132 - mse: 0.2049 - val_loss: 0.2843 - val_mae: 0.3698 - val_mse: 0.2843\n",
            "Epoch 95/100\n",
            "\u001b[1m413/413\u001b[0m \u001b[32m━━━━━━━━━━━━━━━━━━━━\u001b[0m\u001b[37m\u001b[0m \u001b[1m4s\u001b[0m 4ms/step - loss: 0.2047 - mae: 0.3140 - mse: 0.2047 - val_loss: 0.3376 - val_mae: 0.3813 - val_mse: 0.3376\n",
            "Epoch 96/100\n",
            "\u001b[1m413/413\u001b[0m \u001b[32m━━━━━━━━━━━━━━━━━━━━\u001b[0m\u001b[37m\u001b[0m \u001b[1m2s\u001b[0m 3ms/step - loss: 0.2141 - mae: 0.3183 - mse: 0.2141 - val_loss: 0.2938 - val_mae: 0.3710 - val_mse: 0.2938\n",
            "Epoch 97/100\n",
            "\u001b[1m413/413\u001b[0m \u001b[32m━━━━━━━━━━━━━━━━━━━━\u001b[0m\u001b[37m\u001b[0m \u001b[1m1s\u001b[0m 4ms/step - loss: 0.2170 - mae: 0.3219 - mse: 0.2170 - val_loss: 0.2785 - val_mae: 0.3515 - val_mse: 0.2785\n",
            "Epoch 98/100\n",
            "\u001b[1m413/413\u001b[0m \u001b[32m━━━━━━━━━━━━━━━━━━━━\u001b[0m\u001b[37m\u001b[0m \u001b[1m1s\u001b[0m 4ms/step - loss: 0.2131 - mae: 0.3156 - mse: 0.2131 - val_loss: 0.2821 - val_mae: 0.3623 - val_mse: 0.2821\n",
            "Epoch 99/100\n",
            "\u001b[1m413/413\u001b[0m \u001b[32m━━━━━━━━━━━━━━━━━━━━\u001b[0m\u001b[37m\u001b[0m \u001b[1m3s\u001b[0m 6ms/step - loss: 0.2143 - mae: 0.3186 - mse: 0.2143 - val_loss: 0.2945 - val_mae: 0.3725 - val_mse: 0.2945\n",
            "Epoch 100/100\n",
            "\u001b[1m413/413\u001b[0m \u001b[32m━━━━━━━━━━━━━━━━━━━━\u001b[0m\u001b[37m\u001b[0m \u001b[1m1s\u001b[0m 3ms/step - loss: 0.2148 - mae: 0.3192 - mse: 0.2148 - val_loss: 0.2948 - val_mae: 0.3609 - val_mse: 0.2948\n"
          ]
        }
      ]
    },
    {
      "cell_type": "markdown",
      "source": [
        "### Step 5: Add Batch Normalization"
      ],
      "metadata": {
        "id": "B2BvX8xzMN7f"
      }
    },
    {
      "cell_type": "code",
      "source": [
        "model_bn = keras.Sequential([\n",
        "    layers.Dense(64, activation='linear', input_shape=(X_train.shape[1],)),\n",
        "    layers.BatchNormalization(),\n",
        "    layers.Activation('relu'),\n",
        "\n",
        "    layers.Dense(64, activation='linear'),\n",
        "    layers.BatchNormalization(),\n",
        "    layers.Activation('relu'),\n",
        "\n",
        "    layers.Dense(1)\n",
        "])\n",
        "\n",
        "model_bn.compile(\n",
        "    optimizer='adam',\n",
        "    loss='mse',\n",
        "    metrics=['mae','mse']\n",
        ")\n",
        "\n",
        "history_bn = model_bn.fit(\n",
        "    X_train_scaled, y_train_final,\n",
        "    validation_data=(X_val_scaled, y_val),\n",
        "    epochs=100,\n",
        "    batch_size=32,\n",
        "    verbose=1\n",
        ")\n"
      ],
      "metadata": {
        "colab": {
          "base_uri": "https://localhost:8080/"
        },
        "id": "TULXnp3-MUh5",
        "outputId": "a32eaaa1-544c-4ebd-8793-1509c3004f8e"
      },
      "execution_count": 8,
      "outputs": [
        {
          "output_type": "stream",
          "name": "stdout",
          "text": [
            "Epoch 1/100\n",
            "\u001b[1m413/413\u001b[0m \u001b[32m━━━━━━━━━━━━━━━━━━━━\u001b[0m\u001b[37m\u001b[0m \u001b[1m5s\u001b[0m 4ms/step - loss: 0.6580 - mae: 0.5974 - mse: 0.6580 - val_loss: 0.9798 - val_mae: 0.4901 - val_mse: 0.9798\n",
            "Epoch 2/100\n",
            "\u001b[1m413/413\u001b[0m \u001b[32m━━━━━━━━━━━━━━━━━━━━\u001b[0m\u001b[37m\u001b[0m \u001b[1m2s\u001b[0m 4ms/step - loss: 0.4329 - mae: 0.4775 - mse: 0.4329 - val_loss: 2.6851 - val_mae: 0.4798 - val_mse: 2.6851\n",
            "Epoch 3/100\n",
            "\u001b[1m413/413\u001b[0m \u001b[32m━━━━━━━━━━━━━━━━━━━━\u001b[0m\u001b[37m\u001b[0m \u001b[1m2s\u001b[0m 4ms/step - loss: 0.4066 - mae: 0.4637 - mse: 0.4066 - val_loss: 0.4643 - val_mae: 0.4738 - val_mse: 0.4643\n",
            "Epoch 4/100\n",
            "\u001b[1m413/413\u001b[0m \u001b[32m━━━━━━━━━━━━━━━━━━━━\u001b[0m\u001b[37m\u001b[0m \u001b[1m2s\u001b[0m 4ms/step - loss: 0.3982 - mae: 0.4589 - mse: 0.3982 - val_loss: 0.4734 - val_mae: 0.4859 - val_mse: 0.4734\n",
            "Epoch 5/100\n",
            "\u001b[1m413/413\u001b[0m \u001b[32m━━━━━━━━━━━━━━━━━━━━\u001b[0m\u001b[37m\u001b[0m \u001b[1m3s\u001b[0m 5ms/step - loss: 0.3849 - mae: 0.4474 - mse: 0.3849 - val_loss: 0.5083 - val_mae: 0.4609 - val_mse: 0.5083\n",
            "Epoch 6/100\n",
            "\u001b[1m413/413\u001b[0m \u001b[32m━━━━━━━━━━━━━━━━━━━━\u001b[0m\u001b[37m\u001b[0m \u001b[1m2s\u001b[0m 4ms/step - loss: 0.3712 - mae: 0.4366 - mse: 0.3712 - val_loss: 0.5459 - val_mae: 0.4658 - val_mse: 0.5459\n",
            "Epoch 7/100\n",
            "\u001b[1m413/413\u001b[0m \u001b[32m━━━━━━━━━━━━━━━━━━━━\u001b[0m\u001b[37m\u001b[0m \u001b[1m2s\u001b[0m 4ms/step - loss: 0.3613 - mae: 0.4307 - mse: 0.3613 - val_loss: 1.3000 - val_mae: 0.4405 - val_mse: 1.3000\n",
            "Epoch 8/100\n",
            "\u001b[1m413/413\u001b[0m \u001b[32m━━━━━━━━━━━━━━━━━━━━\u001b[0m\u001b[37m\u001b[0m \u001b[1m2s\u001b[0m 4ms/step - loss: 0.3496 - mae: 0.4221 - mse: 0.3496 - val_loss: 0.4838 - val_mae: 0.4557 - val_mse: 0.4838\n",
            "Epoch 9/100\n",
            "\u001b[1m413/413\u001b[0m \u001b[32m━━━━━━━━━━━━━━━━━━━━\u001b[0m\u001b[37m\u001b[0m \u001b[1m3s\u001b[0m 4ms/step - loss: 0.3566 - mae: 0.4248 - mse: 0.3566 - val_loss: 0.5427 - val_mae: 0.4624 - val_mse: 0.5427\n",
            "Epoch 10/100\n",
            "\u001b[1m413/413\u001b[0m \u001b[32m━━━━━━━━━━━━━━━━━━━━\u001b[0m\u001b[37m\u001b[0m \u001b[1m2s\u001b[0m 4ms/step - loss: 0.3642 - mae: 0.4279 - mse: 0.3642 - val_loss: 0.4900 - val_mae: 0.4425 - val_mse: 0.4900\n",
            "Epoch 11/100\n",
            "\u001b[1m413/413\u001b[0m \u001b[32m━━━━━━━━━━━━━━━━━━━━\u001b[0m\u001b[37m\u001b[0m \u001b[1m2s\u001b[0m 6ms/step - loss: 0.3569 - mae: 0.4224 - mse: 0.3569 - val_loss: 1.9176 - val_mae: 0.4330 - val_mse: 1.9176\n",
            "Epoch 12/100\n",
            "\u001b[1m413/413\u001b[0m \u001b[32m━━━━━━━━━━━━━━━━━━━━\u001b[0m\u001b[37m\u001b[0m \u001b[1m2s\u001b[0m 4ms/step - loss: 0.3613 - mae: 0.4266 - mse: 0.3613 - val_loss: 0.9893 - val_mae: 0.4616 - val_mse: 0.9893\n",
            "Epoch 13/100\n",
            "\u001b[1m413/413\u001b[0m \u001b[32m━━━━━━━━━━━━━━━━━━━━\u001b[0m\u001b[37m\u001b[0m \u001b[1m2s\u001b[0m 3ms/step - loss: 0.3502 - mae: 0.4181 - mse: 0.3502 - val_loss: 0.5769 - val_mae: 0.4695 - val_mse: 0.5769\n",
            "Epoch 14/100\n",
            "\u001b[1m413/413\u001b[0m \u001b[32m━━━━━━━━━━━━━━━━━━━━\u001b[0m\u001b[37m\u001b[0m \u001b[1m2s\u001b[0m 4ms/step - loss: 0.3543 - mae: 0.4195 - mse: 0.3543 - val_loss: 0.5640 - val_mae: 0.4629 - val_mse: 0.5640\n",
            "Epoch 15/100\n",
            "\u001b[1m413/413\u001b[0m \u001b[32m━━━━━━━━━━━━━━━━━━━━\u001b[0m\u001b[37m\u001b[0m \u001b[1m2s\u001b[0m 4ms/step - loss: 0.3660 - mae: 0.4268 - mse: 0.3660 - val_loss: 0.4156 - val_mae: 0.4206 - val_mse: 0.4156\n",
            "Epoch 16/100\n",
            "\u001b[1m413/413\u001b[0m \u001b[32m━━━━━━━━━━━━━━━━━━━━\u001b[0m\u001b[37m\u001b[0m \u001b[1m2s\u001b[0m 4ms/step - loss: 0.3254 - mae: 0.4107 - mse: 0.3254 - val_loss: 0.9938 - val_mae: 0.4868 - val_mse: 0.9938\n",
            "Epoch 17/100\n",
            "\u001b[1m413/413\u001b[0m \u001b[32m━━━━━━━━━━━━━━━━━━━━\u001b[0m\u001b[37m\u001b[0m \u001b[1m2s\u001b[0m 6ms/step - loss: 0.3385 - mae: 0.4106 - mse: 0.3385 - val_loss: 0.4883 - val_mae: 0.4630 - val_mse: 0.4883\n",
            "Epoch 18/100\n",
            "\u001b[1m413/413\u001b[0m \u001b[32m━━━━━━━━━━━━━━━━━━━━\u001b[0m\u001b[37m\u001b[0m \u001b[1m2s\u001b[0m 4ms/step - loss: 0.3369 - mae: 0.4171 - mse: 0.3369 - val_loss: 1.3071 - val_mae: 0.4690 - val_mse: 1.3071\n",
            "Epoch 19/100\n",
            "\u001b[1m413/413\u001b[0m \u001b[32m━━━━━━━━━━━━━━━━━━━━\u001b[0m\u001b[37m\u001b[0m \u001b[1m2s\u001b[0m 4ms/step - loss: 0.3484 - mae: 0.4179 - mse: 0.3484 - val_loss: 0.7348 - val_mae: 0.4513 - val_mse: 0.7348\n",
            "Epoch 20/100\n",
            "\u001b[1m413/413\u001b[0m \u001b[32m━━━━━━━━━━━━━━━━━━━━\u001b[0m\u001b[37m\u001b[0m \u001b[1m2s\u001b[0m 4ms/step - loss: 0.3399 - mae: 0.4108 - mse: 0.3399 - val_loss: 0.8289 - val_mae: 0.4697 - val_mse: 0.8289\n",
            "Epoch 21/100\n",
            "\u001b[1m413/413\u001b[0m \u001b[32m━━━━━━━━━━━━━━━━━━━━\u001b[0m\u001b[37m\u001b[0m \u001b[1m2s\u001b[0m 4ms/step - loss: 0.3212 - mae: 0.4023 - mse: 0.3212 - val_loss: 0.3900 - val_mae: 0.4158 - val_mse: 0.3900\n",
            "Epoch 22/100\n",
            "\u001b[1m413/413\u001b[0m \u001b[32m━━━━━━━━━━━━━━━━━━━━\u001b[0m\u001b[37m\u001b[0m \u001b[1m2s\u001b[0m 4ms/step - loss: 0.3302 - mae: 0.4074 - mse: 0.3302 - val_loss: 0.5772 - val_mae: 0.4974 - val_mse: 0.5772\n",
            "Epoch 23/100\n",
            "\u001b[1m413/413\u001b[0m \u001b[32m━━━━━━━━━━━━━━━━━━━━\u001b[0m\u001b[37m\u001b[0m \u001b[1m4s\u001b[0m 7ms/step - loss: 0.3491 - mae: 0.4164 - mse: 0.3491 - val_loss: 0.6172 - val_mae: 0.4707 - val_mse: 0.6172\n",
            "Epoch 24/100\n",
            "\u001b[1m413/413\u001b[0m \u001b[32m━━━━━━━━━━━━━━━━━━━━\u001b[0m\u001b[37m\u001b[0m \u001b[1m4s\u001b[0m 4ms/step - loss: 0.3256 - mae: 0.4081 - mse: 0.3256 - val_loss: 0.5030 - val_mae: 0.4391 - val_mse: 0.5030\n",
            "Epoch 25/100\n",
            "\u001b[1m413/413\u001b[0m \u001b[32m━━━━━━━━━━━━━━━━━━━━\u001b[0m\u001b[37m\u001b[0m \u001b[1m2s\u001b[0m 4ms/step - loss: 0.3295 - mae: 0.4070 - mse: 0.3295 - val_loss: 0.5588 - val_mae: 0.4876 - val_mse: 0.5588\n",
            "Epoch 26/100\n",
            "\u001b[1m413/413\u001b[0m \u001b[32m━━━━━━━━━━━━━━━━━━━━\u001b[0m\u001b[37m\u001b[0m \u001b[1m2s\u001b[0m 4ms/step - loss: 0.3188 - mae: 0.4020 - mse: 0.3188 - val_loss: 0.4904 - val_mae: 0.4522 - val_mse: 0.4904\n",
            "Epoch 27/100\n",
            "\u001b[1m413/413\u001b[0m \u001b[32m━━━━━━━━━━━━━━━━━━━━\u001b[0m\u001b[37m\u001b[0m \u001b[1m3s\u001b[0m 6ms/step - loss: 0.3321 - mae: 0.4106 - mse: 0.3321 - val_loss: 1.1086 - val_mae: 0.4719 - val_mse: 1.1086\n",
            "Epoch 28/100\n",
            "\u001b[1m413/413\u001b[0m \u001b[32m━━━━━━━━━━━━━━━━━━━━\u001b[0m\u001b[37m\u001b[0m \u001b[1m4s\u001b[0m 4ms/step - loss: 0.3201 - mae: 0.3974 - mse: 0.3201 - val_loss: 0.4478 - val_mae: 0.4409 - val_mse: 0.4478\n",
            "Epoch 29/100\n",
            "\u001b[1m413/413\u001b[0m \u001b[32m━━━━━━━━━━━━━━━━━━━━\u001b[0m\u001b[37m\u001b[0m \u001b[1m3s\u001b[0m 5ms/step - loss: 0.3249 - mae: 0.4027 - mse: 0.3249 - val_loss: 0.7403 - val_mae: 0.4718 - val_mse: 0.7403\n",
            "Epoch 30/100\n",
            "\u001b[1m413/413\u001b[0m \u001b[32m━━━━━━━━━━━━━━━━━━━━\u001b[0m\u001b[37m\u001b[0m \u001b[1m2s\u001b[0m 4ms/step - loss: 0.3280 - mae: 0.4039 - mse: 0.3280 - val_loss: 0.4982 - val_mae: 0.4220 - val_mse: 0.4982\n",
            "Epoch 31/100\n",
            "\u001b[1m413/413\u001b[0m \u001b[32m━━━━━━━━━━━━━━━━━━━━\u001b[0m\u001b[37m\u001b[0m \u001b[1m2s\u001b[0m 4ms/step - loss: 0.3288 - mae: 0.4037 - mse: 0.3288 - val_loss: 0.7990 - val_mae: 0.4974 - val_mse: 0.7990\n",
            "Epoch 32/100\n",
            "\u001b[1m413/413\u001b[0m \u001b[32m━━━━━━━━━━━━━━━━━━━━\u001b[0m\u001b[37m\u001b[0m \u001b[1m3s\u001b[0m 6ms/step - loss: 0.3123 - mae: 0.3960 - mse: 0.3123 - val_loss: 0.5116 - val_mae: 0.4757 - val_mse: 0.5116\n",
            "Epoch 33/100\n",
            "\u001b[1m413/413\u001b[0m \u001b[32m━━━━━━━━━━━━━━━━━━━━\u001b[0m\u001b[37m\u001b[0m \u001b[1m2s\u001b[0m 4ms/step - loss: 0.3225 - mae: 0.3998 - mse: 0.3225 - val_loss: 0.7630 - val_mae: 0.4981 - val_mse: 0.7630\n",
            "Epoch 34/100\n",
            "\u001b[1m413/413\u001b[0m \u001b[32m━━━━━━━━━━━━━━━━━━━━\u001b[0m\u001b[37m\u001b[0m \u001b[1m3s\u001b[0m 4ms/step - loss: 0.3046 - mae: 0.3885 - mse: 0.3046 - val_loss: 0.6575 - val_mae: 0.4794 - val_mse: 0.6575\n",
            "Epoch 35/100\n",
            "\u001b[1m413/413\u001b[0m \u001b[32m━━━━━━━━━━━━━━━━━━━━\u001b[0m\u001b[37m\u001b[0m \u001b[1m2s\u001b[0m 4ms/step - loss: 0.3140 - mae: 0.3975 - mse: 0.3140 - val_loss: 0.4611 - val_mae: 0.4370 - val_mse: 0.4611\n",
            "Epoch 36/100\n",
            "\u001b[1m413/413\u001b[0m \u001b[32m━━━━━━━━━━━━━━━━━━━━\u001b[0m\u001b[37m\u001b[0m \u001b[1m2s\u001b[0m 4ms/step - loss: 0.3361 - mae: 0.4069 - mse: 0.3361 - val_loss: 0.4705 - val_mae: 0.4084 - val_mse: 0.4705\n",
            "Epoch 37/100\n",
            "\u001b[1m413/413\u001b[0m \u001b[32m━━━━━━━━━━━━━━━━━━━━\u001b[0m\u001b[37m\u001b[0m \u001b[1m3s\u001b[0m 5ms/step - loss: 0.3167 - mae: 0.3962 - mse: 0.3167 - val_loss: 0.7487 - val_mae: 0.5034 - val_mse: 0.7487\n",
            "Epoch 38/100\n",
            "\u001b[1m413/413\u001b[0m \u001b[32m━━━━━━━━━━━━━━━━━━━━\u001b[0m\u001b[37m\u001b[0m \u001b[1m2s\u001b[0m 4ms/step - loss: 0.3137 - mae: 0.3960 - mse: 0.3137 - val_loss: 0.5849 - val_mae: 0.4987 - val_mse: 0.5849\n",
            "Epoch 39/100\n",
            "\u001b[1m413/413\u001b[0m \u001b[32m━━━━━━━━━━━━━━━━━━━━\u001b[0m\u001b[37m\u001b[0m \u001b[1m2s\u001b[0m 4ms/step - loss: 0.3122 - mae: 0.3914 - mse: 0.3122 - val_loss: 0.4854 - val_mae: 0.4496 - val_mse: 0.4854\n",
            "Epoch 40/100\n",
            "\u001b[1m413/413\u001b[0m \u001b[32m━━━━━━━━━━━━━━━━━━━━\u001b[0m\u001b[37m\u001b[0m \u001b[1m2s\u001b[0m 4ms/step - loss: 0.3110 - mae: 0.3934 - mse: 0.3110 - val_loss: 0.5925 - val_mae: 0.4635 - val_mse: 0.5925\n",
            "Epoch 41/100\n",
            "\u001b[1m413/413\u001b[0m \u001b[32m━━━━━━━━━━━━━━━━━━━━\u001b[0m\u001b[37m\u001b[0m \u001b[1m2s\u001b[0m 4ms/step - loss: 0.3155 - mae: 0.3985 - mse: 0.3155 - val_loss: 0.4726 - val_mae: 0.4242 - val_mse: 0.4726\n",
            "Epoch 42/100\n",
            "\u001b[1m413/413\u001b[0m \u001b[32m━━━━━━━━━━━━━━━━━━━━\u001b[0m\u001b[37m\u001b[0m \u001b[1m1s\u001b[0m 4ms/step - loss: 0.3059 - mae: 0.3887 - mse: 0.3059 - val_loss: 0.5291 - val_mae: 0.4709 - val_mse: 0.5291\n",
            "Epoch 43/100\n",
            "\u001b[1m413/413\u001b[0m \u001b[32m━━━━━━━━━━━━━━━━━━━━\u001b[0m\u001b[37m\u001b[0m \u001b[1m3s\u001b[0m 5ms/step - loss: 0.2998 - mae: 0.3854 - mse: 0.2998 - val_loss: 0.6298 - val_mae: 0.4873 - val_mse: 0.6298\n",
            "Epoch 44/100\n",
            "\u001b[1m413/413\u001b[0m \u001b[32m━━━━━━━━━━━━━━━━━━━━\u001b[0m\u001b[37m\u001b[0m \u001b[1m2s\u001b[0m 4ms/step - loss: 0.3163 - mae: 0.3943 - mse: 0.3163 - val_loss: 0.5468 - val_mae: 0.4397 - val_mse: 0.5468\n",
            "Epoch 45/100\n",
            "\u001b[1m413/413\u001b[0m \u001b[32m━━━━━━━━━━━━━━━━━━━━\u001b[0m\u001b[37m\u001b[0m \u001b[1m2s\u001b[0m 4ms/step - loss: 0.3051 - mae: 0.3921 - mse: 0.3051 - val_loss: 1.1047 - val_mae: 0.5247 - val_mse: 1.1047\n",
            "Epoch 46/100\n",
            "\u001b[1m413/413\u001b[0m \u001b[32m━━━━━━━━━━━━━━━━━━━━\u001b[0m\u001b[37m\u001b[0m \u001b[1m2s\u001b[0m 4ms/step - loss: 0.2981 - mae: 0.3846 - mse: 0.2981 - val_loss: 0.6236 - val_mae: 0.5174 - val_mse: 0.6236\n",
            "Epoch 47/100\n",
            "\u001b[1m413/413\u001b[0m \u001b[32m━━━━━━━━━━━━━━━━━━━━\u001b[0m\u001b[37m\u001b[0m \u001b[1m2s\u001b[0m 3ms/step - loss: 0.3125 - mae: 0.3957 - mse: 0.3125 - val_loss: 0.5708 - val_mae: 0.4623 - val_mse: 0.5708\n",
            "Epoch 48/100\n",
            "\u001b[1m413/413\u001b[0m \u001b[32m━━━━━━━━━━━━━━━━━━━━\u001b[0m\u001b[37m\u001b[0m \u001b[1m2s\u001b[0m 5ms/step - loss: 0.3074 - mae: 0.3950 - mse: 0.3074 - val_loss: 0.5493 - val_mae: 0.4805 - val_mse: 0.5493\n",
            "Epoch 49/100\n",
            "\u001b[1m413/413\u001b[0m \u001b[32m━━━━━━━━━━━━━━━━━━━━\u001b[0m\u001b[37m\u001b[0m \u001b[1m3s\u001b[0m 5ms/step - loss: 0.3108 - mae: 0.3939 - mse: 0.3108 - val_loss: 0.5668 - val_mae: 0.4547 - val_mse: 0.5668\n",
            "Epoch 50/100\n",
            "\u001b[1m413/413\u001b[0m \u001b[32m━━━━━━━━━━━━━━━━━━━━\u001b[0m\u001b[37m\u001b[0m \u001b[1m2s\u001b[0m 4ms/step - loss: 0.3121 - mae: 0.3937 - mse: 0.3121 - val_loss: 0.8212 - val_mae: 0.4933 - val_mse: 0.8212\n",
            "Epoch 51/100\n",
            "\u001b[1m413/413\u001b[0m \u001b[32m━━━━━━━━━━━━━━━━━━━━\u001b[0m\u001b[37m\u001b[0m \u001b[1m2s\u001b[0m 4ms/step - loss: 0.3042 - mae: 0.3899 - mse: 0.3042 - val_loss: 0.4510 - val_mae: 0.4179 - val_mse: 0.4510\n",
            "Epoch 52/100\n",
            "\u001b[1m413/413\u001b[0m \u001b[32m━━━━━━━━━━━━━━━━━━━━\u001b[0m\u001b[37m\u001b[0m \u001b[1m1s\u001b[0m 3ms/step - loss: 0.2963 - mae: 0.3853 - mse: 0.2963 - val_loss: 0.9585 - val_mae: 0.5257 - val_mse: 0.9585\n",
            "Epoch 53/100\n",
            "\u001b[1m413/413\u001b[0m \u001b[32m━━━━━━━━━━━━━━━━━━━━\u001b[0m\u001b[37m\u001b[0m \u001b[1m3s\u001b[0m 4ms/step - loss: 0.3018 - mae: 0.3887 - mse: 0.3018 - val_loss: 0.6002 - val_mae: 0.4665 - val_mse: 0.6002\n",
            "Epoch 54/100\n",
            "\u001b[1m413/413\u001b[0m \u001b[32m━━━━━━━━━━━━━━━━━━━━\u001b[0m\u001b[37m\u001b[0m \u001b[1m2s\u001b[0m 6ms/step - loss: 0.2999 - mae: 0.3900 - mse: 0.2999 - val_loss: 0.7253 - val_mae: 0.4806 - val_mse: 0.7253\n",
            "Epoch 55/100\n",
            "\u001b[1m413/413\u001b[0m \u001b[32m━━━━━━━━━━━━━━━━━━━━\u001b[0m\u001b[37m\u001b[0m \u001b[1m2s\u001b[0m 5ms/step - loss: 0.3081 - mae: 0.3913 - mse: 0.3081 - val_loss: 0.4916 - val_mae: 0.4493 - val_mse: 0.4916\n",
            "Epoch 56/100\n",
            "\u001b[1m413/413\u001b[0m \u001b[32m━━━━━━━━━━━━━━━━━━━━\u001b[0m\u001b[37m\u001b[0m \u001b[1m2s\u001b[0m 4ms/step - loss: 0.2884 - mae: 0.3818 - mse: 0.2884 - val_loss: 0.6423 - val_mae: 0.5110 - val_mse: 0.6423\n",
            "Epoch 57/100\n",
            "\u001b[1m413/413\u001b[0m \u001b[32m━━━━━━━━━━━━━━━━━━━━\u001b[0m\u001b[37m\u001b[0m \u001b[1m3s\u001b[0m 4ms/step - loss: 0.2931 - mae: 0.3828 - mse: 0.2931 - val_loss: 0.7828 - val_mae: 0.5236 - val_mse: 0.7828\n",
            "Epoch 58/100\n",
            "\u001b[1m413/413\u001b[0m \u001b[32m━━━━━━━━━━━━━━━━━━━━\u001b[0m\u001b[37m\u001b[0m \u001b[1m2s\u001b[0m 4ms/step - loss: 0.3056 - mae: 0.3885 - mse: 0.3056 - val_loss: 0.4174 - val_mae: 0.4108 - val_mse: 0.4174\n",
            "Epoch 59/100\n",
            "\u001b[1m413/413\u001b[0m \u001b[32m━━━━━━━━━━━━━━━━━━━━\u001b[0m\u001b[37m\u001b[0m \u001b[1m3s\u001b[0m 5ms/step - loss: 0.2943 - mae: 0.3809 - mse: 0.2943 - val_loss: 1.2006 - val_mae: 0.4980 - val_mse: 1.2006\n",
            "Epoch 60/100\n",
            "\u001b[1m413/413\u001b[0m \u001b[32m━━━━━━━━━━━━━━━━━━━━\u001b[0m\u001b[37m\u001b[0m \u001b[1m2s\u001b[0m 6ms/step - loss: 0.2977 - mae: 0.3839 - mse: 0.2977 - val_loss: 0.4226 - val_mae: 0.4112 - val_mse: 0.4226\n",
            "Epoch 61/100\n",
            "\u001b[1m413/413\u001b[0m \u001b[32m━━━━━━━━━━━━━━━━━━━━\u001b[0m\u001b[37m\u001b[0m \u001b[1m2s\u001b[0m 4ms/step - loss: 0.3217 - mae: 0.4003 - mse: 0.3217 - val_loss: 0.4564 - val_mae: 0.4131 - val_mse: 0.4564\n",
            "Epoch 62/100\n",
            "\u001b[1m413/413\u001b[0m \u001b[32m━━━━━━━━━━━━━━━━━━━━\u001b[0m\u001b[37m\u001b[0m \u001b[1m2s\u001b[0m 4ms/step - loss: 0.3049 - mae: 0.3913 - mse: 0.3049 - val_loss: 0.4658 - val_mae: 0.4132 - val_mse: 0.4658\n",
            "Epoch 63/100\n",
            "\u001b[1m413/413\u001b[0m \u001b[32m━━━━━━━━━━━━━━━━━━━━\u001b[0m\u001b[37m\u001b[0m \u001b[1m3s\u001b[0m 4ms/step - loss: 0.3053 - mae: 0.3864 - mse: 0.3053 - val_loss: 0.6359 - val_mae: 0.4850 - val_mse: 0.6359\n",
            "Epoch 64/100\n",
            "\u001b[1m413/413\u001b[0m \u001b[32m━━━━━━━━━━━━━━━━━━━━\u001b[0m\u001b[37m\u001b[0m \u001b[1m2s\u001b[0m 4ms/step - loss: 0.3064 - mae: 0.3911 - mse: 0.3064 - val_loss: 0.5401 - val_mae: 0.4485 - val_mse: 0.5401\n",
            "Epoch 65/100\n",
            "\u001b[1m413/413\u001b[0m \u001b[32m━━━━━━━━━━━━━━━━━━━━\u001b[0m\u001b[37m\u001b[0m \u001b[1m2s\u001b[0m 6ms/step - loss: 0.2958 - mae: 0.3841 - mse: 0.2958 - val_loss: 0.6485 - val_mae: 0.4499 - val_mse: 0.6485\n",
            "Epoch 66/100\n",
            "\u001b[1m413/413\u001b[0m \u001b[32m━━━━━━━━━━━━━━━━━━━━\u001b[0m\u001b[37m\u001b[0m \u001b[1m1s\u001b[0m 3ms/step - loss: 0.3076 - mae: 0.3923 - mse: 0.3076 - val_loss: 0.6855 - val_mae: 0.5227 - val_mse: 0.6855\n",
            "Epoch 67/100\n",
            "\u001b[1m413/413\u001b[0m \u001b[32m━━━━━━━━━━━━━━━━━━━━\u001b[0m\u001b[37m\u001b[0m \u001b[1m2s\u001b[0m 4ms/step - loss: 0.2986 - mae: 0.3806 - mse: 0.2986 - val_loss: 0.7843 - val_mae: 0.5050 - val_mse: 0.7843\n",
            "Epoch 68/100\n",
            "\u001b[1m413/413\u001b[0m \u001b[32m━━━━━━━━━━━━━━━━━━━━\u001b[0m\u001b[37m\u001b[0m \u001b[1m2s\u001b[0m 4ms/step - loss: 0.2891 - mae: 0.3794 - mse: 0.2891 - val_loss: 0.4756 - val_mae: 0.4367 - val_mse: 0.4756\n",
            "Epoch 69/100\n",
            "\u001b[1m413/413\u001b[0m \u001b[32m━━━━━━━━━━━━━━━━━━━━\u001b[0m\u001b[37m\u001b[0m \u001b[1m3s\u001b[0m 4ms/step - loss: 0.2951 - mae: 0.3826 - mse: 0.2951 - val_loss: 0.5804 - val_mae: 0.4630 - val_mse: 0.5804\n",
            "Epoch 70/100\n",
            "\u001b[1m413/413\u001b[0m \u001b[32m━━━━━━━━━━━━━━━━━━━━\u001b[0m\u001b[37m\u001b[0m \u001b[1m3s\u001b[0m 4ms/step - loss: 0.2997 - mae: 0.3860 - mse: 0.2997 - val_loss: 0.5618 - val_mae: 0.4642 - val_mse: 0.5618\n",
            "Epoch 71/100\n",
            "\u001b[1m413/413\u001b[0m \u001b[32m━━━━━━━━━━━━━━━━━━━━\u001b[0m\u001b[37m\u001b[0m \u001b[1m2s\u001b[0m 6ms/step - loss: 0.2807 - mae: 0.3718 - mse: 0.2807 - val_loss: 0.5935 - val_mae: 0.4805 - val_mse: 0.5935\n",
            "Epoch 72/100\n",
            "\u001b[1m413/413\u001b[0m \u001b[32m━━━━━━━━━━━━━━━━━━━━\u001b[0m\u001b[37m\u001b[0m \u001b[1m2s\u001b[0m 4ms/step - loss: 0.2997 - mae: 0.3840 - mse: 0.2997 - val_loss: 0.6608 - val_mae: 0.4804 - val_mse: 0.6608\n",
            "Epoch 73/100\n",
            "\u001b[1m413/413\u001b[0m \u001b[32m━━━━━━━━━━━━━━━━━━━━\u001b[0m\u001b[37m\u001b[0m \u001b[1m3s\u001b[0m 4ms/step - loss: 0.2969 - mae: 0.3821 - mse: 0.2969 - val_loss: 1.2591 - val_mae: 0.4853 - val_mse: 1.2591\n",
            "Epoch 74/100\n",
            "\u001b[1m413/413\u001b[0m \u001b[32m━━━━━━━━━━━━━━━━━━━━\u001b[0m\u001b[37m\u001b[0m \u001b[1m3s\u001b[0m 4ms/step - loss: 0.3004 - mae: 0.3844 - mse: 0.3004 - val_loss: 0.6326 - val_mae: 0.4866 - val_mse: 0.6326\n",
            "Epoch 75/100\n",
            "\u001b[1m413/413\u001b[0m \u001b[32m━━━━━━━━━━━━━━━━━━━━\u001b[0m\u001b[37m\u001b[0m \u001b[1m2s\u001b[0m 4ms/step - loss: 0.2910 - mae: 0.3805 - mse: 0.2910 - val_loss: 0.4957 - val_mae: 0.4482 - val_mse: 0.4957\n",
            "Epoch 76/100\n",
            "\u001b[1m413/413\u001b[0m \u001b[32m━━━━━━━━━━━━━━━━━━━━\u001b[0m\u001b[37m\u001b[0m \u001b[1m3s\u001b[0m 7ms/step - loss: 0.2849 - mae: 0.3750 - mse: 0.2849 - val_loss: 0.8137 - val_mae: 0.4976 - val_mse: 0.8137\n",
            "Epoch 77/100\n",
            "\u001b[1m413/413\u001b[0m \u001b[32m━━━━━━━━━━━━━━━━━━━━\u001b[0m\u001b[37m\u001b[0m \u001b[1m4s\u001b[0m 4ms/step - loss: 0.2895 - mae: 0.3792 - mse: 0.2895 - val_loss: 0.7481 - val_mae: 0.4989 - val_mse: 0.7481\n",
            "Epoch 78/100\n",
            "\u001b[1m413/413\u001b[0m \u001b[32m━━━━━━━━━━━━━━━━━━━━\u001b[0m\u001b[37m\u001b[0m \u001b[1m2s\u001b[0m 4ms/step - loss: 0.2927 - mae: 0.3797 - mse: 0.2927 - val_loss: 0.4390 - val_mae: 0.4328 - val_mse: 0.4390\n",
            "Epoch 79/100\n",
            "\u001b[1m413/413\u001b[0m \u001b[32m━━━━━━━━━━━━━━━━━━━━\u001b[0m\u001b[37m\u001b[0m \u001b[1m3s\u001b[0m 5ms/step - loss: 0.2963 - mae: 0.3826 - mse: 0.2963 - val_loss: 0.7570 - val_mae: 0.4826 - val_mse: 0.7570\n",
            "Epoch 80/100\n",
            "\u001b[1m413/413\u001b[0m \u001b[32m━━━━━━━━━━━━━━━━━━━━\u001b[0m\u001b[37m\u001b[0m \u001b[1m2s\u001b[0m 5ms/step - loss: 0.2873 - mae: 0.3797 - mse: 0.2873 - val_loss: 0.4515 - val_mae: 0.4325 - val_mse: 0.4515\n",
            "Epoch 81/100\n",
            "\u001b[1m413/413\u001b[0m \u001b[32m━━━━━━━━━━━━━━━━━━━━\u001b[0m\u001b[37m\u001b[0m \u001b[1m3s\u001b[0m 5ms/step - loss: 0.2984 - mae: 0.3826 - mse: 0.2984 - val_loss: 0.5892 - val_mae: 0.4762 - val_mse: 0.5892\n",
            "Epoch 82/100\n",
            "\u001b[1m413/413\u001b[0m \u001b[32m━━━━━━━━━━━━━━━━━━━━\u001b[0m\u001b[37m\u001b[0m \u001b[1m2s\u001b[0m 4ms/step - loss: 0.3006 - mae: 0.3855 - mse: 0.3006 - val_loss: 0.5845 - val_mae: 0.4621 - val_mse: 0.5845\n",
            "Epoch 83/100\n",
            "\u001b[1m413/413\u001b[0m \u001b[32m━━━━━━━━━━━━━━━━━━━━\u001b[0m\u001b[37m\u001b[0m \u001b[1m3s\u001b[0m 5ms/step - loss: 0.2933 - mae: 0.3860 - mse: 0.2933 - val_loss: 0.6454 - val_mae: 0.4678 - val_mse: 0.6454\n",
            "Epoch 84/100\n",
            "\u001b[1m413/413\u001b[0m \u001b[32m━━━━━━━━━━━━━━━━━━━━\u001b[0m\u001b[37m\u001b[0m \u001b[1m2s\u001b[0m 4ms/step - loss: 0.2796 - mae: 0.3718 - mse: 0.2796 - val_loss: 0.6761 - val_mae: 0.4775 - val_mse: 0.6761\n",
            "Epoch 85/100\n",
            "\u001b[1m413/413\u001b[0m \u001b[32m━━━━━━━━━━━━━━━━━━━━\u001b[0m\u001b[37m\u001b[0m \u001b[1m2s\u001b[0m 5ms/step - loss: 0.2828 - mae: 0.3795 - mse: 0.2828 - val_loss: 0.6587 - val_mae: 0.4573 - val_mse: 0.6587\n",
            "Epoch 86/100\n",
            "\u001b[1m413/413\u001b[0m \u001b[32m━━━━━━━━━━━━━━━━━━━━\u001b[0m\u001b[37m\u001b[0m \u001b[1m3s\u001b[0m 7ms/step - loss: 0.2932 - mae: 0.3815 - mse: 0.2932 - val_loss: 0.4717 - val_mae: 0.4269 - val_mse: 0.4717\n",
            "Epoch 87/100\n",
            "\u001b[1m413/413\u001b[0m \u001b[32m━━━━━━━━━━━━━━━━━━━━\u001b[0m\u001b[37m\u001b[0m \u001b[1m2s\u001b[0m 5ms/step - loss: 0.2835 - mae: 0.3737 - mse: 0.2835 - val_loss: 0.5985 - val_mae: 0.4893 - val_mse: 0.5985\n",
            "Epoch 88/100\n",
            "\u001b[1m413/413\u001b[0m \u001b[32m━━━━━━━━━━━━━━━━━━━━\u001b[0m\u001b[37m\u001b[0m \u001b[1m2s\u001b[0m 4ms/step - loss: 0.2874 - mae: 0.3760 - mse: 0.2874 - val_loss: 0.5622 - val_mae: 0.4928 - val_mse: 0.5622\n",
            "Epoch 89/100\n",
            "\u001b[1m413/413\u001b[0m \u001b[32m━━━━━━━━━━━━━━━━━━━━\u001b[0m\u001b[37m\u001b[0m \u001b[1m3s\u001b[0m 4ms/step - loss: 0.2904 - mae: 0.3764 - mse: 0.2904 - val_loss: 0.5800 - val_mae: 0.4744 - val_mse: 0.5800\n",
            "Epoch 90/100\n",
            "\u001b[1m413/413\u001b[0m \u001b[32m━━━━━━━━━━━━━━━━━━━━\u001b[0m\u001b[37m\u001b[0m \u001b[1m2s\u001b[0m 3ms/step - loss: 0.2885 - mae: 0.3779 - mse: 0.2885 - val_loss: 0.4278 - val_mae: 0.4214 - val_mse: 0.4278\n",
            "Epoch 91/100\n",
            "\u001b[1m413/413\u001b[0m \u001b[32m━━━━━━━━━━━━━━━━━━━━\u001b[0m\u001b[37m\u001b[0m \u001b[1m4s\u001b[0m 6ms/step - loss: 0.2883 - mae: 0.3773 - mse: 0.2883 - val_loss: 0.6183 - val_mae: 0.4914 - val_mse: 0.6183\n",
            "Epoch 92/100\n",
            "\u001b[1m413/413\u001b[0m \u001b[32m━━━━━━━━━━━━━━━━━━━━\u001b[0m\u001b[37m\u001b[0m \u001b[1m2s\u001b[0m 4ms/step - loss: 0.2877 - mae: 0.3797 - mse: 0.2877 - val_loss: 0.5359 - val_mae: 0.4717 - val_mse: 0.5359\n",
            "Epoch 93/100\n",
            "\u001b[1m413/413\u001b[0m \u001b[32m━━━━━━━━━━━━━━━━━━━━\u001b[0m\u001b[37m\u001b[0m \u001b[1m2s\u001b[0m 4ms/step - loss: 0.2882 - mae: 0.3802 - mse: 0.2882 - val_loss: 0.6060 - val_mae: 0.4475 - val_mse: 0.6060\n",
            "Epoch 94/100\n",
            "\u001b[1m413/413\u001b[0m \u001b[32m━━━━━━━━━━━━━━━━━━━━\u001b[0m\u001b[37m\u001b[0m \u001b[1m2s\u001b[0m 4ms/step - loss: 0.2917 - mae: 0.3830 - mse: 0.2917 - val_loss: 0.7635 - val_mae: 0.5100 - val_mse: 0.7635\n",
            "Epoch 95/100\n",
            "\u001b[1m413/413\u001b[0m \u001b[32m━━━━━━━━━━━━━━━━━━━━\u001b[0m\u001b[37m\u001b[0m \u001b[1m2s\u001b[0m 4ms/step - loss: 0.2944 - mae: 0.3813 - mse: 0.2944 - val_loss: 0.9039 - val_mae: 0.5021 - val_mse: 0.9039\n",
            "Epoch 96/100\n",
            "\u001b[1m413/413\u001b[0m \u001b[32m━━━━━━━━━━━━━━━━━━━━\u001b[0m\u001b[37m\u001b[0m \u001b[1m2s\u001b[0m 4ms/step - loss: 0.2858 - mae: 0.3776 - mse: 0.2858 - val_loss: 0.5027 - val_mae: 0.4549 - val_mse: 0.5027\n",
            "Epoch 97/100\n",
            "\u001b[1m413/413\u001b[0m \u001b[32m━━━━━━━━━━━━━━━━━━━━\u001b[0m\u001b[37m\u001b[0m \u001b[1m4s\u001b[0m 7ms/step - loss: 0.2802 - mae: 0.3707 - mse: 0.2802 - val_loss: 0.8244 - val_mae: 0.4526 - val_mse: 0.8244\n",
            "Epoch 98/100\n",
            "\u001b[1m413/413\u001b[0m \u001b[32m━━━━━━━━━━━━━━━━━━━━\u001b[0m\u001b[37m\u001b[0m \u001b[1m4s\u001b[0m 3ms/step - loss: 0.2817 - mae: 0.3764 - mse: 0.2817 - val_loss: 0.5443 - val_mae: 0.4712 - val_mse: 0.5443\n",
            "Epoch 99/100\n",
            "\u001b[1m413/413\u001b[0m \u001b[32m━━━━━━━━━━━━━━━━━━━━\u001b[0m\u001b[37m\u001b[0m \u001b[1m3s\u001b[0m 4ms/step - loss: 0.2768 - mae: 0.3695 - mse: 0.2768 - val_loss: 0.9369 - val_mae: 0.4962 - val_mse: 0.9369\n",
            "Epoch 100/100\n",
            "\u001b[1m413/413\u001b[0m \u001b[32m━━━━━━━━━━━━━━━━━━━━\u001b[0m\u001b[37m\u001b[0m \u001b[1m3s\u001b[0m 4ms/step - loss: 0.2674 - mae: 0.3640 - mse: 0.2674 - val_loss: 0.4765 - val_mae: 0.4456 - val_mse: 0.4765\n"
          ]
        }
      ]
    },
    {
      "cell_type": "markdown",
      "source": [
        "### Step 6: Incorporate Regularization (L2 + Dropout)"
      ],
      "metadata": {
        "id": "tQgCuJD1MXYT"
      }
    },
    {
      "cell_type": "code",
      "source": [
        "l2_reg = 1e-4\n",
        "dropout_rate = 0.3\n",
        "\n",
        "model_reg = keras.Sequential([\n",
        "    layers.Dense(64, activation='relu',\n",
        "                 kernel_regularizer=regularizers.l2(l2_reg),\n",
        "                 input_shape=(X_train.shape[1],)),\n",
        "    layers.Dropout(dropout_rate),\n",
        "\n",
        "    layers.Dense(64, activation='relu',\n",
        "                 kernel_regularizer=regularizers.l2(l2_reg)),\n",
        "    layers.Dropout(dropout_rate),\n",
        "\n",
        "    layers.Dense(1)\n",
        "])\n",
        "\n",
        "model_reg.compile(\n",
        "    optimizer='adam',\n",
        "    loss='mse',\n",
        "    metrics=['mae','mse']\n",
        ")\n",
        "\n",
        "history_reg = model_reg.fit(\n",
        "    X_train_scaled, y_train_final,\n",
        "    validation_data=(X_val_scaled, y_val),\n",
        "    epochs=100,\n",
        "    batch_size=32,\n",
        "    verbose=1\n",
        ")\n"
      ],
      "metadata": {
        "colab": {
          "base_uri": "https://localhost:8080/"
        },
        "id": "Ff769ITSMcfC",
        "outputId": "31f9f00a-d476-4328-832f-3b69306ea07d"
      },
      "execution_count": 9,
      "outputs": [
        {
          "output_type": "stream",
          "name": "stdout",
          "text": [
            "Epoch 1/100\n",
            "\u001b[1m413/413\u001b[0m \u001b[32m━━━━━━━━━━━━━━━━━━━━\u001b[0m\u001b[37m\u001b[0m \u001b[1m5s\u001b[0m 7ms/step - loss: 1.7567 - mae: 0.9228 - mse: 1.7487 - val_loss: 0.5365 - val_mae: 0.4974 - val_mse: 0.5286\n",
            "Epoch 2/100\n",
            "\u001b[1m413/413\u001b[0m \u001b[32m━━━━━━━━━━━━━━━━━━━━\u001b[0m\u001b[37m\u001b[0m \u001b[1m4s\u001b[0m 4ms/step - loss: 0.6613 - mae: 0.5713 - mse: 0.6533 - val_loss: 0.4850 - val_mae: 0.4679 - val_mse: 0.4770\n",
            "Epoch 3/100\n",
            "\u001b[1m413/413\u001b[0m \u001b[32m━━━━━━━━━━━━━━━━━━━━\u001b[0m\u001b[37m\u001b[0m \u001b[1m2s\u001b[0m 3ms/step - loss: 0.5307 - mae: 0.5136 - mse: 0.5227 - val_loss: 0.6296 - val_mae: 0.4673 - val_mse: 0.6215\n",
            "Epoch 4/100\n",
            "\u001b[1m413/413\u001b[0m \u001b[32m━━━━━━━━━━━━━━━━━━━━\u001b[0m\u001b[37m\u001b[0m \u001b[1m2s\u001b[0m 4ms/step - loss: 0.5974 - mae: 0.4972 - mse: 0.5893 - val_loss: 0.4198 - val_mae: 0.4479 - val_mse: 0.4116\n",
            "Epoch 5/100\n",
            "\u001b[1m413/413\u001b[0m \u001b[32m━━━━━━━━━━━━━━━━━━━━\u001b[0m\u001b[37m\u001b[0m \u001b[1m3s\u001b[0m 5ms/step - loss: 0.4895 - mae: 0.4919 - mse: 0.4813 - val_loss: 0.4221 - val_mae: 0.4495 - val_mse: 0.4138\n",
            "Epoch 6/100\n",
            "\u001b[1m413/413\u001b[0m \u001b[32m━━━━━━━━━━━━━━━━━━━━\u001b[0m\u001b[37m\u001b[0m \u001b[1m2s\u001b[0m 5ms/step - loss: 0.4637 - mae: 0.4837 - mse: 0.4554 - val_loss: 0.4006 - val_mae: 0.4414 - val_mse: 0.3923\n",
            "Epoch 7/100\n",
            "\u001b[1m413/413\u001b[0m \u001b[32m━━━━━━━━━━━━━━━━━━━━\u001b[0m\u001b[37m\u001b[0m \u001b[1m2s\u001b[0m 4ms/step - loss: 0.4520 - mae: 0.4714 - mse: 0.4437 - val_loss: 0.4263 - val_mae: 0.4396 - val_mse: 0.4179\n",
            "Epoch 8/100\n",
            "\u001b[1m413/413\u001b[0m \u001b[32m━━━━━━━━━━━━━━━━━━━━\u001b[0m\u001b[37m\u001b[0m \u001b[1m2s\u001b[0m 4ms/step - loss: 0.4565 - mae: 0.4773 - mse: 0.4481 - val_loss: 0.3819 - val_mae: 0.4324 - val_mse: 0.3735\n",
            "Epoch 9/100\n",
            "\u001b[1m413/413\u001b[0m \u001b[32m━━━━━━━━━━━━━━━━━━━━\u001b[0m\u001b[37m\u001b[0m \u001b[1m2s\u001b[0m 3ms/step - loss: 0.4399 - mae: 0.4591 - mse: 0.4315 - val_loss: 0.3907 - val_mae: 0.4314 - val_mse: 0.3822\n",
            "Epoch 10/100\n",
            "\u001b[1m413/413\u001b[0m \u001b[32m━━━━━━━━━━━━━━━━━━━━\u001b[0m\u001b[37m\u001b[0m \u001b[1m3s\u001b[0m 3ms/step - loss: 0.4161 - mae: 0.4560 - mse: 0.4076 - val_loss: 0.3833 - val_mae: 0.4257 - val_mse: 0.3748\n",
            "Epoch 11/100\n",
            "\u001b[1m413/413\u001b[0m \u001b[32m━━━━━━━━━━━━━━━━━━━━\u001b[0m\u001b[37m\u001b[0m \u001b[1m3s\u001b[0m 5ms/step - loss: 0.4179 - mae: 0.4564 - mse: 0.4093 - val_loss: 0.3805 - val_mae: 0.4222 - val_mse: 0.3720\n",
            "Epoch 12/100\n",
            "\u001b[1m413/413\u001b[0m \u001b[32m━━━━━━━━━━━━━━━━━━━━\u001b[0m\u001b[37m\u001b[0m \u001b[1m2s\u001b[0m 4ms/step - loss: 0.4208 - mae: 0.4503 - mse: 0.4122 - val_loss: 0.3717 - val_mae: 0.4219 - val_mse: 0.3631\n",
            "Epoch 13/100\n",
            "\u001b[1m413/413\u001b[0m \u001b[32m━━━━━━━━━━━━━━━━━━━━\u001b[0m\u001b[37m\u001b[0m \u001b[1m2s\u001b[0m 4ms/step - loss: 0.3884 - mae: 0.4355 - mse: 0.3798 - val_loss: 0.3644 - val_mae: 0.4135 - val_mse: 0.3557\n",
            "Epoch 14/100\n",
            "\u001b[1m413/413\u001b[0m \u001b[32m━━━━━━━━━━━━━━━━━━━━\u001b[0m\u001b[37m\u001b[0m \u001b[1m1s\u001b[0m 3ms/step - loss: 0.3772 - mae: 0.4279 - mse: 0.3684 - val_loss: 0.3533 - val_mae: 0.4084 - val_mse: 0.3445\n",
            "Epoch 15/100\n",
            "\u001b[1m413/413\u001b[0m \u001b[32m━━━━━━━━━━━━━━━━━━━━\u001b[0m\u001b[37m\u001b[0m \u001b[1m3s\u001b[0m 4ms/step - loss: 0.3902 - mae: 0.4358 - mse: 0.3814 - val_loss: 0.3595 - val_mae: 0.4124 - val_mse: 0.3507\n",
            "Epoch 16/100\n",
            "\u001b[1m413/413\u001b[0m \u001b[32m━━━━━━━━━━━━━━━━━━━━\u001b[0m\u001b[37m\u001b[0m \u001b[1m2s\u001b[0m 5ms/step - loss: 0.3968 - mae: 0.4401 - mse: 0.3879 - val_loss: 0.3585 - val_mae: 0.4110 - val_mse: 0.3495\n",
            "Epoch 17/100\n",
            "\u001b[1m413/413\u001b[0m \u001b[32m━━━━━━━━━━━━━━━━━━━━\u001b[0m\u001b[37m\u001b[0m \u001b[1m2s\u001b[0m 4ms/step - loss: 0.4056 - mae: 0.4412 - mse: 0.3965 - val_loss: 0.3496 - val_mae: 0.4071 - val_mse: 0.3405\n",
            "Epoch 18/100\n",
            "\u001b[1m413/413\u001b[0m \u001b[32m━━━━━━━━━━━━━━━━━━━━\u001b[0m\u001b[37m\u001b[0m \u001b[1m2s\u001b[0m 4ms/step - loss: 0.3678 - mae: 0.4227 - mse: 0.3586 - val_loss: 0.3433 - val_mae: 0.4067 - val_mse: 0.3340\n",
            "Epoch 19/100\n",
            "\u001b[1m413/413\u001b[0m \u001b[32m━━━━━━━━━━━━━━━━━━━━\u001b[0m\u001b[37m\u001b[0m \u001b[1m2s\u001b[0m 4ms/step - loss: 0.3613 - mae: 0.4173 - mse: 0.3520 - val_loss: 0.3466 - val_mae: 0.4027 - val_mse: 0.3372\n",
            "Epoch 20/100\n",
            "\u001b[1m413/413\u001b[0m \u001b[32m━━━━━━━━━━━━━━━━━━━━\u001b[0m\u001b[37m\u001b[0m \u001b[1m3s\u001b[0m 4ms/step - loss: 0.3755 - mae: 0.4238 - mse: 0.3661 - val_loss: 0.3520 - val_mae: 0.4042 - val_mse: 0.3425\n",
            "Epoch 21/100\n",
            "\u001b[1m413/413\u001b[0m \u001b[32m━━━━━━━━━━━━━━━━━━━━\u001b[0m\u001b[37m\u001b[0m \u001b[1m1s\u001b[0m 3ms/step - loss: 0.3817 - mae: 0.4259 - mse: 0.3722 - val_loss: 0.3483 - val_mae: 0.4003 - val_mse: 0.3387\n",
            "Epoch 22/100\n",
            "\u001b[1m413/413\u001b[0m \u001b[32m━━━━━━━━━━━━━━━━━━━━\u001b[0m\u001b[37m\u001b[0m \u001b[1m3s\u001b[0m 6ms/step - loss: 0.3632 - mae: 0.4191 - mse: 0.3536 - val_loss: 0.3359 - val_mae: 0.3960 - val_mse: 0.3262\n",
            "Epoch 23/100\n",
            "\u001b[1m413/413\u001b[0m \u001b[32m━━━━━━━━━━━━━━━━━━━━\u001b[0m\u001b[37m\u001b[0m \u001b[1m2s\u001b[0m 4ms/step - loss: 0.3526 - mae: 0.4140 - mse: 0.3429 - val_loss: 0.3721 - val_mae: 0.3956 - val_mse: 0.3623\n",
            "Epoch 24/100\n",
            "\u001b[1m413/413\u001b[0m \u001b[32m━━━━━━━━━━━━━━━━━━━━\u001b[0m\u001b[37m\u001b[0m \u001b[1m2s\u001b[0m 5ms/step - loss: 0.3647 - mae: 0.4123 - mse: 0.3549 - val_loss: 0.3401 - val_mae: 0.4021 - val_mse: 0.3302\n",
            "Epoch 25/100\n",
            "\u001b[1m413/413\u001b[0m \u001b[32m━━━━━━━━━━━━━━━━━━━━\u001b[0m\u001b[37m\u001b[0m \u001b[1m2s\u001b[0m 4ms/step - loss: 0.3564 - mae: 0.4145 - mse: 0.3465 - val_loss: 0.3335 - val_mae: 0.3949 - val_mse: 0.3236\n",
            "Epoch 26/100\n",
            "\u001b[1m413/413\u001b[0m \u001b[32m━━━━━━━━━━━━━━━━━━━━\u001b[0m\u001b[37m\u001b[0m \u001b[1m3s\u001b[0m 4ms/step - loss: 0.3516 - mae: 0.4123 - mse: 0.3417 - val_loss: 0.3396 - val_mae: 0.3961 - val_mse: 0.3297\n",
            "Epoch 27/100\n",
            "\u001b[1m413/413\u001b[0m \u001b[32m━━━━━━━━━━━━━━━━━━━━\u001b[0m\u001b[37m\u001b[0m \u001b[1m2s\u001b[0m 6ms/step - loss: 0.3477 - mae: 0.4079 - mse: 0.3378 - val_loss: 0.3321 - val_mae: 0.3927 - val_mse: 0.3223\n",
            "Epoch 28/100\n",
            "\u001b[1m413/413\u001b[0m \u001b[32m━━━━━━━━━━━━━━━━━━━━\u001b[0m\u001b[37m\u001b[0m \u001b[1m2s\u001b[0m 4ms/step - loss: 0.3528 - mae: 0.4096 - mse: 0.3429 - val_loss: 0.3368 - val_mae: 0.3959 - val_mse: 0.3268\n",
            "Epoch 29/100\n",
            "\u001b[1m413/413\u001b[0m \u001b[32m━━━━━━━━━━━━━━━━━━━━\u001b[0m\u001b[37m\u001b[0m \u001b[1m2s\u001b[0m 4ms/step - loss: 0.3635 - mae: 0.4126 - mse: 0.3535 - val_loss: 0.3268 - val_mae: 0.3888 - val_mse: 0.3168\n",
            "Epoch 30/100\n",
            "\u001b[1m413/413\u001b[0m \u001b[32m━━━━━━━━━━━━━━━━━━━━\u001b[0m\u001b[37m\u001b[0m \u001b[1m2s\u001b[0m 3ms/step - loss: 0.3538 - mae: 0.4113 - mse: 0.3437 - val_loss: 0.3300 - val_mae: 0.3945 - val_mse: 0.3199\n",
            "Epoch 31/100\n",
            "\u001b[1m413/413\u001b[0m \u001b[32m━━━━━━━━━━━━━━━━━━━━\u001b[0m\u001b[37m\u001b[0m \u001b[1m1s\u001b[0m 3ms/step - loss: 0.3531 - mae: 0.4111 - mse: 0.3430 - val_loss: 0.3206 - val_mae: 0.3883 - val_mse: 0.3105\n",
            "Epoch 32/100\n",
            "\u001b[1m413/413\u001b[0m \u001b[32m━━━━━━━━━━━━━━━━━━━━\u001b[0m\u001b[37m\u001b[0m \u001b[1m1s\u001b[0m 3ms/step - loss: 0.3351 - mae: 0.4025 - mse: 0.3249 - val_loss: 0.3226 - val_mae: 0.3829 - val_mse: 0.3125\n",
            "Epoch 33/100\n",
            "\u001b[1m413/413\u001b[0m \u001b[32m━━━━━━━━━━━━━━━━━━━━\u001b[0m\u001b[37m\u001b[0m \u001b[1m3s\u001b[0m 5ms/step - loss: 0.3461 - mae: 0.4076 - mse: 0.3360 - val_loss: 0.3284 - val_mae: 0.3913 - val_mse: 0.3183\n",
            "Epoch 34/100\n",
            "\u001b[1m413/413\u001b[0m \u001b[32m━━━━━━━━━━━━━━━━━━━━\u001b[0m\u001b[37m\u001b[0m \u001b[1m2s\u001b[0m 4ms/step - loss: 0.3419 - mae: 0.4034 - mse: 0.3317 - val_loss: 0.3268 - val_mae: 0.3845 - val_mse: 0.3167\n",
            "Epoch 35/100\n",
            "\u001b[1m413/413\u001b[0m \u001b[32m━━━━━━━━━━━━━━━━━━━━\u001b[0m\u001b[37m\u001b[0m \u001b[1m2s\u001b[0m 3ms/step - loss: 0.3572 - mae: 0.4121 - mse: 0.3471 - val_loss: 0.3223 - val_mae: 0.3887 - val_mse: 0.3123\n",
            "Epoch 36/100\n",
            "\u001b[1m413/413\u001b[0m \u001b[32m━━━━━━━━━━━━━━━━━━━━\u001b[0m\u001b[37m\u001b[0m \u001b[1m2s\u001b[0m 4ms/step - loss: 0.3381 - mae: 0.4030 - mse: 0.3281 - val_loss: 0.3244 - val_mae: 0.3849 - val_mse: 0.3143\n",
            "Epoch 37/100\n",
            "\u001b[1m413/413\u001b[0m \u001b[32m━━━━━━━━━━━━━━━━━━━━\u001b[0m\u001b[37m\u001b[0m \u001b[1m2s\u001b[0m 3ms/step - loss: 0.3560 - mae: 0.4111 - mse: 0.3459 - val_loss: 0.3196 - val_mae: 0.3835 - val_mse: 0.3095\n",
            "Epoch 38/100\n",
            "\u001b[1m413/413\u001b[0m \u001b[32m━━━━━━━━━━━━━━━━━━━━\u001b[0m\u001b[37m\u001b[0m \u001b[1m1s\u001b[0m 3ms/step - loss: 0.3313 - mae: 0.4028 - mse: 0.3212 - val_loss: 0.3235 - val_mae: 0.3874 - val_mse: 0.3135\n",
            "Epoch 39/100\n",
            "\u001b[1m413/413\u001b[0m \u001b[32m━━━━━━━━━━━━━━━━━━━━\u001b[0m\u001b[37m\u001b[0m \u001b[1m4s\u001b[0m 6ms/step - loss: 0.3376 - mae: 0.4029 - mse: 0.3276 - val_loss: 0.3234 - val_mae: 0.3848 - val_mse: 0.3133\n",
            "Epoch 40/100\n",
            "\u001b[1m413/413\u001b[0m \u001b[32m━━━━━━━━━━━━━━━━━━━━\u001b[0m\u001b[37m\u001b[0m \u001b[1m1s\u001b[0m 4ms/step - loss: 0.3463 - mae: 0.4054 - mse: 0.3362 - val_loss: 0.3209 - val_mae: 0.3899 - val_mse: 0.3108\n",
            "Epoch 41/100\n",
            "\u001b[1m413/413\u001b[0m \u001b[32m━━━━━━━━━━━━━━━━━━━━\u001b[0m\u001b[37m\u001b[0m \u001b[1m2s\u001b[0m 4ms/step - loss: 0.3441 - mae: 0.4058 - mse: 0.3340 - val_loss: 0.3328 - val_mae: 0.3806 - val_mse: 0.3226\n",
            "Epoch 42/100\n",
            "\u001b[1m413/413\u001b[0m \u001b[32m━━━━━━━━━━━━━━━━━━━━\u001b[0m\u001b[37m\u001b[0m \u001b[1m2s\u001b[0m 3ms/step - loss: 0.3427 - mae: 0.4015 - mse: 0.3325 - val_loss: 0.3151 - val_mae: 0.3805 - val_mse: 0.3050\n",
            "Epoch 43/100\n",
            "\u001b[1m413/413\u001b[0m \u001b[32m━━━━━━━━━━━━━━━━━━━━\u001b[0m\u001b[37m\u001b[0m \u001b[1m2s\u001b[0m 4ms/step - loss: 0.3317 - mae: 0.3980 - mse: 0.3216 - val_loss: 0.3182 - val_mae: 0.3901 - val_mse: 0.3081\n",
            "Epoch 44/100\n",
            "\u001b[1m413/413\u001b[0m \u001b[32m━━━━━━━━━━━━━━━━━━━━\u001b[0m\u001b[37m\u001b[0m \u001b[1m2s\u001b[0m 3ms/step - loss: 0.3373 - mae: 0.4031 - mse: 0.3272 - val_loss: 0.3221 - val_mae: 0.3765 - val_mse: 0.3120\n",
            "Epoch 45/100\n",
            "\u001b[1m413/413\u001b[0m \u001b[32m━━━━━━━━━━━━━━━━━━━━\u001b[0m\u001b[37m\u001b[0m \u001b[1m3s\u001b[0m 5ms/step - loss: 0.3379 - mae: 0.4006 - mse: 0.3278 - val_loss: 0.3172 - val_mae: 0.3824 - val_mse: 0.3071\n",
            "Epoch 46/100\n",
            "\u001b[1m413/413\u001b[0m \u001b[32m━━━━━━━━━━━━━━━━━━━━\u001b[0m\u001b[37m\u001b[0m \u001b[1m2s\u001b[0m 4ms/step - loss: 0.3417 - mae: 0.4036 - mse: 0.3315 - val_loss: 0.3241 - val_mae: 0.3918 - val_mse: 0.3140\n",
            "Epoch 47/100\n",
            "\u001b[1m413/413\u001b[0m \u001b[32m━━━━━━━━━━━━━━━━━━━━\u001b[0m\u001b[37m\u001b[0m \u001b[1m2s\u001b[0m 4ms/step - loss: 0.3310 - mae: 0.3999 - mse: 0.3209 - val_loss: 0.3171 - val_mae: 0.3860 - val_mse: 0.3069\n",
            "Epoch 48/100\n",
            "\u001b[1m413/413\u001b[0m \u001b[32m━━━━━━━━━━━━━━━━━━━━\u001b[0m\u001b[37m\u001b[0m \u001b[1m1s\u001b[0m 3ms/step - loss: 0.3240 - mae: 0.3961 - mse: 0.3139 - val_loss: 0.3169 - val_mae: 0.3808 - val_mse: 0.3067\n",
            "Epoch 49/100\n",
            "\u001b[1m413/413\u001b[0m \u001b[32m━━━━━━━━━━━━━━━━━━━━\u001b[0m\u001b[37m\u001b[0m \u001b[1m1s\u001b[0m 3ms/step - loss: 0.3348 - mae: 0.4029 - mse: 0.3246 - val_loss: 0.3102 - val_mae: 0.3802 - val_mse: 0.3000\n",
            "Epoch 50/100\n",
            "\u001b[1m413/413\u001b[0m \u001b[32m━━━━━━━━━━━━━━━━━━━━\u001b[0m\u001b[37m\u001b[0m \u001b[1m1s\u001b[0m 3ms/step - loss: 0.3296 - mae: 0.4008 - mse: 0.3194 - val_loss: 0.3114 - val_mae: 0.3807 - val_mse: 0.3011\n",
            "Epoch 51/100\n",
            "\u001b[1m413/413\u001b[0m \u001b[32m━━━━━━━━━━━━━━━━━━━━\u001b[0m\u001b[37m\u001b[0m \u001b[1m3s\u001b[0m 4ms/step - loss: 0.3500 - mae: 0.4053 - mse: 0.3398 - val_loss: 0.3110 - val_mae: 0.3831 - val_mse: 0.3008\n",
            "Epoch 52/100\n",
            "\u001b[1m413/413\u001b[0m \u001b[32m━━━━━━━━━━━━━━━━━━━━\u001b[0m\u001b[37m\u001b[0m \u001b[1m2s\u001b[0m 4ms/step - loss: 0.3235 - mae: 0.3950 - mse: 0.3133 - val_loss: 0.3110 - val_mae: 0.3775 - val_mse: 0.3007\n",
            "Epoch 53/100\n",
            "\u001b[1m413/413\u001b[0m \u001b[32m━━━━━━━━━━━━━━━━━━━━\u001b[0m\u001b[37m\u001b[0m \u001b[1m3s\u001b[0m 4ms/step - loss: 0.3316 - mae: 0.4017 - mse: 0.3214 - val_loss: 0.3176 - val_mae: 0.3832 - val_mse: 0.3074\n",
            "Epoch 54/100\n",
            "\u001b[1m413/413\u001b[0m \u001b[32m━━━━━━━━━━━━━━━━━━━━\u001b[0m\u001b[37m\u001b[0m \u001b[1m2s\u001b[0m 3ms/step - loss: 0.3305 - mae: 0.4001 - mse: 0.3203 - val_loss: 0.3129 - val_mae: 0.3840 - val_mse: 0.3027\n",
            "Epoch 55/100\n",
            "\u001b[1m413/413\u001b[0m \u001b[32m━━━━━━━━━━━━━━━━━━━━\u001b[0m\u001b[37m\u001b[0m \u001b[1m2s\u001b[0m 4ms/step - loss: 0.3424 - mae: 0.4045 - mse: 0.3321 - val_loss: 0.3127 - val_mae: 0.3842 - val_mse: 0.3024\n",
            "Epoch 56/100\n",
            "\u001b[1m413/413\u001b[0m \u001b[32m━━━━━━━━━━━━━━━━━━━━\u001b[0m\u001b[37m\u001b[0m \u001b[1m2s\u001b[0m 4ms/step - loss: 0.3322 - mae: 0.4000 - mse: 0.3220 - val_loss: 0.3058 - val_mae: 0.3723 - val_mse: 0.2956\n",
            "Epoch 57/100\n",
            "\u001b[1m413/413\u001b[0m \u001b[32m━━━━━━━━━━━━━━━━━━━━\u001b[0m\u001b[37m\u001b[0m \u001b[1m4s\u001b[0m 6ms/step - loss: 0.3495 - mae: 0.4085 - mse: 0.3393 - val_loss: 0.3191 - val_mae: 0.3828 - val_mse: 0.3089\n",
            "Epoch 58/100\n",
            "\u001b[1m413/413\u001b[0m \u001b[32m━━━━━━━━━━━━━━━━━━━━\u001b[0m\u001b[37m\u001b[0m \u001b[1m2s\u001b[0m 4ms/step - loss: 0.3327 - mae: 0.3994 - mse: 0.3225 - val_loss: 0.3138 - val_mae: 0.3767 - val_mse: 0.3034\n",
            "Epoch 59/100\n",
            "\u001b[1m413/413\u001b[0m \u001b[32m━━━━━━━━━━━━━━━━━━━━\u001b[0m\u001b[37m\u001b[0m \u001b[1m1s\u001b[0m 4ms/step - loss: 0.3372 - mae: 0.4017 - mse: 0.3269 - val_loss: 0.3062 - val_mae: 0.3756 - val_mse: 0.2960\n",
            "Epoch 60/100\n",
            "\u001b[1m413/413\u001b[0m \u001b[32m━━━━━━━━━━━━━━━━━━━━\u001b[0m\u001b[37m\u001b[0m \u001b[1m1s\u001b[0m 4ms/step - loss: 0.3359 - mae: 0.4009 - mse: 0.3256 - val_loss: 0.3168 - val_mae: 0.3902 - val_mse: 0.3065\n",
            "Epoch 61/100\n",
            "\u001b[1m413/413\u001b[0m \u001b[32m━━━━━━━━━━━━━━━━━━━━\u001b[0m\u001b[37m\u001b[0m \u001b[1m2s\u001b[0m 4ms/step - loss: 0.3365 - mae: 0.4036 - mse: 0.3262 - val_loss: 0.3117 - val_mae: 0.3839 - val_mse: 0.3014\n",
            "Epoch 62/100\n",
            "\u001b[1m413/413\u001b[0m \u001b[32m━━━━━━━━━━━━━━━━━━━━\u001b[0m\u001b[37m\u001b[0m \u001b[1m2s\u001b[0m 3ms/step - loss: 0.3296 - mae: 0.3985 - mse: 0.3194 - val_loss: 0.3098 - val_mae: 0.3785 - val_mse: 0.2996\n",
            "Epoch 63/100\n",
            "\u001b[1m413/413\u001b[0m \u001b[32m━━━━━━━━━━━━━━━━━━━━\u001b[0m\u001b[37m\u001b[0m \u001b[1m4s\u001b[0m 6ms/step - loss: 0.3345 - mae: 0.3947 - mse: 0.3243 - val_loss: 0.3117 - val_mae: 0.3787 - val_mse: 0.3016\n",
            "Epoch 64/100\n",
            "\u001b[1m413/413\u001b[0m \u001b[32m━━━━━━━━━━━━━━━━━━━━\u001b[0m\u001b[37m\u001b[0m \u001b[1m2s\u001b[0m 4ms/step - loss: 0.3330 - mae: 0.3998 - mse: 0.3229 - val_loss: 0.3096 - val_mae: 0.3797 - val_mse: 0.2994\n",
            "Epoch 65/100\n",
            "\u001b[1m413/413\u001b[0m \u001b[32m━━━━━━━━━━━━━━━━━━━━\u001b[0m\u001b[37m\u001b[0m \u001b[1m2s\u001b[0m 3ms/step - loss: 0.3357 - mae: 0.3990 - mse: 0.3255 - val_loss: 0.3116 - val_mae: 0.3846 - val_mse: 0.3014\n",
            "Epoch 66/100\n",
            "\u001b[1m413/413\u001b[0m \u001b[32m━━━━━━━━━━━━━━━━━━━━\u001b[0m\u001b[37m\u001b[0m \u001b[1m3s\u001b[0m 3ms/step - loss: 0.3243 - mae: 0.3937 - mse: 0.3142 - val_loss: 0.3092 - val_mae: 0.3821 - val_mse: 0.2991\n",
            "Epoch 67/100\n",
            "\u001b[1m413/413\u001b[0m \u001b[32m━━━━━━━━━━━━━━━━━━━━\u001b[0m\u001b[37m\u001b[0m \u001b[1m1s\u001b[0m 3ms/step - loss: 0.3273 - mae: 0.3983 - mse: 0.3171 - val_loss: 0.3261 - val_mae: 0.3877 - val_mse: 0.3159\n",
            "Epoch 68/100\n",
            "\u001b[1m413/413\u001b[0m \u001b[32m━━━━━━━━━━━━━━━━━━━━\u001b[0m\u001b[37m\u001b[0m \u001b[1m3s\u001b[0m 3ms/step - loss: 0.3284 - mae: 0.3950 - mse: 0.3183 - val_loss: 0.3045 - val_mae: 0.3755 - val_mse: 0.2943\n",
            "Epoch 69/100\n",
            "\u001b[1m413/413\u001b[0m \u001b[32m━━━━━━━━━━━━━━━━━━━━\u001b[0m\u001b[37m\u001b[0m \u001b[1m3s\u001b[0m 5ms/step - loss: 0.3174 - mae: 0.3890 - mse: 0.3072 - val_loss: 0.3112 - val_mae: 0.3724 - val_mse: 0.3010\n",
            "Epoch 70/100\n",
            "\u001b[1m413/413\u001b[0m \u001b[32m━━━━━━━━━━━━━━━━━━━━\u001b[0m\u001b[37m\u001b[0m \u001b[1m2s\u001b[0m 4ms/step - loss: 0.3395 - mae: 0.3990 - mse: 0.3293 - val_loss: 0.3177 - val_mae: 0.3870 - val_mse: 0.3074\n",
            "Epoch 71/100\n",
            "\u001b[1m413/413\u001b[0m \u001b[32m━━━━━━━━━━━━━━━━━━━━\u001b[0m\u001b[37m\u001b[0m \u001b[1m3s\u001b[0m 4ms/step - loss: 0.3284 - mae: 0.3958 - mse: 0.3181 - val_loss: 0.3157 - val_mae: 0.3773 - val_mse: 0.3054\n",
            "Epoch 72/100\n",
            "\u001b[1m413/413\u001b[0m \u001b[32m━━━━━━━━━━━━━━━━━━━━\u001b[0m\u001b[37m\u001b[0m \u001b[1m1s\u001b[0m 3ms/step - loss: 0.3232 - mae: 0.3934 - mse: 0.3129 - val_loss: 0.3115 - val_mae: 0.3853 - val_mse: 0.3011\n",
            "Epoch 73/100\n",
            "\u001b[1m413/413\u001b[0m \u001b[32m━━━━━━━━━━━━━━━━━━━━\u001b[0m\u001b[37m\u001b[0m \u001b[1m1s\u001b[0m 3ms/step - loss: 0.3407 - mae: 0.4035 - mse: 0.3303 - val_loss: 0.3215 - val_mae: 0.3855 - val_mse: 0.3112\n",
            "Epoch 74/100\n",
            "\u001b[1m413/413\u001b[0m \u001b[32m━━━━━━━━━━━━━━━━━━━━\u001b[0m\u001b[37m\u001b[0m \u001b[1m1s\u001b[0m 3ms/step - loss: 0.3315 - mae: 0.4018 - mse: 0.3212 - val_loss: 0.3101 - val_mae: 0.3836 - val_mse: 0.2998\n",
            "Epoch 75/100\n",
            "\u001b[1m413/413\u001b[0m \u001b[32m━━━━━━━━━━━━━━━━━━━━\u001b[0m\u001b[37m\u001b[0m \u001b[1m2s\u001b[0m 5ms/step - loss: 0.3192 - mae: 0.3943 - mse: 0.3089 - val_loss: 0.3053 - val_mae: 0.3730 - val_mse: 0.2950\n",
            "Epoch 76/100\n",
            "\u001b[1m413/413\u001b[0m \u001b[32m━━━━━━━━━━━━━━━━━━━━\u001b[0m\u001b[37m\u001b[0m \u001b[1m2s\u001b[0m 3ms/step - loss: 0.3374 - mae: 0.4010 - mse: 0.3270 - val_loss: 0.3262 - val_mae: 0.3892 - val_mse: 0.3158\n",
            "Epoch 77/100\n",
            "\u001b[1m413/413\u001b[0m \u001b[32m━━━━━━━━━━━━━━━━━━━━\u001b[0m\u001b[37m\u001b[0m \u001b[1m1s\u001b[0m 4ms/step - loss: 0.3372 - mae: 0.4009 - mse: 0.3268 - val_loss: 0.3258 - val_mae: 0.3858 - val_mse: 0.3154\n",
            "Epoch 78/100\n",
            "\u001b[1m413/413\u001b[0m \u001b[32m━━━━━━━━━━━━━━━━━━━━\u001b[0m\u001b[37m\u001b[0m \u001b[1m2s\u001b[0m 4ms/step - loss: 0.3309 - mae: 0.3993 - mse: 0.3205 - val_loss: 0.3106 - val_mae: 0.3825 - val_mse: 0.3002\n",
            "Epoch 79/100\n",
            "\u001b[1m413/413\u001b[0m \u001b[32m━━━━━━━━━━━━━━━━━━━━\u001b[0m\u001b[37m\u001b[0m \u001b[1m2s\u001b[0m 3ms/step - loss: 0.3312 - mae: 0.3996 - mse: 0.3207 - val_loss: 0.3084 - val_mae: 0.3794 - val_mse: 0.2980\n",
            "Epoch 80/100\n",
            "\u001b[1m413/413\u001b[0m \u001b[32m━━━━━━━━━━━━━━━━━━━━\u001b[0m\u001b[37m\u001b[0m \u001b[1m1s\u001b[0m 3ms/step - loss: 0.3285 - mae: 0.3965 - mse: 0.3181 - val_loss: 0.3132 - val_mae: 0.3832 - val_mse: 0.3028\n",
            "Epoch 81/100\n",
            "\u001b[1m413/413\u001b[0m \u001b[32m━━━━━━━━━━━━━━━━━━━━\u001b[0m\u001b[37m\u001b[0m \u001b[1m3s\u001b[0m 5ms/step - loss: 0.3206 - mae: 0.3955 - mse: 0.3103 - val_loss: 0.3210 - val_mae: 0.3821 - val_mse: 0.3107\n",
            "Epoch 82/100\n",
            "\u001b[1m413/413\u001b[0m \u001b[32m━━━━━━━━━━━━━━━━━━━━\u001b[0m\u001b[37m\u001b[0m \u001b[1m2s\u001b[0m 5ms/step - loss: 0.3472 - mae: 0.4086 - mse: 0.3369 - val_loss: 0.3008 - val_mae: 0.3658 - val_mse: 0.2905\n",
            "Epoch 83/100\n",
            "\u001b[1m413/413\u001b[0m \u001b[32m━━━━━━━━━━━━━━━━━━━━\u001b[0m\u001b[37m\u001b[0m \u001b[1m2s\u001b[0m 4ms/step - loss: 0.3344 - mae: 0.4028 - mse: 0.3241 - val_loss: 0.3120 - val_mae: 0.3871 - val_mse: 0.3018\n",
            "Epoch 84/100\n",
            "\u001b[1m413/413\u001b[0m \u001b[32m━━━━━━━━━━━━━━━━━━━━\u001b[0m\u001b[37m\u001b[0m \u001b[1m2s\u001b[0m 4ms/step - loss: 0.3270 - mae: 0.3969 - mse: 0.3167 - val_loss: 0.3110 - val_mae: 0.3804 - val_mse: 0.3007\n",
            "Epoch 85/100\n",
            "\u001b[1m413/413\u001b[0m \u001b[32m━━━━━━━━━━━━━━━━━━━━\u001b[0m\u001b[37m\u001b[0m \u001b[1m1s\u001b[0m 3ms/step - loss: 0.3240 - mae: 0.3958 - mse: 0.3138 - val_loss: 0.3060 - val_mae: 0.3693 - val_mse: 0.2957\n",
            "Epoch 86/100\n",
            "\u001b[1m413/413\u001b[0m \u001b[32m━━━━━━━━━━━━━━━━━━━━\u001b[0m\u001b[37m\u001b[0m \u001b[1m3s\u001b[0m 4ms/step - loss: 0.3254 - mae: 0.3944 - mse: 0.3151 - val_loss: 0.3032 - val_mae: 0.3737 - val_mse: 0.2928\n",
            "Epoch 87/100\n",
            "\u001b[1m413/413\u001b[0m \u001b[32m━━━━━━━━━━━━━━━━━━━━\u001b[0m\u001b[37m\u001b[0m \u001b[1m2s\u001b[0m 5ms/step - loss: 0.3277 - mae: 0.3978 - mse: 0.3174 - val_loss: 0.3053 - val_mae: 0.3730 - val_mse: 0.2951\n",
            "Epoch 88/100\n",
            "\u001b[1m413/413\u001b[0m \u001b[32m━━━━━━━━━━━━━━━━━━━━\u001b[0m\u001b[37m\u001b[0m \u001b[1m2s\u001b[0m 4ms/step - loss: 0.3369 - mae: 0.4046 - mse: 0.3266 - val_loss: 0.3088 - val_mae: 0.3717 - val_mse: 0.2985\n",
            "Epoch 89/100\n",
            "\u001b[1m413/413\u001b[0m \u001b[32m━━━━━━━━━━━━━━━━━━━━\u001b[0m\u001b[37m\u001b[0m \u001b[1m2s\u001b[0m 4ms/step - loss: 0.3203 - mae: 0.3935 - mse: 0.3100 - val_loss: 0.3107 - val_mae: 0.3732 - val_mse: 0.3004\n",
            "Epoch 90/100\n",
            "\u001b[1m413/413\u001b[0m \u001b[32m━━━━━━━━━━━━━━━━━━━━\u001b[0m\u001b[37m\u001b[0m \u001b[1m1s\u001b[0m 3ms/step - loss: 0.3307 - mae: 0.3985 - mse: 0.3204 - val_loss: 0.3054 - val_mae: 0.3763 - val_mse: 0.2951\n",
            "Epoch 91/100\n",
            "\u001b[1m413/413\u001b[0m \u001b[32m━━━━━━━━━━━━━━━━━━━━\u001b[0m\u001b[37m\u001b[0m \u001b[1m1s\u001b[0m 3ms/step - loss: 0.3281 - mae: 0.3966 - mse: 0.3177 - val_loss: 0.3168 - val_mae: 0.3832 - val_mse: 0.3065\n",
            "Epoch 92/100\n",
            "\u001b[1m413/413\u001b[0m \u001b[32m━━━━━━━━━━━━━━━━━━━━\u001b[0m\u001b[37m\u001b[0m \u001b[1m3s\u001b[0m 3ms/step - loss: 0.3264 - mae: 0.3966 - mse: 0.3161 - val_loss: 0.3133 - val_mae: 0.3790 - val_mse: 0.3030\n",
            "Epoch 93/100\n",
            "\u001b[1m413/413\u001b[0m \u001b[32m━━━━━━━━━━━━━━━━━━━━\u001b[0m\u001b[37m\u001b[0m \u001b[1m3s\u001b[0m 4ms/step - loss: 0.3388 - mae: 0.4029 - mse: 0.3284 - val_loss: 0.3107 - val_mae: 0.3802 - val_mse: 0.3003\n",
            "Epoch 94/100\n",
            "\u001b[1m413/413\u001b[0m \u001b[32m━━━━━━━━━━━━━━━━━━━━\u001b[0m\u001b[37m\u001b[0m \u001b[1m2s\u001b[0m 4ms/step - loss: 0.3326 - mae: 0.3981 - mse: 0.3222 - val_loss: 0.3089 - val_mae: 0.3845 - val_mse: 0.2985\n",
            "Epoch 95/100\n",
            "\u001b[1m413/413\u001b[0m \u001b[32m━━━━━━━━━━━━━━━━━━━━\u001b[0m\u001b[37m\u001b[0m \u001b[1m2s\u001b[0m 4ms/step - loss: 0.3332 - mae: 0.4000 - mse: 0.3228 - val_loss: 0.3047 - val_mae: 0.3743 - val_mse: 0.2943\n",
            "Epoch 96/100\n",
            "\u001b[1m413/413\u001b[0m \u001b[32m━━━━━━━━━━━━━━━━━━━━\u001b[0m\u001b[37m\u001b[0m \u001b[1m1s\u001b[0m 3ms/step - loss: 0.3304 - mae: 0.3972 - mse: 0.3200 - val_loss: 0.3069 - val_mae: 0.3713 - val_mse: 0.2965\n",
            "Epoch 97/100\n",
            "\u001b[1m413/413\u001b[0m \u001b[32m━━━━━━━━━━━━━━━━━━━━\u001b[0m\u001b[37m\u001b[0m \u001b[1m3s\u001b[0m 4ms/step - loss: 0.3234 - mae: 0.3931 - mse: 0.3129 - val_loss: 0.3144 - val_mae: 0.3814 - val_mse: 0.3040\n",
            "Epoch 98/100\n",
            "\u001b[1m413/413\u001b[0m \u001b[32m━━━━━━━━━━━━━━━━━━━━\u001b[0m\u001b[37m\u001b[0m \u001b[1m3s\u001b[0m 4ms/step - loss: 0.3271 - mae: 0.3976 - mse: 0.3167 - val_loss: 0.3051 - val_mae: 0.3731 - val_mse: 0.2946\n",
            "Epoch 99/100\n",
            "\u001b[1m413/413\u001b[0m \u001b[32m━━━━━━━━━━━━━━━━━━━━\u001b[0m\u001b[37m\u001b[0m \u001b[1m2s\u001b[0m 5ms/step - loss: 0.3270 - mae: 0.3986 - mse: 0.3165 - val_loss: 0.3055 - val_mae: 0.3779 - val_mse: 0.2950\n",
            "Epoch 100/100\n",
            "\u001b[1m413/413\u001b[0m \u001b[32m━━━━━━━━━━━━━━━━━━━━\u001b[0m\u001b[37m\u001b[0m \u001b[1m2s\u001b[0m 4ms/step - loss: 0.3339 - mae: 0.4012 - mse: 0.3234 - val_loss: 0.3072 - val_mae: 0.3797 - val_mse: 0.2968\n"
          ]
        }
      ]
    },
    {
      "cell_type": "markdown",
      "source": [
        "### Step 7: Evaluate and Compare Models"
      ],
      "metadata": {
        "id": "zAmXRJsIMfYN"
      }
    },
    {
      "cell_type": "code",
      "source": [
        "print(\"=== Baseline Model ===\")\n",
        "train_scores = baseline_model.evaluate(X_train_scaled, y_train_final, verbose=0)\n",
        "val_scores   = baseline_model.evaluate(X_val_scaled, y_val, verbose=0)\n",
        "print(f\"Train MAE: {train_scores[1]:.4f}, Train MSE: {train_scores[2]:.4f}\")\n",
        "print(f\"Val   MAE: {val_scores[1]:.4f}, Val   MSE: {val_scores[2]:.4f}\")\n",
        "\n",
        "print(\"\\n=== BatchNorm Model ===\")\n",
        "train_scores_bn = model_bn.evaluate(X_train_scaled, y_train_final, verbose=0)\n",
        "val_scores_bn   = model_bn.evaluate(X_val_scaled, y_val, verbose=0)\n",
        "print(f\"Train MAE: {train_scores_bn[1]:.4f}, Train MSE: {train_scores_bn[2]:.4f}\")\n",
        "print(f\"Val   MAE: {val_scores_bn[1]:.4f}, Val   MSE: {val_scores_bn[2]:.4f}\")\n",
        "\n",
        "print(\"\\n=== Regularized Model (L2 + Dropout) ===\")\n",
        "train_scores_reg = model_reg.evaluate(X_train_scaled, y_train_final, verbose=0)\n",
        "val_scores_reg   = model_reg.evaluate(X_val_scaled, y_val, verbose=0)\n",
        "print(f\"Train MAE: {train_scores_reg[1]:.4f}, Train MSE: {train_scores_reg[2]:.4f}\")\n",
        "print(f\"Val   MAE: {val_scores_reg[1]:.4f}, Val   MSE: {val_scores_reg[2]:.4f}\")\n"
      ],
      "metadata": {
        "colab": {
          "base_uri": "https://localhost:8080/"
        },
        "id": "wrqNKvGtO4vY",
        "outputId": "0b84848c-6cf4-4184-f831-a7832a78d182"
      },
      "execution_count": 10,
      "outputs": [
        {
          "output_type": "stream",
          "name": "stdout",
          "text": [
            "=== Baseline Model ===\n",
            "Train MAE: 0.3097, Train MSE: 0.2032\n",
            "Val   MAE: 0.3609, Val   MSE: 0.2948\n",
            "\n",
            "=== BatchNorm Model ===\n",
            "Train MAE: 0.4280, Train MSE: 0.4333\n",
            "Val   MAE: 0.4456, Val   MSE: 0.4765\n",
            "\n",
            "=== Regularized Model (L2 + Dropout) ===\n",
            "Train MAE: 0.3583, Train MSE: 0.2625\n",
            "Val   MAE: 0.3797, Val   MSE: 0.2968\n"
          ]
        }
      ]
    },
    {
      "cell_type": "markdown",
      "source": [
        "### Step 8: Test Set for Final Performance"
      ],
      "metadata": {
        "id": "xydIZr7dPEvU"
      }
    },
    {
      "cell_type": "code",
      "source": [
        "test_scores_reg = model_reg.evaluate(X_test_scaled, y_test, verbose=0)\n",
        "print(\"\\n[Regularized Model on Test Set]\")\n",
        "print(f\"Test MAE: {test_scores_reg[1]:.4f}, Test MSE: {test_scores_reg[2]:.4f}\")\n"
      ],
      "metadata": {
        "colab": {
          "base_uri": "https://localhost:8080/"
        },
        "id": "T-ivM15PPH6c",
        "outputId": "9b3f3311-cd44-40d9-e043-9de14a08fea7"
      },
      "execution_count": 11,
      "outputs": [
        {
          "output_type": "stream",
          "name": "stdout",
          "text": [
            "\n",
            "[Regularized Model on Test Set]\n",
            "Test MAE: 0.3758, Test MSE: 0.2884\n"
          ]
        }
      ]
    },
    {
      "cell_type": "markdown",
      "source": [
        "### Step 9: Visualize Training Curves"
      ],
      "metadata": {
        "id": "0hbkzPpbPNo2"
      }
    },
    {
      "cell_type": "code",
      "source": [
        "plt.figure(figsize=(8,6))\n",
        "plt.plot(history_reg.history['loss'], label='Training Loss')\n",
        "plt.plot(history_reg.history['val_loss'], label='Validation Loss')\n",
        "plt.title('Regularized Model Training vs. Validation Loss')\n",
        "plt.xlabel('Epoch')\n",
        "plt.ylabel('MSE Loss')\n",
        "plt.legend()\n",
        "plt.show()\n"
      ],
      "metadata": {
        "colab": {
          "base_uri": "https://localhost:8080/",
          "height": 564
        },
        "id": "4YbG91C-PTsX",
        "outputId": "419f6110-9520-4b6a-c7b7-c5934502dc03"
      },
      "execution_count": 12,
      "outputs": [
        {
          "output_type": "display_data",
          "data": {
            "text/plain": [
              "<Figure size 800x600 with 1 Axes>"
            ],
            "image/png": "[encoded data removed]"
          },
          "metadata": {}
        }
      ]
    }
  ]
}