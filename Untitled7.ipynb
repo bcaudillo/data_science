{
 "cells": [
  {
   "cell_type": "code",
   "execution_count": null,
   "id": "d6ed3a07-4854-485c-a9db-3d0590afaf53",
   "metadata": {},
   "outputs": [],
   "source": []
  }
 ],
 "metadata": {
  "kernelspec": {
   "display_name": "",
   "name": ""
  },
  "language_info": {
   "name": ""
  }
 },
 "nbformat": 4,
 "nbformat_minor": 5
}
