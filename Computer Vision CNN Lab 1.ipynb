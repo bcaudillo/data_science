{
 "cells": [
  {
   "cell_type": "code",
   "execution_count": 1,
   "id": "623b3430-462a-4fd4-92d0-2b0e15128573",
   "metadata": {},
   "outputs": [],
   "source": [
    "# Libraries\n",
    "import pandas as pd\n",
    "import numpy as np\n",
    "import matplotlib as mpl\n",
    "import matplotlib.pyplot as plt\n",
    "from sklearn.metrics import accuracy_score\n",
    "from sklearn.model_selection import train_test_split\n",
    "# TensorFlow / Keras functions\n",
    "import tensorflow as tf\n",
    "from tensorflow import keras\n",
    "from tensorflow.keras import Sequential, Input, Model\n",
    "from tensorflow.keras.layers import Dense, Conv2D, Flatten, MaxPooling2D\n",
    "from tensorflow.keras.datasets import mnist\n",
    "from tensorflow.keras.utils import to_categorical\n",
    "from tensorflow.keras.callbacks import EarlyStopping"
   ]
  },
  {
   "cell_type": "code",
   "execution_count": 30,
   "id": "a33a7910-fa70-4b6e-816d-3175e1eedb51",
   "metadata": {},
   "outputs": [
    {
     "name": "stdout",
     "output_type": "stream",
     "text": [
      "Number of images: 400\n",
      "Number of classes: 40\n",
      "Images per class: 10\n"
     ]
    }
   ],
   "source": [
    "# Load the data\n",
    "from sklearn.datasets import fetch_olivetti_faces\n",
    "faces = fetch_olivetti_faces()\n",
    "X = faces.images\n",
    "y = faces.target.reshape(-1, 1)\n",
    "\n",
    "num_classes = len(np.unique(y))\n",
    "num_images = X.shape[0]\n",
    "images_per_class = num_images // num_classes  # Use integer division for whole images\n",
    "\n",
    "print(f\"Number of images: {num_images}\")\n",
    "print(f\"Number of classes: {num_classes}\")\n",
    "print(f\"Images per class: {images_per_class}\")"
   ]
  },
  {
   "cell_type": "code",
   "execution_count": 24,
   "id": "9cdf8bfd-d0cf-4584-b2c4-4feecfdc7e94",
   "metadata": {},
   "outputs": [
    {
     "data": {
      "image/png": "[encoded data removed]",
      "text/plain": [
       "<Figure size 640x480 with 1 Axes>"
      ]
     },
     "metadata": {},
     "output_type": "display_data"
    }
   ],
   "source": [
    "sample_idx = 399\n",
    "sample_image = X[sample_idx]\n",
    "\n",
    "# Display the image using matplotlib\n",
    "plt.imshow(sample_image, cmap=plt.cm.gray)\n",
    "plt.title(f\"Face ID: {y[sample_idx][0]}\")\n",
    "plt.axis('on')  \n",
    "plt.show()"
   ]
  },
  {
   "cell_type": "code",
   "execution_count": 33,
   "id": "9e56dc25-9421-4035-8325-c292e74e5f43",
   "metadata": {},
   "outputs": [
    {
     "name": "stdout",
     "output_type": "stream",
     "text": [
      "X_train shape: (200, 64, 64)\n",
      "y_train shape: (200, 1)\n",
      "X_test shape: (200, 64, 64)\n",
      "y_test shape: (200, 1)\n"
     ]
    }
   ],
   "source": [
    "X_train, y_train = [], []\n",
    "X_test, y_test = [], []\n",
    "\n",
    "for person_id in range(num_classes):\n",
    "    # Indices for images of this person\n",
    "    idx = np.where(y.flatten() == person_id)[0]\n",
    "    # Shuffle for randomness\n",
    "    np.random.shuffle(idx)\n",
    "    # Split: first 5 to train, next 5 to test\n",
    "    train_idx = idx[:5]\n",
    "    test_idx = idx[5:10]\n",
    "    X_train.extend(X[train_idx])\n",
    "    y_train.extend(y[train_idx])\n",
    "    X_test.extend(X[test_idx])\n",
    "    y_test.extend(y[test_idx])\n",
    "\n",
    "# Convert to numpy arrays\n",
    "X_train = np.array(X_train)\n",
    "y_train = np.array(y_train)\n",
    "X_test = np.array(X_test)\n",
    "y_test = np.array(y_test)\n",
    "\n",
    "# Print dimensions\n",
    "print(\"X_train shape:\", X_train.shape)\n",
    "print(\"y_train shape:\", y_train.shape)\n",
    "print(\"X_test shape:\", X_test.shape)\n",
    "print(\"y_test shape:\", y_test.shape)\n"
   ]
  },
  {
   "cell_type": "code",
   "execution_count": 34,
   "id": "9e954ebb-a7cf-425b-9afd-bf1d1ccec32f",
   "metadata": {},
   "outputs": [
    {
     "name": "stdout",
     "output_type": "stream",
     "text": [
      "y_train_onehot shape: (200, 40)\n",
      "y_test_onehot shape: (200, 40)\n"
     ]
    }
   ],
   "source": [
    "from tensorflow.keras.utils import to_categorical\n",
    "\n",
    "# Convert labels to one-hot (matrix with 40 columns)\n",
    "y_train_onehot = to_categorical(y_train, num_classes=40)\n",
    "y_test_onehot = to_categorical(y_test, num_classes=40)\n",
    "\n",
    "# Print new shapes\n",
    "print(\"y_train_onehot shape:\", y_train_onehot.shape)\n",
    "print(\"y_test_onehot shape:\", y_test_onehot.shape)"
   ]
  },
  {
   "cell_type": "code",
   "execution_count": 35,
   "id": "6e926a6d-a7c1-4202-b930-98b4be0e9b25",
   "metadata": {},
   "outputs": [
    {
     "name": "stdout",
     "output_type": "stream",
     "text": [
      "X_train_reshaped shape: (200, 64, 64, 1)\n",
      "X_test_reshaped shape: (200, 64, 64, 1)\n"
     ]
    }
   ],
   "source": [
    "# For training images\n",
    "X_train_reshaped = X_train.reshape((X_train.shape[0], 64, 64, 1))\n",
    "\n",
    "# For testing images\n",
    "X_test_reshaped = X_test.reshape((X_test.shape[0], 64, 64, 1))\n",
    "\n",
    "# Print the new shapes\n",
    "print(\"X_train_reshaped shape:\", X_train_reshaped.shape)\n",
    "print(\"X_test_reshaped shape:\", X_test_reshaped.shape)"
   ]
  },
  {
   "cell_type": "code",
   "execution_count": null,
   "id": "0732da61-210e-4230-b3b3-95ac054e6cb5",
   "metadata": {},
   "outputs": [],
   "source": []
  }
 ],
 "metadata": {
  "kernelspec": {
   "display_name": "Python 3 (ipykernel)",
   "language": "python",
   "name": "python3"
  },
  "language_info": {
   "codemirror_mode": {
    "name": "ipython",
    "version": 3
   },
   "file_extension": ".py",
   "mimetype": "text/x-python",
   "name": "python",
   "nbconvert_exporter": "python",
   "pygments_lexer": "ipython3",
   "version": "3.12.7"
  }
 },
 "nbformat": 4,
 "nbformat_minor": 5
}
