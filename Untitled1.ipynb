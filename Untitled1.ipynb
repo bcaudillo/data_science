{
 "cells": [
  {
   "cell_type": "code",
   "execution_count": null,
   "id": "59b31fab-36b1-441f-ad83-533a5ace6b3b",
   "metadata": {},
   "outputs": [],
   "source": []
  }
 ],
 "metadata": {
  "kernelspec": {
   "display_name": "",
   "name": ""
  },
  "language_info": {
   "name": ""
  }
 },
 "nbformat": 4,
 "nbformat_minor": 5
}
