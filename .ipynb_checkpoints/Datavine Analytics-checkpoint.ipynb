{
 "cells": [
  {
   "cell_type": "code",
   "execution_count": null,
   "id": "70cda9c1",
   "metadata": {},
   "outputs": [],
   "source": [
    "import pandas as pd\n",
    "import numpy as np\n",
    "from sklearn.preprocessing import StandardScaler, LabelEncoder\n",
    "from sklearn.decomposition import PCA\n",
    "from sklearn.model_selection import GridSearchCV\n",
    "from sklearn.neighbors import KNeighborsClassifier\n",
    "from sklearn.metrics import classification_report, accuracy_score, silhouette_score\n",
    "from sklearn.cluster import KMeans\n",
    "from sklearn.mixture import GaussianMixture\n",
    "from sklearn.metrics.pairwise import cosine_similarity\n",
    "import matplotlib.pyplot as plt\n",
    "import seaborn as sns\n",
    "\n",
    "sns.set(style='whitegrid')\n"
   ]
  },
  {
   "cell_type": "code",
   "execution_count": null,
   "id": "4c3d44a4",
   "metadata": {},
   "outputs": [],
   "source": [
    "wine = pd.read_csv('Wine Data.csv')\n",
    "chickwts = pd.read_csv('Chick Weight Data.csv')\n",
    "us_arrests = pd.read_csv('Arrests Data.csv')\n"
   ]
  },
  {
   "cell_type": "code",
   "execution_count": null,
   "id": "dcc26bb1",
   "metadata": {},
   "outputs": [],
   "source": [
    "print(\"Wine Dataset Info:\")\n",
    "print(wine.info())\n",
    "print(wine.describe(), \"\\n\")\n",
    "\n",
    "print(\"Chickwts Dataset Info:\")\n",
    "print(chickwts.info())\n",
    "print(chickwts.describe(), \"\\n\")\n",
    "\n",
    "print(\"USArrests Dataset Info:\")\n",
    "print(us_arrests.info())\n",
    "print(us_arrests.describe(), \"\\n\")\n"
   ]
  },
  {
   "cell_type": "code",
   "execution_count": null,
   "id": "a3cab929",
   "metadata": {},
   "outputs": [],
   "source": [
    "# Wine Dataset\n",
    "wine.dropna(inplace=True)\n",
    "wine_features = wine.drop('target', axis=1)\n",
    "wine_target = LabelEncoder().fit_transform(wine['target'])\n",
    "wine_scaled = StandardScaler().fit_transform(wine_features)\n",
    "\n",
    "# Chickwts Dataset\n",
    "chickwts_numeric = chickwts.drop(columns=['feed_name'])\n",
    "chickwts_clean = chickwts_numeric[chickwts_numeric['weight'] > 0]\n",
    "chickwts_scaled = StandardScaler().fit_transform(chickwts_clean)\n",
    "\n",
    "# USArrests Dataset\n",
    "us_arrests_clean = us_arrests.drop(columns=['Unnamed: 0'])\n",
    "us_arrests_scaled = StandardScaler().fit_transform(us_arrests_clean)\n"
   ]
  },
  {
   "cell_type": "code",
   "execution_count": null,
   "id": "23c73a02",
   "metadata": {},
   "outputs": [],
   "source": [
    "# Wine PCA\n",
    "pca_wine = PCA(n_components=0.95)\n",
    "wine_pca = pca_wine.fit_transform(wine_scaled)\n",
    "\n",
    "# Chickwts PCA\n",
    "pca_chick = PCA(n_components=1)\n",
    "chick_pca = pca_chick.fit_transform(chickwts_scaled)\n",
    "\n",
    "# USArrests PCA\n",
    "feature_variances = np.var(us_arrests_scaled, axis=0)\n",
    "top3_idx = np.argsort(feature_variances)[-3:]\n",
    "us_selected = us_arrests_scaled[:, top3_idx]\n",
    "us_pca = PCA(n_components=2).fit_transform(us_selected)\n"
   ]
  },
  {
   "cell_type": "code",
   "execution_count": null,
   "id": "4a5c64ce",
   "metadata": {},
   "outputs": [],
   "source": [
    "param_grid = {\n",
    "    'n_neighbors': list(range(1, 21)),\n",
    "    'metric': ['euclidean', 'manhattan', 'minkowski']\n",
    "}\n",
    "knn = KNeighborsClassifier()\n",
    "grid_search = GridSearchCV(knn, param_grid, cv=5)\n",
    "grid_search.fit(wine_pca, wine_target)\n",
    "\n",
    "wine_pred = grid_search.predict(wine_pca)\n",
    "print(classification_report(wine_target, wine_pred))\n",
    "print(\"Accuracy:\", accuracy_score(wine_target, wine_pred))\n"
   ]
  },
  {
   "cell_type": "code",
   "execution_count": null,
   "id": "483cb1c4",
   "metadata": {},
   "outputs": [],
   "source": [
    "similarity_matrix = cosine_similarity(chick_pca)\n",
    "chick_pca_df = pd.DataFrame(chick_pca, columns=['Component_1'])\n",
    "chick_pca_df['feed_name'] = chickwts['feed_name'].values\n",
    "ref_index = 0\n",
    "chick_pca_df['similarity'] = similarity_matrix[ref_index]\n",
    "chick_pca_df.sort_values(by='similarity', ascending=False)\n"
   ]
  },
  {
   "cell_type": "code",
   "execution_count": null,
   "id": "517989a9",
   "metadata": {},
   "outputs": [],
   "source": [
    "inertias = []\n",
    "silhouette_scores_kmeans = []\n",
    "for k in range(2, 10):\n",
    "    kmeans = KMeans(n_clusters=k, random_state=42)\n",
    "    labels = kmeans.fit_predict(us_pca)\n",
    "    inertias.append(kmeans.inertia_)\n",
    "    silhouette_scores_kmeans.append(silhouette_score(us_pca, labels))\n",
    "\n",
    "# Plot Elbow Method\n",
    "plt.figure(figsize=(6, 4))\n",
    "plt.plot(range(2, 10), inertias, marker='o')\n",
    "plt.title('Elbow Method (KMeans)')\n",
    "plt.xlabel('K')\n",
    "plt.ylabel('Inertia')\n",
    "plt.tight_layout()\n",
    "plt.show()\n",
    "\n",
    "# Plot Silhouette Scores\n",
    "plt.figure(figsize=(6, 4))\n",
    "plt.plot(range(2, 10), silhouette_scores_kmeans, marker='s')\n",
    "plt.title('Silhouette Score (KMeans)')\n",
    "plt.xlabel('K')\n",
    "plt.ylabel('Score')\n",
    "plt.tight_layout()\n",
    "plt.show()\n"
   ]
  },
  {
   "cell_type": "code",
   "execution_count": null,
   "id": "cb852766",
   "metadata": {},
   "outputs": [],
   "source": [
    "bic_scores = []\n",
    "aic_scores = []\n",
    "for k in range(1, 10):\n",
    "    gmm = GaussianMixture(n_components=k, random_state=42)\n",
    "    gmm.fit(us_pca)\n",
    "    bic_scores.append(gmm.bic(us_pca))\n",
    "    aic_scores.append(gmm.aic(us_pca))\n",
    "\n",
    "# Plot BIC and AIC\n",
    "plt.figure(figsize=(6, 4))\n",
    "plt.plot(range(1, 10), bic_scores, label='BIC', marker='x')\n",
    "plt.plot(range(1, 10), aic_scores, label='AIC', marker='o')\n",
    "plt.title('BIC and AIC Scores (GMM)')\n",
    "plt.xlabel('Number of Clusters')\n",
    "plt.ylabel('Score')\n",
    "plt.legend()\n",
    "plt.tight_layout()\n",
    "plt.show()\n"
   ]
  },
  {
   "cell_type": "code",
   "execution_count": null,
   "id": "0a12e304",
   "metadata": {},
   "outputs": [],
   "source": [
    "kmeans_final = KMeans(n_clusters=3, random_state=42).fit(us_pca)\n",
    "gmm_final = GaussianMixture(n_components=3, random_state=42).fit(us_pca)\n",
    "kmeans_labels = kmeans_final.predict(us_pca)\n",
    "gmm_labels = gmm_final.predict(us_pca)\n",
    "\n",
    "fig, axes = plt.subplots(1, 2, figsize=(12, 5))\n",
    "sns.scatterplot(x=us_pca[:, 0], y=us_pca[:, 1], hue=kmeans_labels, ax=axes[0], palette='Set2')\n",
    "axes[0].set_title('K-Means Clustering')\n",
    "sns.scatterplot(x=us_pca[:, 0], y=us_pca[:, 1], hue=gmm_labels, ax=axes[1], palette='Set3')\n",
    "axes[1].set_title('GMM Clustering')\n",
    "plt.tight_layout()\n",
    "plt.show()\n"
   ]
  }
 ],
 "metadata": {},
 "nbformat": 4,
 "nbformat_minor": 5
}