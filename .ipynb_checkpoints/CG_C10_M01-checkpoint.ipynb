{
 "cells": [
  {
   "cell_type": "markdown",
   "metadata": {
    "id": "Y7w4m40tUdtC"
   },
   "source": [
    "## Lab: Deep Learning with Normalization & Regularization"
   ]
  },
  {
   "cell_type": "markdown",
   "metadata": {
    "id": "JaoZK9VKUi8c"
   },
   "source": [
    "### Step 0: Import Libraries and Load the Dataset"
   ]
  },
  {
   "cell_type": "code",
   "execution_count": 1,
   "metadata": {
    "id": "dgVHChR6UcUZ"
   },
   "outputs": [],
   "source": [
    "# CodeGrade step0\n",
    "\n",
    "# 1. Import Libraries and Load the Dataset\n",
    "import pandas as pd\n",
    "import numpy as np\n",
    "import matplotlib.pyplot as plt\n",
    "import seaborn as sns\n",
    "import tensorflow as tf\n",
    "from tensorflow.keras import layers, regularizers\n",
    "from sklearn.datasets import load_breast_cancer\n",
    "from sklearn.model_selection import train_test_split\n",
    "from sklearn.preprocessing import StandardScaler"
   ]
  },
  {
   "cell_type": "markdown",
   "metadata": {
    "id": "vZj0njsaUwPe"
   },
   "source": [
    "### Step 1: Load and Preprocess the Data"
   ]
  },
  {
   "cell_type": "markdown",
   "metadata": {
    "id": "d2htq4DRSMc_"
   },
   "source": [
    "Replace the `None`s appropriately."
   ]
  },
  {
   "cell_type": "code",
   "execution_count": 3,
   "metadata": {
    "id": "qLxT2ij6U_C6"
   },
   "outputs": [
    {
     "name": "stdout",
     "output_type": "stream",
     "text": [
      "<class 'sklearn.utils._bunch.Bunch'>\n",
      "dict_keys(['data', 'target', 'frame', 'target_names', 'DESCR', 'feature_names', 'filename', 'data_module'])\n"
     ]
    },
    {
     "data": {
      "text/plain": [
       "((569, 30),\n",
       " (569,),\n",
       " array([212, 357]),\n",
       " (364, 30),\n",
       " (91, 30),\n",
       " (114, 30),\n",
       " (364, 30),\n",
       " (91, 30),\n",
       " (114, 30))"
      ]
     },
     "execution_count": 3,
     "metadata": {},
     "output_type": "execute_result"
    }
   ],
   "source": [
    "# CodeGrade step1\n",
    "\n",
    "# Load Breast Cancer dataset\n",
    "data = load_breast_cancer()\n",
    "print(type(data))\n",
    "print(data.keys())\n",
    "X = data.data\n",
    "y = data.target\n",
    "\n",
    "# Create Training, Validation, and Test Splits\n",
    "X_train, X_test, y_train, y_test = train_test_split(\n",
    "    X, y, test_size=0.2, random_state=42\n",
    ")\n",
    "\n",
    "X_train_final, X_val, y_train_final, y_val = train_test_split(\n",
    "    X_train, y_train, test_size=0.2, random_state=42\n",
    ")\n",
    "\n",
    "# Normalize the Data\n",
    "scaler = StandardScaler()\n",
    "scaler.fit(X_train_final)\n",
    "\n",
    "X_train_scaled = scaler.transform(X_train_final)\n",
    "X_val_scaled   = scaler.transform(X_val)\n",
    "X_test_scaled  = scaler.transform(X_test)\n",
    "\n",
    "\n",
    "\n",
    "\n",
    "# Shapes and class distribution\n",
    "X.shape,  y.shape, np.bincount(y), X_train_final.shape, X_val.shape, X_test.shape, X_train_scaled.shape, X_val_scaled.shape, X_test_scaled.shape\n"
   ]
  },
  {
   "cell_type": "markdown",
   "metadata": {
    "id": "Oai4pw8TU8YX"
   },
   "source": [
    "### Step 2: Build a Baseline Model"
   ]
  },
  {
   "cell_type": "markdown",
   "metadata": {
    "id": "GyxuY_MzSgSH"
   },
   "source": [
    "* Create a sequential model using Keras.\n",
    "\n",
    "* Add a dense layer with 32 neurons, using the ReLU activation function and set the input shape to match the number of features in your training dataset.\n",
    "\n",
    "* Add a second dense layer with 16 neurons, again using the ReLU activation function.\n",
    "\n",
    "* Add a final dense layer with 1 neuron and a sigmoid activation function to produce a binary classification output.\n",
    "\n",
    "* Compile the model by specifying the Adam optimizer, binary crossentropy as the loss function, and include accuracy as a metric.\n",
    "\n",
    "* Fit the model using your scaled training data and corresponding labels, and provide the scaled validation data for performance monitoring. Set the training to run for 50 epochs with a batch size of 32 and keep the output minimal by setting verbosity to 0.\n",
    "\n",
    "* Evaluate the trained model on the scaled validation data to obtain the validation loss and accuracy.\n",
    "\n",
    "* Verify that the validation accuracy, when rounded to two decimal places, exceeds 90%."
   ]
  },
  {
   "cell_type": "code",
   "execution_count": 4,
   "metadata": {
    "id": "-1Z656qTVPo4"
   },
   "outputs": [
    {
     "name": "stderr",
     "output_type": "stream",
     "text": [
      "/opt/anaconda3/lib/python3.12/site-packages/keras/src/layers/core/dense.py:93: UserWarning: Do not pass an `input_shape`/`input_dim` argument to a layer. When using Sequential models, prefer using an `Input(shape)` object as the first layer in the model instead.\n",
      "  super().__init__(activity_regularizer=activity_regularizer, **kwargs)\n"
     ]
    },
    {
     "data": {
      "text/plain": [
       "True"
      ]
     },
     "execution_count": 4,
     "metadata": {},
     "output_type": "execute_result"
    }
   ],
   "source": [
    "# CodeGrade step2\n",
    "\n",
    "# Build a Baseline Model (No BatchNorm or Regularization)\n",
    "baseline_model = tf.keras.Sequential([\n",
    "    layers.Dense(32, activation='relu', input_shape=(X_train_scaled.shape[1],)),\n",
    "    layers.Dense(16, activation='relu'),\n",
    "    layers.Dense(1, activation='sigmoid')\n",
    "])\n",
    "\n",
    "baseline_model.compile(\n",
    "    optimizer='adam',\n",
    "    loss='binary_crossentropy',\n",
    "    metrics=['accuracy']\n",
    ")\n",
    "\n",
    "\n",
    "history_baseline = baseline_model.fit(\n",
    "    X_train_scaled, y_train_final,\n",
    "    validation_data=(X_val_scaled, y_val),\n",
    "    epochs=50,\n",
    "    batch_size=32,\n",
    "    verbose=0\n",
    ")\n",
    "\n",
    "# Evaluate Baseline on Validation\n",
    "val_loss_base, val_acc_base = baseline_model.evaluate(X_val_scaled, y_val, verbose=0)\n",
    "round(val_acc_base, 2) > 0.90\n"
   ]
  },
  {
   "cell_type": "markdown",
   "metadata": {
    "id": "KXSIPfQWVYwN"
   },
   "source": [
    "### Step 3: Integrate Batch Normalization"
   ]
  },
  {
   "cell_type": "markdown",
   "metadata": {
    "id": "22XY9i7NTOat"
   },
   "source": [
    "- Create a sequential model using TensorFlow’s Keras API.\n",
    "- Add a dense layer with 32 neurons, using a linear activation function, and specify the input shape to match your training data.\n",
    "- Immediately add a Batch Normalization layer to standardize the outputs from the previous layer.\n",
    "- Follow this with an Activation layer applying the ReLU activation function.\n",
    "- Add another dense layer with 16 neurons, using a linear activation function.\n",
    "- Again, insert a Batch Normalization layer after the dense layer.\n",
    "- Add another Activation layer with ReLU to introduce non-linearity.\n",
    "- Add a final dense layer with 1 neuron and a sigmoid activation function to provide a binary output.\n",
    "- Compile the model using the Adam optimizer, binary crossentropy as the loss function, and include accuracy as a performance metric.\n",
    "- Train (fit) the model using the scaled training data and the corresponding labels, and use the scaled validation data to monitor performance during training. Set the training to run for 50 epochs with a batch size of 32 and minimal verbosity.\n",
    "- Evaluate the trained model on the scaled validation data to obtain the loss and accuracy.\n",
    "- Ensure that the validation accuracy, when rounded to two decimal places, exceeds 90%."
   ]
  },
  {
   "cell_type": "code",
   "execution_count": 5,
   "metadata": {
    "id": "c93PiY19VaEU"
   },
   "outputs": [
    {
     "data": {
      "text/plain": [
       "True"
      ]
     },
     "execution_count": 5,
     "metadata": {},
     "output_type": "execute_result"
    }
   ],
   "source": [
    "# CodeGrade step3\n",
    "\n",
    "# Integrate Batch Normalization\n",
    "model_bn = tf.keras.Sequential([\n",
    "    layers.Dense(32, activation='linear', input_shape=(X_train_scaled.shape[1],)),\n",
    "    layers.BatchNormalization(),\n",
    "    layers.Activation('relu'),\n",
    "\n",
    "    layers.Dense(16, activation='linear'),\n",
    "    layers.BatchNormalization(),\n",
    "    layers.Activation('relu'),\n",
    "\n",
    "    layers.Dense(1, activation='sigmoid')\n",
    "])\n",
    "\n",
    "model_bn.compile(\n",
    "    optimizer='adam',\n",
    "    loss='binary_crossentropy',\n",
    "    metrics=['accuracy']\n",
    ")\n",
    "\n",
    "\n",
    "history_bn = model_bn.fit(\n",
    "    X_train_scaled, y_train_final,\n",
    "    validation_data=(X_val_scaled, y_val),\n",
    "    epochs=50,\n",
    "    batch_size=32,\n",
    "    verbose=0\n",
    ")\n",
    "\n",
    "\n",
    "# Evaluate BN Model on Validation\n",
    "val_loss_bn, val_acc_bn = model_bn.evaluate(X_val_scaled, y_val, verbose=0)\n",
    "round(val_acc_bn, 2) > 0.90"
   ]
  },
  {
   "cell_type": "markdown",
   "metadata": {
    "id": "BWmYpWHIVnVR"
   },
   "source": [
    "### Step 4: Add L2 Regularization and Dropout"
   ]
  },
  {
   "cell_type": "markdown",
   "metadata": {
    "id": "W_zGcq0YT8Pt"
   },
   "source": [
    "- Define the regularization parameters: set the L2 regularization factor (l2_reg) to 1e-4 and the dropout rate to 0.3.\n",
    "- Create a sequential model using TensorFlow’s Keras API.\n",
    "- Add a dense layer with 32 neurons and ReLU activation, applying L2 regularization to its weights, and set the input shape to match the training data.\n",
    "- Insert a Dropout layer with the specified dropout rate to randomly disable a fraction of the neurons.\n",
    "- Add a second dense layer with 16 neurons and ReLU activation, also applying L2 regularization to its weights.\n",
    "- Follow this with another Dropout layer using the same dropout rate.\n",
    "- Add a final dense layer with 1 neuron and a sigmoid activation function for binary classification output.\n",
    "- Compile the model using the Adam optimizer, binary crossentropy as the loss function, and include accuracy as a metric.\n",
    "- Train the model using the scaled training data and corresponding labels, while validating on the scaled validation data. Set the training to run for 50 epochs with a batch size of 32 and minimal verbosity.\n",
    "- Evaluate the trained model on the validation data to obtain the loss and accuracy.\n",
    "- Confirm that the validation accuracy, when rounded to two decimal places, exceeds 90%."
   ]
  },
  {
   "cell_type": "code",
   "execution_count": 6,
   "metadata": {
    "id": "tcXNLHLIVqfn"
   },
   "outputs": [
    {
     "data": {
      "text/plain": [
       "True"
      ]
     },
     "execution_count": 6,
     "metadata": {},
     "output_type": "execute_result"
    }
   ],
   "source": [
    "# CodeGrade step4\n",
    "\n",
    "# Add L2 Regularization and Dropout\n",
    "l2_reg = 1e-4\n",
    "dropout_rate = 0.3\n",
    "\n",
    "model_reg = tf.keras.Sequential([\n",
    "    layers.Dense(32, activation='relu', kernel_regularizer=regularizers.l2(l2_reg), input_shape=(X_train_scaled.shape[1],)),\n",
    "    layers.Dropout(dropout_rate),\n",
    "    layers.Dense(16, activation='relu', kernel_regularizer=regularizers.l2(l2_reg)),\n",
    "    layers.Dropout(dropout_rate),\n",
    "    layers.Dense(1, activation='sigmoid')\n",
    "])\n",
    "\n",
    "model_reg.compile(\n",
    "    optimizer='adam',\n",
    "    loss='binary_crossentropy',\n",
    "    metrics=['accuracy']\n",
    ")\n",
    "\n",
    "\n",
    "history_reg = model_reg.fit(\n",
    "    X_train_scaled, y_train_final,\n",
    "    validation_data=(X_val_scaled, y_val),\n",
    "    epochs=50,\n",
    "    batch_size=32,\n",
    "    verbose=0\n",
    ")\n",
    "\n",
    "# Evaluate Regularized Model on Validation\n",
    "val_loss_reg, val_acc_reg = model_reg.evaluate(X_val_scaled, y_val, verbose=0)\n",
    "round(val_acc_reg,2) > .9"
   ]
  },
  {
   "cell_type": "markdown",
   "metadata": {
    "id": "yS6EFV8wVuUr"
   },
   "source": [
    "### Step 5: Evaluate the Best Model on the Test Set and Visualize Performance"
   ]
  },
  {
   "cell_type": "markdown",
   "metadata": {
    "id": "vxnYv3IjT_MD"
   },
   "source": [
    "- Evaluate the regularized model on the test set by calling the model’s evaluate method with the scaled test features (X_test_scaled) and test labels (y_test), and set verbosity to 0 to suppress detailed output.\n",
    "- Capture the resulting test loss and test accuracy in the variables test_loss_reg and test_acc_reg, respectively.\n",
    "- Round the test accuracy (test_acc_reg) to two decimal places.\n",
    "- Check that the rounded test accuracy is greater than 90% (i.e., exceeds 0.9) to ensure the model meets the performance threshold on the test data."
   ]
  },
  {
   "cell_type": "code",
   "execution_count": 7,
   "metadata": {
    "id": "KfmCGyJYVv4q"
   },
   "outputs": [
    {
     "data": {
      "text/plain": [
       "True"
      ]
     },
     "execution_count": 7,
     "metadata": {},
     "output_type": "execute_result"
    }
   ],
   "source": [
    "# CodeGrade step5\n",
    "\n",
    "\n",
    "# Compare Best Model on Test Set\n",
    "# Example: Use the Regularized Model on Test\n",
    "test_loss_reg, test_acc_reg = test_loss_reg, test_acc_reg = model_reg.evaluate(X_test_scaled, y_test, verbose=0)\n",
    "round(test_acc_reg, 2) > 0.9"
   ]
  },
  {
   "cell_type": "markdown",
   "metadata": {
    "id": "tTOsQ0GxWctq"
   },
   "source": [
    "Plot Accuracy Over Epochs for the Regularized Model"
   ]
  },
  {
   "cell_type": "code",
   "execution_count": 8,
   "metadata": {
    "id": "imH3BaGQWeeY"
   },
   "outputs": [
    {
     "data": {
      "image/png": "[encoded data removed]",
      "text/plain": [
       "<Figure size 640x480 with 1 Axes>"
      ]
     },
     "metadata": {},
     "output_type": "display_data"
    }
   ],
   "source": [
    "# Plot Accuracy Over Epochs for the Regularized Model\n",
    "plt.plot(history_reg.history['accuracy'], label='Train Accuracy')\n",
    "plt.plot(history_reg.history['val_accuracy'], label='Validation Accuracy')\n",
    "plt.title('Model Accuracy Over Epochs')\n",
    "plt.xlabel('Epoch')\n",
    "plt.ylabel('Accuracy')\n",
    "plt.legend()\n",
    "plt.show()"
   ]
  },
  {
   "cell_type": "code",
   "execution_count": null,
   "metadata": {},
   "outputs": [],
   "source": []
  }
 ],
 "metadata": {
  "colab": {
   "provenance": []
  },
  "kernelspec": {
   "display_name": "Python 3 (ipykernel)",
   "language": "python",
   "name": "python3"
  },
  "language_info": {
   "codemirror_mode": {
    "name": "ipython",
    "version": 3
   },
   "file_extension": ".py",
   "mimetype": "text/x-python",
   "name": "python",
   "nbconvert_exporter": "python",
   "pygments_lexer": "ipython3",
   "version": "3.12.7"
  }
 },
 "nbformat": 4,
 "nbformat_minor": 4
}
