{
 "cells": [
  {
   "cell_type": "markdown",
   "metadata": {
    "id": "ngA12-VoqbRW"
   },
   "source": [
    "# Parametric vs Non-Parametric Lab\n",
    "\n",
    "## Menu Change - Customer Satisfaction Analysis\n",
    "\n",
    "As a junior data analyst at a consumer research firm, you've been tasked with analyzing customer feedback data from a major restaurant chain's menu redesign initiative. The restaurant has implemented new menu items in select locations and needs to understand their impact.\n",
    "\n",
    "You'll be working with two key datasets:\n",
    "1. Customer satisfaction ratings (1-5 scale) before and after the menu change\n",
    "2. Customer return visit data comparing locations with and without the new menu\n",
    "\n",
    "Using our four-step process, you'll need to determine whether the menu changes have made a significant impact on customer satisfaction and return rates, at an alpha of 0.05.\n",
    "- Assessment\n",
    "- Selection\n",
    "- Implementation\n",
    "- Interpretation\n",
    "\n",
    "## Data Overview\n",
    "\n",
    "Data Files: ratings.csv & return_visits.csv\n",
    "\n",
    "Ratings Columns:\n",
    "- customer_id: unique identifier\n",
    "- before: rating before change\n",
    "- after: rating after change\n",
    "\n",
    "Return Visits Columns:\n",
    "- customer_id: unique identifier\n",
    "- location: New Menu or Old Menu\n",
    "- returned: binary - if customer returned\n",
    "\n",
    "\n",
    "First, let's import the libraries you'll need for our analysis and also load in the data\n"
   ]
  },
  {
   "cell_type": "code",
   "execution_count": 3,
   "metadata": {
    "id": "5upOVBAoqbRX"
   },
   "outputs": [],
   "source": [
    "# CodeGrade step0\n",
    "# Import Required Libraries\n",
    "import numpy as np\n",
    "import pandas as pd\n",
    "from scipy import stats\n",
    "import matplotlib.pyplot as plt\n",
    "import seaborn as sns\n",
    "\n",
    "# Load in both datasets - you will need to have downloaded provided files and placed in same location\n",
    "df_ratings = pd.read_csv('ratings data.csv')\n",
    "df_return = pd.read_csv('return visits.csv')"
   ]
  },
  {
   "cell_type": "markdown",
   "metadata": {
    "id": "bmeq3ZnYqbRY"
   },
   "source": [
    "### Part 1: Assessment Phase\n",
    "\n",
    "The Assessment Phase is crucial for understanding your data before jumping into analysis. Think of it as getting to know\n",
    "your data's personality. During this phase, you'll:\n",
    "- Examine how your data is distributed (Are satisfaction scores clustered around certain values?)\n",
    "- Check your sample sizes (Do you have enough data to make reliable conclusions?)\n",
    "- Look for unusual patterns or outliers (Are there any suspicious ratings that might skew your results?)\n",
    "- Create visualizations to better understand your data\n",
    "- Check data against your assumptions\n",
    "\n",
    "This foundational work will help you make informed decisions about which statistical tests to use later.\n",
    "\n",
    "### Ratings Data"
   ]
  },
  {
   "cell_type": "code",
   "execution_count": 5,
   "metadata": {
    "id": "ejE3OlJJqbRZ"
   },
   "outputs": [],
   "source": [
    "# CodeGrade step1\n",
    "# Describe the basic stats of the ratings data\n",
    "ratings_describe = df_ratings.describe()\n",
    "sample_size_ratings = df_ratings.shape[0]\n"
   ]
  },
  {
   "cell_type": "code",
   "execution_count": 6,
   "metadata": {
    "id": "4e74ebRIqbRZ"
   },
   "outputs": [
    {
     "name": "stdout",
     "output_type": "stream",
     "text": [
      "       customer_id     before      after\n",
      "count    75.000000  75.000000  75.000000\n",
      "mean     37.000000   2.973333   3.453333\n",
      "std      21.794495   1.229956   1.130574\n",
      "min       0.000000   1.000000   1.000000\n",
      "25%      18.500000   2.000000   3.000000\n",
      "50%      37.000000   3.000000   4.000000\n",
      "75%      55.500000   4.000000   4.000000\n",
      "max      74.000000   5.000000   5.000000\n",
      "There are a total of 75 customers in the paired ratings data, each with a score before the menu change and after\n"
     ]
    }
   ],
   "source": [
    "# Run this cell without changes to display results\n",
    "print(ratings_describe)\n",
    "print(f\"There are a total of {sample_size_ratings} customers in the paired ratings data, each with a score before the menu change and after\")"
   ]
  },
  {
   "cell_type": "code",
   "execution_count": 13,
   "metadata": {
    "id": "v2l0nC36qbRZ"
   },
   "outputs": [
    {
     "data": {
      "image/png": "[encoded data removed]",
      "text/plain": [
       "<Figure size 640x480 with 1 Axes>"
      ]
     },
     "metadata": {},
     "output_type": "display_data"
    }
   ],
   "source": [
    "# CodeGrade step2\n",
    "# Create a histogram to visually represent before and after rating\n",
    "# Create pandas series\n",
    "ratings_before = df_ratings[\"before\"]\n",
    "ratings_after = df_ratings[\"after\"]\n",
    "ratings_both = [ratings_before, ratings_after]\n",
    "\n",
    "# Seaborn histplot - set these parameter values (discrete=True, multiple='layer')\n",
    "hist_ratings =  sns.histplot(data=df_ratings, x=\"before\", discrete=True, multiple='layer', color=\"blue\", label=\"Before\")\n",
    "sns.histplot(data=df_ratings, x=\"after\", discrete=True, multiple='layer', color=\"orange\", label=\"After\")\n",
    "\n",
    "# Labels\n",
    "plt.xlabel('Customer Satisfaction Rating')\n",
    "plt.title('Distribution of Ratings Before and After Menu Change')\n",
    "plt.show()"
   ]
  },
  {
   "cell_type": "markdown",
   "metadata": {
    "id": "7mIL5bTVqbRa"
   },
   "source": [
    "### Return Visits Data"
   ]
  },
  {
   "cell_type": "code",
   "execution_count": 15,
   "metadata": {
    "id": "XzneDaV1qbRa"
   },
   "outputs": [],
   "source": [
    "# Describe basic stats of the location column\n",
    "return_describe = df_return[\"location\"].value_counts(normalize=True)\n",
    "\n",
    "# Separate out New Menu and Old Menu samples\n",
    "new_menu = df_return[df_return[\"location\"] == \"New Menu\"]\n",
    "old_menu = df_return[df_return[\"location\"] == \"Old Menu\"]\n",
    "\n",
    "# Counts for returned or not\n",
    "new_return_counts = new_menu[\"returned\"].value_counts(normalize=True)\n",
    "old_return_counts = old_menu[\"returned\"].value_counts(normalize=True)\n"
   ]
  },
  {
   "cell_type": "code",
   "execution_count": 16,
   "metadata": {
    "id": "887dd1vbqbRb"
   },
   "outputs": [
    {
     "name": "stdout",
     "output_type": "stream",
     "text": [
      "location\n",
      "New Menu    0.5\n",
      "Old Menu    0.5\n",
      "Name: proportion, dtype: float64\n",
      "returned\n",
      "1    0.746667\n",
      "0    0.253333\n",
      "Name: proportion, dtype: float64 returned\n",
      "0    0.52\n",
      "1    0.48\n",
      "Name: proportion, dtype: float64\n"
     ]
    }
   ],
   "source": [
    "# Run this cell without changes to display results\n",
    "print(return_describe)\n",
    "print(new_return_counts, old_return_counts)"
   ]
  },
  {
   "cell_type": "code",
   "execution_count": 17,
   "metadata": {
    "id": "oVhYYE08qbRb"
   },
   "outputs": [
    {
     "data": {
      "text/plain": [
       "Text(0, 0.5, 'Return Rates')"
      ]
     },
     "execution_count": 17,
     "metadata": {},
     "output_type": "execute_result"
    },
    {
     "data": {
      "image/png": "[encoded data removed]",
      "text/plain": [
       "<Figure size 640x480 with 1 Axes>"
      ]
     },
     "metadata": {},
     "output_type": "display_data"
    }
   ],
   "source": [
    "# CodeGrade step4\n",
    "# Calculate return visits rates - you can use counts object above\n",
    "new_return_rate = new_return_counts.get(1, 0) \n",
    "old_return_rate = old_return_counts.get(1, 0)\n",
    "\n",
    "# Barplot showing return visit rates comparing new and old menu\n",
    "bar_return = sns.barplot(y=[new_return_rate, old_return_rate], x=['New Menu', 'Old Menu'])\n",
    "\n",
    "# Labels\n",
    "plt.title('Return Visit Rates for Old and New Menus')\n",
    "plt.xlabel('Menu Type')\n",
    "plt.ylabel('Return Rates')"
   ]
  },
  {
   "cell_type": "markdown",
   "metadata": {
    "id": "MuX8isHmqbRc"
   },
   "source": [
    "### Assumption Checking\n",
    "**For the Ratings Data (Before vs After):**\n",
    "\n",
    "- We have paired measurements from the same customers before and after the menu change\n",
    "\n",
    "Key assumption to check:\n",
    "- Normality of differences (using Shapiro-Wilk Test)\n",
    "- Equal Variances Between Samples (using Levene Test)\n",
    "\n",
    "**For the Return Visits Data:**\n",
    "\n",
    "This is a between-groups design comparing return rate between two independent groups (New Menu vs Old Menu)\n",
    "\n",
    "Key assumptions checked for Chi-square test:\n",
    "- Independent observations (we can assume this given different locations)\n",
    "- Minimum expected frequencies - use [scipy.stats.contingency.expected_freq](https://docs.scipy.org/doc/scipy/reference/generated/scipy.stats.contingency.expected_freq.html#scipy.stats.contingency.expected_freq)"
   ]
  },
  {
   "cell_type": "code",
   "execution_count": 20,
   "metadata": {
    "id": "SpapwFetqbRc"
   },
   "outputs": [],
   "source": [
    "# CodeGrade step5\n",
    "from scipy.stats import shapiro, levene\n",
    "from scipy.stats import chi2_contingency\n",
    "\n",
    "# Ratings Data (Before vs After)\n",
    "# Calculate differences\n",
    "differences = df_ratings[\"after\"] - df_ratings[\"before\"]\n",
    "\n",
    "# Shapiro-Wilk test for normality\n",
    "shapiro_stat, shapiro_p = shapiro(differences)\n",
    "\n",
    "\n",
    "# Levene test for equal variance - will tell us if distribution changed after menu change\n",
    "levene_stat, levene_p = levene(df_ratings[\"before\"], df_ratings[\"after\"])\n",
    "\n",
    "# Return Visits Data\n",
    "# Create contingency table\n",
    "contingency = pd.crosstab(df_return[\"location\"], df_return[\"returned\"])\n",
    "expected_freq = chi2_contingency(contingency)"
   ]
  },
  {
   "cell_type": "code",
   "execution_count": 21,
   "metadata": {
    "id": "9qypHmeYqbRc"
   },
   "outputs": [
    {
     "name": "stdout",
     "output_type": "stream",
     "text": [
      "Checking normality of differences (Shapiro-Wilk test):\n",
      "Statistic: 0.9560, p-value: 0.0109\n",
      "Levene's test for homogeneity of variances:\n",
      "Statistic: 0.1000, p-value: 0.7522\n",
      "\n",
      "Contingency table for return visits:\n",
      "returned   0   1\n",
      "location        \n",
      "New Menu  19  56\n",
      "Old Menu  39  36\n",
      "Chi2ContingencyResult(statistic=10.148050974512744, pvalue=0.0014445388752895676, dof=1, expected_freq=array([[29., 46.],\n",
      "       [29., 46.]]))\n"
     ]
    }
   ],
   "source": [
    "# Run this cell without changes to display results\n",
    "print(\"Checking normality of differences (Shapiro-Wilk test):\")\n",
    "print(f\"Statistic: {shapiro_stat:.4f}, p-value: {shapiro_p:.4f}\")\n",
    "print(\"Levene's test for homogeneity of variances:\")\n",
    "print(f\"Statistic: {levene_stat:.4f}, p-value: {levene_p:.4f}\")\n",
    "print(\"\\nContingency table for return visits:\")\n",
    "print(contingency)\n",
    "print(expected_freq)"
   ]
  },
  {
   "cell_type": "markdown",
   "metadata": {
    "id": "GBcXBfPRqbRd"
   },
   "source": [
    "### Part 2: Selection Phase\n",
    "\n",
    "Now that you understand your data, it's time to choose appropriate statistical tests. This phase is like selecting the\n",
    "right tool for the job. Your choice will depend on:\n",
    "- The distribution and type of your data (normal vs non-normal)\n",
    "- The type of comparison you're making (before/after, between groups)\n",
    "- The general assumptions you can reasonably make about your data\n",
    "- The statistical test assumptions you checked\n",
    "\n",
    "Select the appropriate statistical test for each analysis based on the information above. Choose from one of the options below - make sure to match the correct string name when you assign to variable.\n",
    "- Paried t-test\n",
    "- 2 Sample Independent t-test\n",
    "- Goodness of Fit test\n",
    "- Test of Independence\n",
    "- Test of Homogeneity\n",
    "- Fisher's Exact test\n",
    "- Mann-Whitney U test\n",
    "- Wilcoxon signed-rank test"
   ]
  },
  {
   "cell_type": "code",
   "execution_count": 26,
   "metadata": {
    "id": "MS2frtHGqbRd"
   },
   "outputs": [],
   "source": [
    "# CodeGrade step6\n",
    "# Document your chosen tests\n",
    "# Name of chosen test for ratings analysis - as a string\n",
    "selected_test_ratings = \"Wilcoxon signed-rank test\"\n",
    "\n",
    "# Name of chosen test for return visits analysis - as a string\n",
    "selected_test_returns = \"Test of Independence\"\n"
   ]
  },
  {
   "cell_type": "markdown",
   "metadata": {
    "id": "b1hgoOjOqbRd"
   },
   "source": [
    "### Part 3: Implementation Phase\n",
    "\n",
    "This is where you put your plan into action. You'll implement your chosen statistical tests, create clear visualizations of your results, and calculate effect sizes to understand the practical significance of any differences you find.\n",
    "\n",
    "### Statisical Tests"
   ]
  },
  {
   "cell_type": "code",
   "execution_count": 27,
   "metadata": {
    "id": "uE9JbCo4qbRd"
   },
   "outputs": [],
   "source": [
    "# CodeGrade step7\n",
    "from scipy.stats import wilcoxon\n",
    "\n",
    "# Test 1: Comparing Before and After Ratings\n",
    "# Using appropriate test\n",
    "stat_ratings, p_value_ratings = wilcoxon(df_ratings[\"before\"], df_ratings[\"after\"])"
   ]
  },
  {
   "cell_type": "code",
   "execution_count": 29,
   "metadata": {
    "id": "XW66ejQ6qbRd"
   },
   "outputs": [
    {
     "name": "stdout",
     "output_type": "stream",
     "text": [
      "\n",
      "Before and After Ratings test results:\n",
      "Statistic: 642.0000, p-value: 0.0268\n"
     ]
    }
   ],
   "source": [
    "# Run this code without changes to display result\n",
    "print(\"\\nBefore and After Ratings test results:\")\n",
    "print(f\"Statistic: {stat_ratings:.4f}, p-value: {p_value_ratings:.4f}\")"
   ]
  },
  {
   "cell_type": "code",
   "execution_count": 30,
   "metadata": {
    "id": "3DdrH-upqbRd"
   },
   "outputs": [],
   "source": [
    "# CodeGrade step8\n",
    "# Test 2: Comparing Return Visits Between Menu Types\n",
    "# Using appropriate test\n",
    "from scipy.stats import chi2_contingency\n",
    "\n",
    "stat_return, p_value_return, _, _ = chi2_contingency(contingency)"
   ]
  },
  {
   "cell_type": "code",
   "execution_count": 31,
   "metadata": {
    "id": "m_uJfn83qbRd"
   },
   "outputs": [
    {
     "name": "stdout",
     "output_type": "stream",
     "text": [
      "\n",
      "Return Visits test results:\n",
      "Statistic: 10.1481, p-value: 0.0014\n"
     ]
    }
   ],
   "source": [
    "# Run this code without changes to display result\n",
    "print(\"\\nReturn Visits test results:\")\n",
    "print(f\"Statistic: {stat_return:.4f}, p-value: {p_value_return:.4f}\")"
   ]
  },
  {
   "cell_type": "markdown",
   "metadata": {
    "id": "hP2-n1gyqbRe"
   },
   "source": [
    "### Part 4: Interpretation Phase\n",
    "\n",
    "### Effect Sizes\n",
    "\n",
    "**For the Ratings Data:**\n",
    "\n",
    "Calculate Cohen's d effect size for paired samples (before/after ratings).\n",
    "    \n",
    "For paired samples, we use the mean difference divided by the standard deviation of the differences, which accounts for the correlation between measurements.\n",
    "\n",
    "**For the Return Visits Data:**\n",
    "\n",
    "Calculate Cramer's V for categorical variables\n",
    "\n",
    "Measures the strength of association between two categorical variables, in this case location (menu type) and customer return status, by calculating a value between 0 and 1, where 0 indicates no relationship and 1 indicates a perfect relationship, helping us understand whether the menu change had a meaningful impact on customer return behavior beyond just statistical significance.\n",
    "\n",
    "Cramer's V for a 2x2 Contingency Table is calculated by dividing the Chi2 Statistic by the total sample size and then taking the square root."
   ]
  },
  {
   "cell_type": "code",
   "execution_count": 33,
   "metadata": {
    "id": "3vJ3cnKvqbRe"
   },
   "outputs": [],
   "source": [
    "# CodeGrade step9\n",
    "# Calculates effect sizes for both analyses:\n",
    "# Cohen's d for ratings (continuous, paired data)\n",
    "differences = df_ratings[\"after\"] - df_ratings[\"before\"]\n",
    "ratings_effect_size = differences.mean() / differences.std(ddof=1)\n",
    "\n",
    "# Cramer's V for return visits (binary categorical data)\n",
    "# Total sample size\n",
    "n = contingency.to_numpy().sum()\n",
    "returns_effect_size = np.sqrt(stat_return / n)\n"
   ]
  },
  {
   "cell_type": "code",
   "execution_count": 34,
   "metadata": {
    "id": "danoA5ARqbRe"
   },
   "outputs": [
    {
     "name": "stdout",
     "output_type": "stream",
     "text": [
      "Effect size for paired ratings analysis: 0.2718406974151428\n",
      "Effect size for the return visits analysis: 0.2601031971418619\n"
     ]
    }
   ],
   "source": [
    "# Run this cell to display the results\n",
    "print(f\"Effect size for paired ratings analysis: {ratings_effect_size}\")\n",
    "print(f\"Effect size for the return visits analysis: {returns_effect_size}\")"
   ]
  },
  {
   "cell_type": "code",
   "execution_count": null,
   "metadata": {},
   "outputs": [],
   "source": []
  }
 ],
 "metadata": {
  "colab": {
   "provenance": []
  },
  "kernelspec": {
   "display_name": "Python 3 (ipykernel)",
   "language": "python",
   "name": "python3"
  },
  "language_info": {
   "codemirror_mode": {
    "name": "ipython",
    "version": 3
   },
   "file_extension": ".py",
   "mimetype": "text/x-python",
   "name": "python",
   "nbconvert_exporter": "python",
   "pygments_lexer": "ipython3",
   "version": "3.12.7"
  }
 },
 "nbformat": 4,
 "nbformat_minor": 4
}
